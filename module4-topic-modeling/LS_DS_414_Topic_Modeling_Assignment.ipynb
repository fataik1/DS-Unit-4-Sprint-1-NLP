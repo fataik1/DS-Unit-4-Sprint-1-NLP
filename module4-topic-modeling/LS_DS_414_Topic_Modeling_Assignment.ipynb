{
 "cells": [
  {
   "cell_type": "markdown",
   "metadata": {},
   "source": [
    "<img align=\"left\" src=\"https://lever-client-logos.s3.amazonaws.com/864372b1-534c-480e-acd5-9711f850815c-1524247202159.png\" width=200>\n",
    "<br></br>\n",
    "<br></br>\n",
    "\n",
    "# Topic Modeling\n",
    "## *Data Science Unit 4 Sprint 1 Assignment 4*\n",
    "\n",
    "Analyze a corpus of Amazon reviews from Unit 4 Sprint 1 Module 1's lecture using topic modeling: \n",
    "\n",
    "- Fit a Gensim LDA topic model on Amazon Reviews\n",
    "- Select appropriate number of topics\n",
    "- Create some dope visualization of the topics\n",
    "- Write a few bullets on your findings in markdown at the end\n",
    "- **Note**: You don't *have* to use generators for this assignment"
   ]
  },
  {
   "cell_type": "code",
   "execution_count": 1,
   "metadata": {},
   "outputs": [],
   "source": [
    "#Start Here\n",
    "import pandas as pd\n",
    "import spacy\n",
    "import re\n",
    "import seaborn as sns\n",
    "from gensim.corpora import Dictionary\n",
    "from gensim.models.ldamulticore import LdaMulticore\n",
    "from gensim.models.coherencemodel import CoherenceModel\n",
    "from spacy.tokenizer import Tokenizer"
   ]
  },
  {
   "cell_type": "code",
   "execution_count": 8,
   "metadata": {},
   "outputs": [],
   "source": [
    "df = pd.read_csv('./data/Datafiniti_Amazon_Consumer_Reviews_of_Amazon_Products_May19.csv')"
   ]
  },
  {
   "cell_type": "code",
   "execution_count": 9,
   "metadata": {},
   "outputs": [
    {
     "name": "stdout",
     "output_type": "stream",
     "text": [
      "(28332, 24)\n"
     ]
    },
    {
     "data": {
      "text/html": [
       "<div>\n",
       "<style scoped>\n",
       "    .dataframe tbody tr th:only-of-type {\n",
       "        vertical-align: middle;\n",
       "    }\n",
       "\n",
       "    .dataframe tbody tr th {\n",
       "        vertical-align: top;\n",
       "    }\n",
       "\n",
       "    .dataframe thead th {\n",
       "        text-align: right;\n",
       "    }\n",
       "</style>\n",
       "<table border=\"1\" class=\"dataframe\">\n",
       "  <thead>\n",
       "    <tr style=\"text-align: right;\">\n",
       "      <th></th>\n",
       "      <th>id</th>\n",
       "      <th>dateAdded</th>\n",
       "      <th>dateUpdated</th>\n",
       "      <th>name</th>\n",
       "      <th>asins</th>\n",
       "      <th>brand</th>\n",
       "      <th>categories</th>\n",
       "      <th>primaryCategories</th>\n",
       "      <th>imageURLs</th>\n",
       "      <th>keys</th>\n",
       "      <th>...</th>\n",
       "      <th>reviews.didPurchase</th>\n",
       "      <th>reviews.doRecommend</th>\n",
       "      <th>reviews.id</th>\n",
       "      <th>reviews.numHelpful</th>\n",
       "      <th>reviews.rating</th>\n",
       "      <th>reviews.sourceURLs</th>\n",
       "      <th>reviews.text</th>\n",
       "      <th>reviews.title</th>\n",
       "      <th>reviews.username</th>\n",
       "      <th>sourceURLs</th>\n",
       "    </tr>\n",
       "  </thead>\n",
       "  <tbody>\n",
       "    <tr>\n",
       "      <th>0</th>\n",
       "      <td>AVpgNzjwLJeJML43Kpxn</td>\n",
       "      <td>2015-10-30T08:59:32Z</td>\n",
       "      <td>2019-04-25T09:08:16Z</td>\n",
       "      <td>AmazonBasics AAA Performance Alkaline Batterie...</td>\n",
       "      <td>B00QWO9P0O,B00LH3DMUO</td>\n",
       "      <td>Amazonbasics</td>\n",
       "      <td>AA,AAA,Health,Electronics,Health &amp; Household,C...</td>\n",
       "      <td>Health &amp; Beauty</td>\n",
       "      <td>https://images-na.ssl-images-amazon.com/images...</td>\n",
       "      <td>amazonbasics/hl002619,amazonbasicsaaaperforman...</td>\n",
       "      <td>...</td>\n",
       "      <td>NaN</td>\n",
       "      <td>NaN</td>\n",
       "      <td>NaN</td>\n",
       "      <td>NaN</td>\n",
       "      <td>3</td>\n",
       "      <td>https://www.amazon.com/product-reviews/B00QWO9...</td>\n",
       "      <td>I order 3 of them and one of the item is bad q...</td>\n",
       "      <td>... 3 of them and one of the item is bad quali...</td>\n",
       "      <td>Byger yang</td>\n",
       "      <td>https://www.barcodable.com/upc/841710106442,ht...</td>\n",
       "    </tr>\n",
       "    <tr>\n",
       "      <th>1</th>\n",
       "      <td>AVpgNzjwLJeJML43Kpxn</td>\n",
       "      <td>2015-10-30T08:59:32Z</td>\n",
       "      <td>2019-04-25T09:08:16Z</td>\n",
       "      <td>AmazonBasics AAA Performance Alkaline Batterie...</td>\n",
       "      <td>B00QWO9P0O,B00LH3DMUO</td>\n",
       "      <td>Amazonbasics</td>\n",
       "      <td>AA,AAA,Health,Electronics,Health &amp; Household,C...</td>\n",
       "      <td>Health &amp; Beauty</td>\n",
       "      <td>https://images-na.ssl-images-amazon.com/images...</td>\n",
       "      <td>amazonbasics/hl002619,amazonbasicsaaaperforman...</td>\n",
       "      <td>...</td>\n",
       "      <td>NaN</td>\n",
       "      <td>NaN</td>\n",
       "      <td>NaN</td>\n",
       "      <td>NaN</td>\n",
       "      <td>4</td>\n",
       "      <td>https://www.amazon.com/product-reviews/B00QWO9...</td>\n",
       "      <td>Bulk is always the less expensive way to go fo...</td>\n",
       "      <td>... always the less expensive way to go for pr...</td>\n",
       "      <td>ByMG</td>\n",
       "      <td>https://www.barcodable.com/upc/841710106442,ht...</td>\n",
       "    </tr>\n",
       "    <tr>\n",
       "      <th>2</th>\n",
       "      <td>AVpgNzjwLJeJML43Kpxn</td>\n",
       "      <td>2015-10-30T08:59:32Z</td>\n",
       "      <td>2019-04-25T09:08:16Z</td>\n",
       "      <td>AmazonBasics AAA Performance Alkaline Batterie...</td>\n",
       "      <td>B00QWO9P0O,B00LH3DMUO</td>\n",
       "      <td>Amazonbasics</td>\n",
       "      <td>AA,AAA,Health,Electronics,Health &amp; Household,C...</td>\n",
       "      <td>Health &amp; Beauty</td>\n",
       "      <td>https://images-na.ssl-images-amazon.com/images...</td>\n",
       "      <td>amazonbasics/hl002619,amazonbasicsaaaperforman...</td>\n",
       "      <td>...</td>\n",
       "      <td>NaN</td>\n",
       "      <td>NaN</td>\n",
       "      <td>NaN</td>\n",
       "      <td>NaN</td>\n",
       "      <td>5</td>\n",
       "      <td>https://www.amazon.com/product-reviews/B00QWO9...</td>\n",
       "      <td>Well they are not Duracell but for the price i...</td>\n",
       "      <td>... are not Duracell but for the price i am ha...</td>\n",
       "      <td>BySharon Lambert</td>\n",
       "      <td>https://www.barcodable.com/upc/841710106442,ht...</td>\n",
       "    </tr>\n",
       "    <tr>\n",
       "      <th>3</th>\n",
       "      <td>AVpgNzjwLJeJML43Kpxn</td>\n",
       "      <td>2015-10-30T08:59:32Z</td>\n",
       "      <td>2019-04-25T09:08:16Z</td>\n",
       "      <td>AmazonBasics AAA Performance Alkaline Batterie...</td>\n",
       "      <td>B00QWO9P0O,B00LH3DMUO</td>\n",
       "      <td>Amazonbasics</td>\n",
       "      <td>AA,AAA,Health,Electronics,Health &amp; Household,C...</td>\n",
       "      <td>Health &amp; Beauty</td>\n",
       "      <td>https://images-na.ssl-images-amazon.com/images...</td>\n",
       "      <td>amazonbasics/hl002619,amazonbasicsaaaperforman...</td>\n",
       "      <td>...</td>\n",
       "      <td>NaN</td>\n",
       "      <td>NaN</td>\n",
       "      <td>NaN</td>\n",
       "      <td>NaN</td>\n",
       "      <td>5</td>\n",
       "      <td>https://www.amazon.com/product-reviews/B00QWO9...</td>\n",
       "      <td>Seem to work as well as name brand batteries a...</td>\n",
       "      <td>... as well as name brand batteries at a much ...</td>\n",
       "      <td>Bymark sexson</td>\n",
       "      <td>https://www.barcodable.com/upc/841710106442,ht...</td>\n",
       "    </tr>\n",
       "    <tr>\n",
       "      <th>4</th>\n",
       "      <td>AVpgNzjwLJeJML43Kpxn</td>\n",
       "      <td>2015-10-30T08:59:32Z</td>\n",
       "      <td>2019-04-25T09:08:16Z</td>\n",
       "      <td>AmazonBasics AAA Performance Alkaline Batterie...</td>\n",
       "      <td>B00QWO9P0O,B00LH3DMUO</td>\n",
       "      <td>Amazonbasics</td>\n",
       "      <td>AA,AAA,Health,Electronics,Health &amp; Household,C...</td>\n",
       "      <td>Health &amp; Beauty</td>\n",
       "      <td>https://images-na.ssl-images-amazon.com/images...</td>\n",
       "      <td>amazonbasics/hl002619,amazonbasicsaaaperforman...</td>\n",
       "      <td>...</td>\n",
       "      <td>NaN</td>\n",
       "      <td>NaN</td>\n",
       "      <td>NaN</td>\n",
       "      <td>NaN</td>\n",
       "      <td>5</td>\n",
       "      <td>https://www.amazon.com/product-reviews/B00QWO9...</td>\n",
       "      <td>These batteries are very long lasting the pric...</td>\n",
       "      <td>... batteries are very long lasting the price ...</td>\n",
       "      <td>Bylinda</td>\n",
       "      <td>https://www.barcodable.com/upc/841710106442,ht...</td>\n",
       "    </tr>\n",
       "  </tbody>\n",
       "</table>\n",
       "<p>5 rows × 24 columns</p>\n",
       "</div>"
      ],
      "text/plain": [
       "                     id             dateAdded           dateUpdated  \\\n",
       "0  AVpgNzjwLJeJML43Kpxn  2015-10-30T08:59:32Z  2019-04-25T09:08:16Z   \n",
       "1  AVpgNzjwLJeJML43Kpxn  2015-10-30T08:59:32Z  2019-04-25T09:08:16Z   \n",
       "2  AVpgNzjwLJeJML43Kpxn  2015-10-30T08:59:32Z  2019-04-25T09:08:16Z   \n",
       "3  AVpgNzjwLJeJML43Kpxn  2015-10-30T08:59:32Z  2019-04-25T09:08:16Z   \n",
       "4  AVpgNzjwLJeJML43Kpxn  2015-10-30T08:59:32Z  2019-04-25T09:08:16Z   \n",
       "\n",
       "                                                name                  asins  \\\n",
       "0  AmazonBasics AAA Performance Alkaline Batterie...  B00QWO9P0O,B00LH3DMUO   \n",
       "1  AmazonBasics AAA Performance Alkaline Batterie...  B00QWO9P0O,B00LH3DMUO   \n",
       "2  AmazonBasics AAA Performance Alkaline Batterie...  B00QWO9P0O,B00LH3DMUO   \n",
       "3  AmazonBasics AAA Performance Alkaline Batterie...  B00QWO9P0O,B00LH3DMUO   \n",
       "4  AmazonBasics AAA Performance Alkaline Batterie...  B00QWO9P0O,B00LH3DMUO   \n",
       "\n",
       "          brand                                         categories  \\\n",
       "0  Amazonbasics  AA,AAA,Health,Electronics,Health & Household,C...   \n",
       "1  Amazonbasics  AA,AAA,Health,Electronics,Health & Household,C...   \n",
       "2  Amazonbasics  AA,AAA,Health,Electronics,Health & Household,C...   \n",
       "3  Amazonbasics  AA,AAA,Health,Electronics,Health & Household,C...   \n",
       "4  Amazonbasics  AA,AAA,Health,Electronics,Health & Household,C...   \n",
       "\n",
       "  primaryCategories                                          imageURLs  \\\n",
       "0   Health & Beauty  https://images-na.ssl-images-amazon.com/images...   \n",
       "1   Health & Beauty  https://images-na.ssl-images-amazon.com/images...   \n",
       "2   Health & Beauty  https://images-na.ssl-images-amazon.com/images...   \n",
       "3   Health & Beauty  https://images-na.ssl-images-amazon.com/images...   \n",
       "4   Health & Beauty  https://images-na.ssl-images-amazon.com/images...   \n",
       "\n",
       "                                                keys  ... reviews.didPurchase  \\\n",
       "0  amazonbasics/hl002619,amazonbasicsaaaperforman...  ...                 NaN   \n",
       "1  amazonbasics/hl002619,amazonbasicsaaaperforman...  ...                 NaN   \n",
       "2  amazonbasics/hl002619,amazonbasicsaaaperforman...  ...                 NaN   \n",
       "3  amazonbasics/hl002619,amazonbasicsaaaperforman...  ...                 NaN   \n",
       "4  amazonbasics/hl002619,amazonbasicsaaaperforman...  ...                 NaN   \n",
       "\n",
       "  reviews.doRecommend reviews.id reviews.numHelpful reviews.rating  \\\n",
       "0                 NaN        NaN                NaN              3   \n",
       "1                 NaN        NaN                NaN              4   \n",
       "2                 NaN        NaN                NaN              5   \n",
       "3                 NaN        NaN                NaN              5   \n",
       "4                 NaN        NaN                NaN              5   \n",
       "\n",
       "                                  reviews.sourceURLs  \\\n",
       "0  https://www.amazon.com/product-reviews/B00QWO9...   \n",
       "1  https://www.amazon.com/product-reviews/B00QWO9...   \n",
       "2  https://www.amazon.com/product-reviews/B00QWO9...   \n",
       "3  https://www.amazon.com/product-reviews/B00QWO9...   \n",
       "4  https://www.amazon.com/product-reviews/B00QWO9...   \n",
       "\n",
       "                                        reviews.text  \\\n",
       "0  I order 3 of them and one of the item is bad q...   \n",
       "1  Bulk is always the less expensive way to go fo...   \n",
       "2  Well they are not Duracell but for the price i...   \n",
       "3  Seem to work as well as name brand batteries a...   \n",
       "4  These batteries are very long lasting the pric...   \n",
       "\n",
       "                                       reviews.title  reviews.username  \\\n",
       "0  ... 3 of them and one of the item is bad quali...        Byger yang   \n",
       "1  ... always the less expensive way to go for pr...              ByMG   \n",
       "2  ... are not Duracell but for the price i am ha...  BySharon Lambert   \n",
       "3  ... as well as name brand batteries at a much ...     Bymark sexson   \n",
       "4  ... batteries are very long lasting the price ...           Bylinda   \n",
       "\n",
       "                                          sourceURLs  \n",
       "0  https://www.barcodable.com/upc/841710106442,ht...  \n",
       "1  https://www.barcodable.com/upc/841710106442,ht...  \n",
       "2  https://www.barcodable.com/upc/841710106442,ht...  \n",
       "3  https://www.barcodable.com/upc/841710106442,ht...  \n",
       "4  https://www.barcodable.com/upc/841710106442,ht...  \n",
       "\n",
       "[5 rows x 24 columns]"
      ]
     },
     "execution_count": 9,
     "metadata": {},
     "output_type": "execute_result"
    }
   ],
   "source": [
    "print(df.shape)\n",
    "df.head()"
   ]
  },
  {
   "cell_type": "code",
   "execution_count": 10,
   "metadata": {},
   "outputs": [
    {
     "data": {
      "text/plain": [
       "Electronics                    13995\n",
       "Health & Beauty                12071\n",
       "Toys & Games,Electronics        1676\n",
       "Office Supplies,Electronics      386\n",
       "Electronics,Media                185\n",
       "Office Supplies                    9\n",
       "Animals & Pet Supplies             6\n",
       "Home & Garden                      2\n",
       "Electronics,Furniture              2\n",
       "Name: primaryCategories, dtype: int64"
      ]
     },
     "execution_count": 10,
     "metadata": {},
     "output_type": "execute_result"
    }
   ],
   "source": [
    "# View Categories.\n",
    "df['primaryCategories'].value_counts()"
   ]
  },
  {
   "cell_type": "code",
   "execution_count": 11,
   "metadata": {},
   "outputs": [
    {
     "name": "stdout",
     "output_type": "stream",
     "text": [
      "(12071, 24)\n"
     ]
    },
    {
     "data": {
      "text/html": [
       "<div>\n",
       "<style scoped>\n",
       "    .dataframe tbody tr th:only-of-type {\n",
       "        vertical-align: middle;\n",
       "    }\n",
       "\n",
       "    .dataframe tbody tr th {\n",
       "        vertical-align: top;\n",
       "    }\n",
       "\n",
       "    .dataframe thead th {\n",
       "        text-align: right;\n",
       "    }\n",
       "</style>\n",
       "<table border=\"1\" class=\"dataframe\">\n",
       "  <thead>\n",
       "    <tr style=\"text-align: right;\">\n",
       "      <th></th>\n",
       "      <th>id</th>\n",
       "      <th>dateAdded</th>\n",
       "      <th>dateUpdated</th>\n",
       "      <th>name</th>\n",
       "      <th>asins</th>\n",
       "      <th>brand</th>\n",
       "      <th>categories</th>\n",
       "      <th>primaryCategories</th>\n",
       "      <th>imageURLs</th>\n",
       "      <th>keys</th>\n",
       "      <th>...</th>\n",
       "      <th>reviews.didPurchase</th>\n",
       "      <th>reviews.doRecommend</th>\n",
       "      <th>reviews.id</th>\n",
       "      <th>reviews.numHelpful</th>\n",
       "      <th>reviews.rating</th>\n",
       "      <th>reviews.sourceURLs</th>\n",
       "      <th>reviews.text</th>\n",
       "      <th>reviews.title</th>\n",
       "      <th>reviews.username</th>\n",
       "      <th>sourceURLs</th>\n",
       "    </tr>\n",
       "  </thead>\n",
       "  <tbody>\n",
       "    <tr>\n",
       "      <th>0</th>\n",
       "      <td>AVpgNzjwLJeJML43Kpxn</td>\n",
       "      <td>2015-10-30T08:59:32Z</td>\n",
       "      <td>2019-04-25T09:08:16Z</td>\n",
       "      <td>AmazonBasics AAA Performance Alkaline Batterie...</td>\n",
       "      <td>B00QWO9P0O,B00LH3DMUO</td>\n",
       "      <td>Amazonbasics</td>\n",
       "      <td>AA,AAA,Health,Electronics,Health &amp; Household,C...</td>\n",
       "      <td>Health &amp; Beauty</td>\n",
       "      <td>https://images-na.ssl-images-amazon.com/images...</td>\n",
       "      <td>amazonbasics/hl002619,amazonbasicsaaaperforman...</td>\n",
       "      <td>...</td>\n",
       "      <td>NaN</td>\n",
       "      <td>NaN</td>\n",
       "      <td>NaN</td>\n",
       "      <td>NaN</td>\n",
       "      <td>3</td>\n",
       "      <td>https://www.amazon.com/product-reviews/B00QWO9...</td>\n",
       "      <td>I order 3 of them and one of the item is bad q...</td>\n",
       "      <td>... 3 of them and one of the item is bad quali...</td>\n",
       "      <td>Byger yang</td>\n",
       "      <td>https://www.barcodable.com/upc/841710106442,ht...</td>\n",
       "    </tr>\n",
       "    <tr>\n",
       "      <th>1</th>\n",
       "      <td>AVpgNzjwLJeJML43Kpxn</td>\n",
       "      <td>2015-10-30T08:59:32Z</td>\n",
       "      <td>2019-04-25T09:08:16Z</td>\n",
       "      <td>AmazonBasics AAA Performance Alkaline Batterie...</td>\n",
       "      <td>B00QWO9P0O,B00LH3DMUO</td>\n",
       "      <td>Amazonbasics</td>\n",
       "      <td>AA,AAA,Health,Electronics,Health &amp; Household,C...</td>\n",
       "      <td>Health &amp; Beauty</td>\n",
       "      <td>https://images-na.ssl-images-amazon.com/images...</td>\n",
       "      <td>amazonbasics/hl002619,amazonbasicsaaaperforman...</td>\n",
       "      <td>...</td>\n",
       "      <td>NaN</td>\n",
       "      <td>NaN</td>\n",
       "      <td>NaN</td>\n",
       "      <td>NaN</td>\n",
       "      <td>4</td>\n",
       "      <td>https://www.amazon.com/product-reviews/B00QWO9...</td>\n",
       "      <td>Bulk is always the less expensive way to go fo...</td>\n",
       "      <td>... always the less expensive way to go for pr...</td>\n",
       "      <td>ByMG</td>\n",
       "      <td>https://www.barcodable.com/upc/841710106442,ht...</td>\n",
       "    </tr>\n",
       "    <tr>\n",
       "      <th>2</th>\n",
       "      <td>AVpgNzjwLJeJML43Kpxn</td>\n",
       "      <td>2015-10-30T08:59:32Z</td>\n",
       "      <td>2019-04-25T09:08:16Z</td>\n",
       "      <td>AmazonBasics AAA Performance Alkaline Batterie...</td>\n",
       "      <td>B00QWO9P0O,B00LH3DMUO</td>\n",
       "      <td>Amazonbasics</td>\n",
       "      <td>AA,AAA,Health,Electronics,Health &amp; Household,C...</td>\n",
       "      <td>Health &amp; Beauty</td>\n",
       "      <td>https://images-na.ssl-images-amazon.com/images...</td>\n",
       "      <td>amazonbasics/hl002619,amazonbasicsaaaperforman...</td>\n",
       "      <td>...</td>\n",
       "      <td>NaN</td>\n",
       "      <td>NaN</td>\n",
       "      <td>NaN</td>\n",
       "      <td>NaN</td>\n",
       "      <td>5</td>\n",
       "      <td>https://www.amazon.com/product-reviews/B00QWO9...</td>\n",
       "      <td>Well they are not Duracell but for the price i...</td>\n",
       "      <td>... are not Duracell but for the price i am ha...</td>\n",
       "      <td>BySharon Lambert</td>\n",
       "      <td>https://www.barcodable.com/upc/841710106442,ht...</td>\n",
       "    </tr>\n",
       "    <tr>\n",
       "      <th>3</th>\n",
       "      <td>AVpgNzjwLJeJML43Kpxn</td>\n",
       "      <td>2015-10-30T08:59:32Z</td>\n",
       "      <td>2019-04-25T09:08:16Z</td>\n",
       "      <td>AmazonBasics AAA Performance Alkaline Batterie...</td>\n",
       "      <td>B00QWO9P0O,B00LH3DMUO</td>\n",
       "      <td>Amazonbasics</td>\n",
       "      <td>AA,AAA,Health,Electronics,Health &amp; Household,C...</td>\n",
       "      <td>Health &amp; Beauty</td>\n",
       "      <td>https://images-na.ssl-images-amazon.com/images...</td>\n",
       "      <td>amazonbasics/hl002619,amazonbasicsaaaperforman...</td>\n",
       "      <td>...</td>\n",
       "      <td>NaN</td>\n",
       "      <td>NaN</td>\n",
       "      <td>NaN</td>\n",
       "      <td>NaN</td>\n",
       "      <td>5</td>\n",
       "      <td>https://www.amazon.com/product-reviews/B00QWO9...</td>\n",
       "      <td>Seem to work as well as name brand batteries a...</td>\n",
       "      <td>... as well as name brand batteries at a much ...</td>\n",
       "      <td>Bymark sexson</td>\n",
       "      <td>https://www.barcodable.com/upc/841710106442,ht...</td>\n",
       "    </tr>\n",
       "    <tr>\n",
       "      <th>4</th>\n",
       "      <td>AVpgNzjwLJeJML43Kpxn</td>\n",
       "      <td>2015-10-30T08:59:32Z</td>\n",
       "      <td>2019-04-25T09:08:16Z</td>\n",
       "      <td>AmazonBasics AAA Performance Alkaline Batterie...</td>\n",
       "      <td>B00QWO9P0O,B00LH3DMUO</td>\n",
       "      <td>Amazonbasics</td>\n",
       "      <td>AA,AAA,Health,Electronics,Health &amp; Household,C...</td>\n",
       "      <td>Health &amp; Beauty</td>\n",
       "      <td>https://images-na.ssl-images-amazon.com/images...</td>\n",
       "      <td>amazonbasics/hl002619,amazonbasicsaaaperforman...</td>\n",
       "      <td>...</td>\n",
       "      <td>NaN</td>\n",
       "      <td>NaN</td>\n",
       "      <td>NaN</td>\n",
       "      <td>NaN</td>\n",
       "      <td>5</td>\n",
       "      <td>https://www.amazon.com/product-reviews/B00QWO9...</td>\n",
       "      <td>These batteries are very long lasting the pric...</td>\n",
       "      <td>... batteries are very long lasting the price ...</td>\n",
       "      <td>Bylinda</td>\n",
       "      <td>https://www.barcodable.com/upc/841710106442,ht...</td>\n",
       "    </tr>\n",
       "  </tbody>\n",
       "</table>\n",
       "<p>5 rows × 24 columns</p>\n",
       "</div>"
      ],
      "text/plain": [
       "                     id             dateAdded           dateUpdated  \\\n",
       "0  AVpgNzjwLJeJML43Kpxn  2015-10-30T08:59:32Z  2019-04-25T09:08:16Z   \n",
       "1  AVpgNzjwLJeJML43Kpxn  2015-10-30T08:59:32Z  2019-04-25T09:08:16Z   \n",
       "2  AVpgNzjwLJeJML43Kpxn  2015-10-30T08:59:32Z  2019-04-25T09:08:16Z   \n",
       "3  AVpgNzjwLJeJML43Kpxn  2015-10-30T08:59:32Z  2019-04-25T09:08:16Z   \n",
       "4  AVpgNzjwLJeJML43Kpxn  2015-10-30T08:59:32Z  2019-04-25T09:08:16Z   \n",
       "\n",
       "                                                name                  asins  \\\n",
       "0  AmazonBasics AAA Performance Alkaline Batterie...  B00QWO9P0O,B00LH3DMUO   \n",
       "1  AmazonBasics AAA Performance Alkaline Batterie...  B00QWO9P0O,B00LH3DMUO   \n",
       "2  AmazonBasics AAA Performance Alkaline Batterie...  B00QWO9P0O,B00LH3DMUO   \n",
       "3  AmazonBasics AAA Performance Alkaline Batterie...  B00QWO9P0O,B00LH3DMUO   \n",
       "4  AmazonBasics AAA Performance Alkaline Batterie...  B00QWO9P0O,B00LH3DMUO   \n",
       "\n",
       "          brand                                         categories  \\\n",
       "0  Amazonbasics  AA,AAA,Health,Electronics,Health & Household,C...   \n",
       "1  Amazonbasics  AA,AAA,Health,Electronics,Health & Household,C...   \n",
       "2  Amazonbasics  AA,AAA,Health,Electronics,Health & Household,C...   \n",
       "3  Amazonbasics  AA,AAA,Health,Electronics,Health & Household,C...   \n",
       "4  Amazonbasics  AA,AAA,Health,Electronics,Health & Household,C...   \n",
       "\n",
       "  primaryCategories                                          imageURLs  \\\n",
       "0   Health & Beauty  https://images-na.ssl-images-amazon.com/images...   \n",
       "1   Health & Beauty  https://images-na.ssl-images-amazon.com/images...   \n",
       "2   Health & Beauty  https://images-na.ssl-images-amazon.com/images...   \n",
       "3   Health & Beauty  https://images-na.ssl-images-amazon.com/images...   \n",
       "4   Health & Beauty  https://images-na.ssl-images-amazon.com/images...   \n",
       "\n",
       "                                                keys  ... reviews.didPurchase  \\\n",
       "0  amazonbasics/hl002619,amazonbasicsaaaperforman...  ...                 NaN   \n",
       "1  amazonbasics/hl002619,amazonbasicsaaaperforman...  ...                 NaN   \n",
       "2  amazonbasics/hl002619,amazonbasicsaaaperforman...  ...                 NaN   \n",
       "3  amazonbasics/hl002619,amazonbasicsaaaperforman...  ...                 NaN   \n",
       "4  amazonbasics/hl002619,amazonbasicsaaaperforman...  ...                 NaN   \n",
       "\n",
       "  reviews.doRecommend reviews.id reviews.numHelpful reviews.rating  \\\n",
       "0                 NaN        NaN                NaN              3   \n",
       "1                 NaN        NaN                NaN              4   \n",
       "2                 NaN        NaN                NaN              5   \n",
       "3                 NaN        NaN                NaN              5   \n",
       "4                 NaN        NaN                NaN              5   \n",
       "\n",
       "                                  reviews.sourceURLs  \\\n",
       "0  https://www.amazon.com/product-reviews/B00QWO9...   \n",
       "1  https://www.amazon.com/product-reviews/B00QWO9...   \n",
       "2  https://www.amazon.com/product-reviews/B00QWO9...   \n",
       "3  https://www.amazon.com/product-reviews/B00QWO9...   \n",
       "4  https://www.amazon.com/product-reviews/B00QWO9...   \n",
       "\n",
       "                                        reviews.text  \\\n",
       "0  I order 3 of them and one of the item is bad q...   \n",
       "1  Bulk is always the less expensive way to go fo...   \n",
       "2  Well they are not Duracell but for the price i...   \n",
       "3  Seem to work as well as name brand batteries a...   \n",
       "4  These batteries are very long lasting the pric...   \n",
       "\n",
       "                                       reviews.title  reviews.username  \\\n",
       "0  ... 3 of them and one of the item is bad quali...        Byger yang   \n",
       "1  ... always the less expensive way to go for pr...              ByMG   \n",
       "2  ... are not Duracell but for the price i am ha...  BySharon Lambert   \n",
       "3  ... as well as name brand batteries at a much ...     Bymark sexson   \n",
       "4  ... batteries are very long lasting the price ...           Bylinda   \n",
       "\n",
       "                                          sourceURLs  \n",
       "0  https://www.barcodable.com/upc/841710106442,ht...  \n",
       "1  https://www.barcodable.com/upc/841710106442,ht...  \n",
       "2  https://www.barcodable.com/upc/841710106442,ht...  \n",
       "3  https://www.barcodable.com/upc/841710106442,ht...  \n",
       "4  https://www.barcodable.com/upc/841710106442,ht...  \n",
       "\n",
       "[5 rows x 24 columns]"
      ]
     },
     "execution_count": 11,
     "metadata": {},
     "output_type": "execute_result"
    }
   ],
   "source": [
    "# Let's select Health & Beauty to look at reviews.\n",
    "df = df[df['primaryCategories'] == 'Health & Beauty'].copy()\n",
    "print(df.shape)\n",
    "df.head()\n"
   ]
  },
  {
   "cell_type": "code",
   "execution_count": 12,
   "metadata": {},
   "outputs": [],
   "source": [
    "# Now let's use Spacy to tokenize.\n",
    "nlp = spacy.load(\"en_core_web_lg\")\n",
    "tokenizer = Tokenizer(nlp.vocab)"
   ]
  },
  {
   "cell_type": "code",
   "execution_count": 13,
   "metadata": {},
   "outputs": [],
   "source": [
    "STOP_WORDS = nlp.Defaults.stop_words.union([\"amazon\",\"battery\",\"duracell\",\"batteries.\",\"batteries,\",\"batteries\",\"price.\"])"
   ]
  },
  {
   "cell_type": "code",
   "execution_count": 14,
   "metadata": {},
   "outputs": [],
   "source": [
    "tokens = []\n",
    "\n",
    "for doc in tokenizer.pipe(df['reviews.text'], batch_size=500):\n",
    "    \n",
    "    doc_tokens = []\n",
    "    \n",
    "    for token in doc:\n",
    "        if (token.text.lower() not in STOP_WORDS) and (token.is_punct == False):\n",
    "            doc_tokens.append(token.lemma_.lower())\n",
    "            \n",
    "    tokens.append(doc_tokens)\n",
    "        \n",
    "df['tokens'] = tokens"
   ]
  },
  {
   "cell_type": "code",
   "execution_count": 15,
   "metadata": {},
   "outputs": [
    {
     "data": {
      "text/plain": [
       "0    [order, 3, item, bad, quality., miss, backup, ...\n",
       "1                [bulk, expensive, way, product, like]\n",
       "2                                      [price, happy.]\n",
       "3                           [work, brand, well, price]\n",
       "4                          [long, last, price, great.]\n",
       "Name: tokens, dtype: object"
      ]
     },
     "execution_count": 15,
     "metadata": {},
     "output_type": "execute_result"
    }
   ],
   "source": [
    "df['tokens'].head()"
   ]
  },
  {
   "cell_type": "code",
   "execution_count": 16,
   "metadata": {},
   "outputs": [
    {
     "name": "stdout",
     "output_type": "stream",
     "text": [
      "9803\n"
     ]
    }
   ],
   "source": [
    "# Gensim dictionary.\n",
    "id2word = Dictionary(df['tokens'])\n",
    "print(len(id2word))"
   ]
  },
  {
   "cell_type": "code",
   "execution_count": 17,
   "metadata": {},
   "outputs": [
    {
     "name": "stdout",
     "output_type": "stream",
     "text": [
      "day\n",
      "savings!\n",
      "thanks..\n"
     ]
    }
   ],
   "source": [
    "print(id2word[106])\n",
    "print(id2word[5000])\n",
    "print(id2word[204])\n"
   ]
  },
  {
   "cell_type": "code",
   "execution_count": 18,
   "metadata": {},
   "outputs": [
    {
     "name": "stdout",
     "output_type": "stream",
     "text": [
      "9803\n"
     ]
    }
   ],
   "source": [
    "print(len(id2word))\n"
   ]
  },
  {
   "cell_type": "code",
   "execution_count": 19,
   "metadata": {},
   "outputs": [],
   "source": [
    "corpus = [id2word.doc2bow(token) for token in df['tokens']]\n"
   ]
  },
  {
   "cell_type": "code",
   "execution_count": 20,
   "metadata": {},
   "outputs": [
    {
     "data": {
      "text/plain": [
       "12071"
      ]
     },
     "execution_count": 20,
     "metadata": {},
     "output_type": "execute_result"
    }
   ],
   "source": [
    "len(corpus)\n"
   ]
  },
  {
   "cell_type": "code",
   "execution_count": 23,
   "metadata": {},
   "outputs": [
    {
     "data": {
      "text/plain": [
       "11"
      ]
     },
     "execution_count": 23,
     "metadata": {},
     "output_type": "execute_result"
    }
   ],
   "source": [
    "len(corpus[0])\n"
   ]
  },
  {
   "cell_type": "code",
   "execution_count": 24,
   "metadata": {},
   "outputs": [
    {
     "data": {
      "text/plain": [
       "[(0, 1),\n",
       " (1, 1),\n",
       " (2, 1),\n",
       " (3, 1),\n",
       " (4, 1),\n",
       " (5, 1),\n",
       " (6, 1),\n",
       " (7, 1),\n",
       " (8, 1),\n",
       " (9, 1),\n",
       " (10, 1)]"
      ]
     },
     "execution_count": 24,
     "metadata": {},
     "output_type": "execute_result"
    }
   ],
   "source": [
    "corpus[0]\n"
   ]
  },
  {
   "cell_type": "code",
   "execution_count": 25,
   "metadata": {},
   "outputs": [],
   "source": [
    "lda_model = LdaMulticore(\n",
    "    corpus=corpus, \n",
    "    num_topics=5, \n",
    "    id2word=id2word, \n",
    "    workers=4, \n",
    "    passes=5)"
   ]
  },
  {
   "cell_type": "code",
   "execution_count": 26,
   "metadata": {},
   "outputs": [
    {
     "data": {
      "text/plain": [
       "[(0,\n",
       "  '0.068*\"great\" + 0.035*\"work\" + 0.027*\"price\" + 0.019*\"buy\" + 0.017*\"long\" + 0.012*\"use\" + 0.009*\"price!\" + 0.009*\"product\" + 0.008*\"purchase\" + 0.008*\"quality\"'),\n",
       " (1,\n",
       "  '0.070*\"good\" + 0.038*\"long\" + 0.026*\"brand\" + 0.020*\"price\" + 0.017*\"great\" + 0.015*\"work\" + 0.012*\"well\" + 0.011*\"buy\" + 0.010*\"don\\'t\" + 0.009*\"like\"'),\n",
       " (2,\n",
       "  '0.025*\"buy\" + 0.016*\"work\" + 0.015*\"brand\" + 0.015*\"like\" + 0.009*\"aa\" + 0.009*\"long\" + 0.009*\"don\\'t\" + 0.008*\"package\" + 0.007*\"get\" + 0.007*\"aaa\"'),\n",
       " (3,\n",
       "  '0.022*\"work\" + 0.020*\"great\" + 0.014*\"love\" + 0.009*\"good\" + 0.009*\"long\" + 0.009*\"price\" + 0.009*\"buy\" + 0.008*\"come\" + 0.008*\"use\" + 0.007*\"great!\"'),\n",
       " (4,\n",
       "  '0.046*\"great\" + 0.032*\"good\" + 0.016*\"deal\" + 0.015*\"price\" + 0.012*\"far\" + 0.012*\"long\" + 0.011*\"buy\" + 0.009*\"i\\'ve\" + 0.009*\"time\" + 0.009*\"i\\'m\"')]"
      ]
     },
     "execution_count": 26,
     "metadata": {},
     "output_type": "execute_result"
    }
   ],
   "source": [
    "lda_model.print_topics()\n"
   ]
  },
  {
   "cell_type": "code",
   "execution_count": 27,
   "metadata": {},
   "outputs": [
    {
     "name": "stdout",
     "output_type": "stream",
     "text": [
      "------ Topic 0 ------\n",
      "great work price buy long\n",
      "\n",
      "------ Topic 1 ------\n",
      "good long brand price great\n",
      "\n",
      "------ Topic 2 ------\n",
      "buy work brand like aa\n",
      "\n",
      "------ Topic 3 ------\n",
      "work great love good long\n",
      "\n",
      "------ Topic 4 ------\n",
      "great good deal price far\n",
      "\n"
     ]
    }
   ],
   "source": [
    "words = [re.findall(r'\"([^\"]*)\"',t[1]) for t in lda_model.print_topics()]\n",
    "topics = [' '.join(t[0:5]) for t in words]\n",
    "\n",
    "for id, t in enumerate(topics): \n",
    "    print(f\"------ Topic {id} ------\")\n",
    "    print(t, end=\"\\n\\n\")"
   ]
  },
  {
   "cell_type": "code",
   "execution_count": 28,
   "metadata": {},
   "outputs": [],
   "source": [
    "# Now let's make the \"dope\" visualizations.\n",
    "distro = [lda_model[d] for d in corpus]\n",
    "num_topics = 4\n",
    "\n",
    "def update(doc):\n",
    "        d_dist = {k:0 for k in range(0,num_topics)}\n",
    "        for topic in doc:\n",
    "            d_dist[topic[0]] = topic[1]\n",
    "        return d_dist\n",
    "    \n",
    "new_distro = [update(d) for d in distro]\n"
   ]
  },
  {
   "cell_type": "code",
   "execution_count": 29,
   "metadata": {},
   "outputs": [
    {
     "data": {
      "text/html": [
       "\n",
       "<link rel=\"stylesheet\" type=\"text/css\" href=\"https://cdn.rawgit.com/bmabey/pyLDAvis/files/ldavis.v1.0.0.css\">\n",
       "\n",
       "\n",
       "<div id=\"ldavis_el1632418235034899286102899286\"></div>\n",
       "<script type=\"text/javascript\">\n",
       "\n",
       "var ldavis_el1632418235034899286102899286_data = {\"mdsDat\": {\"x\": [0.08439108315065569, -0.0684459405953767, 0.015088716300847146, 0.05286572268832671, -0.0838995815444529], \"y\": [0.04763757840274042, 0.08377945146054443, -0.020853927653032928, -0.05299123585866705, -0.057571866351584844], \"topics\": [1, 2, 3, 4, 5], \"cluster\": [1, 1, 1, 1, 1], \"Freq\": [24.736040115356445, 22.987709045410156, 22.00436782836914, 16.463603973388672, 13.808282852172852]}, \"tinfo\": {\"Term\": [\"good\", \"great\", \"deal\", \"price\", \"love\", \"work\", \"price!\", \"long\", \"far\", \"great!\", \"brand\", \"well\", \"come\", \"aa\", \"value\", \"works\", \"excellent\", \"like\", \"great,\", \"deal.\", \"price,\", \"i'm\", \"i've\", \"product.\", \"batteries!\", \"deal,\", \"awesome\", \"package\", \"well.\", \"thank\", \"rayovacs\", \"national\", \"nice!\", \"toothbrush\", \"volume\", \"described!\", \"walmart\", \"flashes,\", \"works.\", \"name\", \"value!!\", \"ma\", \"last!\", \"guy\", \"purchase!\", \"capacity\", \"long-lasting.\", \"expected!\", \"rayovacs,\", \"okay\", \"prices,\", \"pricey\", \"toothbrushes.\", \"ninja\", \"extrapolate\", \"calculation\", \"(mwh),\", \"logo\", \"99cent\", \"see.\", \"test.\", \"acdelco\", \"good\", \"energizer.\", \"batteries!\", \"result\", \"long\", \"fraction\", \"test\", \"well\", \"mah\", \"brand\", \"coppertops\", \"value\", \"expect\", \"brands.\", \"product,\", \"cost\", \"price\", \"don't\", \"quality\", \"love\", \"bite\", \"order\", \"high\", \"low\", \"compare\", \"like\", \"big\", \"last\", \"value.\", \"work\", \"product\", \"use\", \"store\", \"great\", \"buy\", \"expensive\", \"cheap\", \"works\", \"time\", \"i've\", \"ok\", \"damn\", \"indicator\", \"usa\", \"pressure\", \"blood\", \"weird\", \"gonna\", \"lightning\", \"ordered.\", \"literally\", \"something.\", \"charger.\", \"yup.\", \"x\", \"competition.i\", \"duds.\", \"circle\", \"copper-top\", \"mean,\", \"place.\", \"pull\", \"terminal\", \"shortest\", \"mean...\", \"span.\", \"said.\", \"shot.\", \"bat\", \"insane\", \"world.\", \"promise\", \"1/4\", \"leak.\", \"candle.\", \"sensor\", \"control\", \"acid\", \"home.\", \"know,\", \"done.\", \"aa\", \"electronic\", \"leak\", \"package\", \"like\", \"get\", \"aaa\", \"longevity\", \"buy\", \"alkaline\", \"small\", \"problem\", \"set\", \"again.\", \"didn't\", \"job\", \"life\", \"box\", \"these.\", \"i'll\", \"fine.\", \"don't\", \"doesn't\", \"brand\", \"lot\", \"open\", \"work\", \"week\", \"month\", \"remote\", \"purchase\", \"try\", \"long\", \"time\", \"go\", \"use\", \"run\", \"2\", \"order\", \"need\", \"good\", \"can't\", \"think\", \"advertise\", \"everything.\", \"four,\", \"brush\", \"device)\", \"cheaper,\", \"date.\", \"room.\", \"case,\", \"buzz\", \"window.\", \"good!!!\", \"quickly!\", \"for...\", \"tv.\", \"excellent!\", \"friendly\", \"worse,\", \"row\", \"horribly\", \"(energizers\", \"expire\", \"steal.\", \"delivery!\", \"everyday\", \"failed.\", \"rated\", \"class\", \"weekly.\", \"garage\", \"point.\", \"life...\", \"bag\", \"gas\", \"price!\", \"awesome\", \"priced.\", \"trail\", \"good!\", \"excellent\", \"great\", \"well.\", \"beat\", \"quickly.\", \"reasonably\", \"great.\", \"work\", \"nice\", \"price\", \"value!\", \"they're\", \"item\", \"we'll\", \"product\", \"use\", \"all.\", \"purchase\", \"8\", \"quality\", \"need\", \"buy\", \"can't\", \"fine\", \"go\", \"cheap\", \"long\", \"last\", \"pack\", \"value\", \"remote\", \"lot\", \"amazonbasics\", \"far\", \"aa\", \"don't\", \"brand\", \"like\", \"screw\", \"company\", \"excellent.\", \"value!!!\", \"battery's.\", \"market.\", \"toddlers.\", \"twin\", \"subscription.\", \"sanity.\", \"energenizer\", \"kids'\", \"product!\", \"gotta\", \"bunch.\", \"adequate\", \"suit\", \"exception.\", \"described,\", \"el\", \"speak\", \"durable\", \"around!\", \"needed,\", \"wrapped.\", \"manage\", \"sams\", \"version.\", \"process.\", \"duracel.\", \"deal\", \"quality!\", \"off-brand\", \"satisfied.\", \"output\", \"bargain!\", \"product.\", \"far\", \"perfect\", \"power.\", \"price,\", \"ok.\", \"reliable\", \"i'm\", \"great\", \"i've\", \"lots\", \"far.\", \"works\", \"haven't\", \"good\", \"good.\", \"think\", \"time\", \"buy!\", \"come\", \"toy\", \"it's\", \"price\", \"quality,\", \"cheap\", \"comparable\", \"buy\", \"long\", \"fast\", \"well\", \"worth\", \"last\", \"need\", \"brand\", \"work\", \"high\", \"purchase\", \"value\", \"lot\", \"use\", \"work!\", \"deal,\", \"batterys\", \"power!\", \"deal!!!\", \"maintain\", \"report\", \"duty\", \"nest\", \"excellent,\", \"wanted.\", \"great,\", \"buck.\", \"bicycle\", \"o\", \"opportunity\", \"buck!\", \"november\", \"decorations.\", \"say!\", \"ray\", \"unbelievable\", \"fun\", \"packaging!\", \"excelent\", \"flashlight,\", \"too!!\", \"top,\", \"recharge,\", \"problems!\", \"great!\", \"bang\", \"advertised.\", \"describe\", \"perfect!\", \"bunny\", \"pro\", \"serve\", \"described.\", \"got\", \"deal.\", \"you!\", \"night\", \"say,\", \"love\", \"thank\", \"shipping.\", \"super\", \"3\", \"should.\", \"sound\", \"candle\", \"complaints.\", \"work,\", \"come\", \"work\", \"light\", \"easy\", \"2\", \"battery.\", \"great\", \"kid\", \"time\", \"use\", \"need\", \"definitely\", \"find\", \"mouse\", \"price\", \"package\", \"buy\", \"long\", \"good\", \"toy\", \"like\", \"product\", \"aa\", \"brand\", \"order\", \"remote\"], \"Freq\": [2556.0, 3014.0, 322.0, 1499.0, 497.0, 1946.0, 249.0, 1849.0, 428.0, 124.0, 1309.0, 539.0, 389.0, 422.0, 417.0, 246.0, 232.0, 761.0, 66.0, 114.0, 245.0, 348.0, 394.0, 135.0, 203.0, 51.0, 109.0, 378.0, 210.0, 116.0, 16.131338119506836, 27.475038528442383, 10.467724800109863, 10.806400299072266, 8.995923042297363, 7.938022613525391, 11.340049743652344, 8.314835548400879, 10.820109367370605, 32.03529357910156, 7.885575294494629, 19.568805694580078, 8.464045524597168, 10.571281433105469, 12.976250648498535, 29.6917724609375, 6.264190196990967, 11.866382598876953, 5.837697982788086, 72.54434967041016, 5.814777374267578, 6.748397350311279, 5.296899795532227, 5.290302753448486, 5.28980016708374, 5.2858405113220215, 5.285366058349609, 5.38371467590332, 6.12137508392334, 5.320705890655518, 5.694087505340576, 15.914580345153809, 1726.8304443359375, 40.274620056152344, 142.9108428955078, 28.589696884155273, 939.6087646484375, 57.07014083862305, 114.73129272460938, 304.06109619140625, 18.0852108001709, 645.9439086914062, 12.279154777526855, 217.242919921875, 92.53182220458984, 161.76539611816406, 25.87934684753418, 94.0137710571289, 498.734130859375, 248.9993133544922, 190.06248474121094, 192.11402893066406, 48.248382568359375, 142.98680114746094, 87.40995788574219, 76.69302368164062, 81.94593048095703, 225.79371643066406, 100.90455627441406, 159.07107543945312, 78.16617584228516, 375.4162902832031, 153.00518798828125, 201.9215850830078, 104.61045837402344, 422.0593566894531, 277.524169921875, 93.3235855102539, 131.5246124267578, 87.4434585571289, 103.5697250366211, 96.59998321533203, 39.39994430541992, 9.168684959411621, 8.135322570800781, 6.466316223144531, 7.5432868003845215, 7.533538818359375, 6.355286121368408, 7.608635425567627, 5.882513046264648, 6.305699825286865, 9.985156059265137, 10.696277618408203, 6.962307929992676, 5.095750331878662, 10.252934455871582, 4.796659469604492, 11.762950897216797, 5.183660984039307, 4.772274971008301, 4.766699314117432, 9.195713996887207, 7.828282833099365, 5.637450695037842, 4.716296672821045, 4.1947808265686035, 13.911371231079102, 6.237490653991699, 4.185720443725586, 4.181512832641602, 4.1756110191345215, 8.547595977783203, 11.371341705322266, 11.812094688415527, 16.43239974975586, 6.072896957397461, 9.339407920837402, 61.54148483276367, 29.706613540649414, 18.576459884643555, 11.266027450561523, 13.684832572937012, 217.85479736328125, 49.95590591430664, 84.53157043457031, 187.4950714111328, 337.49090576171875, 156.93292236328125, 152.64218139648438, 26.568464279174805, 580.0216674804688, 106.1363296508789, 72.98494720458984, 66.82061004638672, 69.77713775634766, 137.09361267089844, 80.86249542236328, 52.77928924560547, 131.1018524169922, 127.40858459472656, 72.53173828125, 75.41975402832031, 68.35954284667969, 205.87635803222656, 40.49007797241211, 338.0201110839844, 134.35243225097656, 53.26194381713867, 379.6882629394531, 68.19190216064453, 74.14092254638672, 109.71802520751953, 131.7647705078125, 80.82845306396484, 217.67269897460938, 118.11260986328125, 85.82562255859375, 125.02790069580078, 86.24861907958984, 83.94689178466797, 87.07870483398438, 92.2101821899414, 122.58051300048828, 80.45913696289062, 78.5301513671875, 31.576292037963867, 11.512564659118652, 9.483180046081543, 7.571963787078857, 6.426607608795166, 10.114898681640625, 5.942681312561035, 5.834238529205322, 5.346672058105469, 5.932368278503418, 5.443665027618408, 5.824528694152832, 6.790165424346924, 5.337626934051514, 5.4265923500061035, 6.286965847015381, 6.2813334465026855, 5.209368705749512, 4.889571666717529, 4.710437774658203, 4.366369724273682, 4.339074611663818, 4.334958076477051, 7.474881172180176, 20.52464485168457, 4.301811695098877, 4.291503429412842, 3.815908908843994, 3.8142879009246826, 4.277578830718994, 17.337133407592773, 5.549488067626953, 6.467126846313477, 7.4174699783325195, 194.045654296875, 86.47715759277344, 8.269207000732422, 22.183574676513672, 25.631351470947266, 154.9927520751953, 1501.7008056640625, 132.21890258789062, 129.73619079589844, 41.70787811279297, 14.145709037780762, 115.2085952758789, 766.996826171875, 131.79763793945312, 595.127685546875, 36.73321533203125, 117.29293060302734, 86.56021118164062, 18.47056770324707, 192.55941772460938, 268.3016052246094, 40.588478088378906, 183.322021484375, 36.39755630493164, 174.74942016601562, 173.3782501220703, 423.5323791503906, 128.06170654296875, 75.96807098388672, 104.26627349853516, 145.18966674804688, 367.9176940917969, 144.55239868164062, 107.5182113647461, 124.82357788085938, 112.14498901367188, 118.59664916992188, 83.6792984008789, 106.54116821289062, 104.95751190185547, 117.4865951538086, 145.77134704589844, 97.31427764892578, 8.475044250488281, 20.392433166503906, 20.34693145751953, 7.310057640075684, 7.18046236038208, 8.711420059204102, 6.760846138000488, 6.761226654052734, 6.26474142074585, 6.263092994689941, 6.26193904876709, 9.435154914855957, 43.56422805786133, 5.682966709136963, 6.136388778686523, 7.525755405426025, 7.01652193069458, 5.680475234985352, 6.580493450164795, 4.718110084533691, 9.88088321685791, 10.310718536376953, 5.583377361297607, 4.211319923400879, 4.2071990966796875, 4.290465354919434, 4.643033981323242, 5.073040008544922, 3.7015576362609863, 5.048746585845947, 261.59912109375, 12.818757057189941, 7.0163655281066895, 10.688399314880371, 7.465725421905518, 7.383991241455078, 81.58293914794922, 201.99000549316406, 53.40876770019531, 26.982067108154297, 119.04557037353516, 20.41693878173828, 20.727453231811523, 141.52430725097656, 758.5474853515625, 151.66978454589844, 19.136343002319336, 42.657249450683594, 97.72850799560547, 76.26126098632812, 523.4473876953125, 64.19235229492188, 91.47486877441406, 144.6854248046875, 19.38561248779297, 101.14813995361328, 74.0111083984375, 78.60090637207031, 241.654052734375, 25.058656692504883, 98.56369018554688, 34.402156829833984, 189.90283203125, 199.32521057128906, 53.96323013305664, 96.10149383544922, 45.134002685546875, 81.52241516113281, 79.6910400390625, 119.45660400390625, 118.69690704345703, 48.48482894897461, 59.73700714111328, 53.330787658691406, 51.79561233520508, 53.8717041015625, 21.87643051147461, 47.74649429321289, 9.67081069946289, 8.560959815979004, 6.791311264038086, 6.376631736755371, 7.836588382720947, 6.311221122741699, 6.286285400390625, 5.878165245056152, 5.381416320800781, 57.507938385009766, 12.196927070617676, 4.7753496170043945, 7.438265800476074, 4.842624664306641, 4.340998649597168, 5.280205249786377, 4.2851176261901855, 4.365467071533203, 5.037661552429199, 4.261632442474365, 4.713872909545898, 7.755367755889893, 3.8717849254608154, 5.581108570098877, 3.7420156002044678, 3.3575451374053955, 3.712066650390625, 3.7069568634033203, 96.17637634277344, 23.547718048095703, 32.33839797973633, 45.577789306640625, 17.946979522705078, 18.245643615722656, 10.475733757019043, 14.128111839294434, 25.765764236450195, 18.482282638549805, 66.62569427490234, 16.886188507080078, 28.91208267211914, 17.053373336791992, 190.69131469726562, 57.42403030395508, 18.85846710205078, 45.976898193359375, 54.272857666015625, 14.422734260559082, 14.001768112182617, 45.8548583984375, 17.87268829345703, 21.866703033447266, 107.01156616210938, 306.1671447753906, 62.69904708862305, 51.29848098754883, 76.18466186523438, 41.62312316894531, 271.08892822265625, 53.608821868896484, 89.62554931640625, 106.52164459228516, 81.2921142578125, 50.97897720336914, 58.43537902832031, 35.711238861083984, 119.53192901611328, 63.83357238769531, 118.02679443359375, 125.40371704101562, 128.27496337890625, 49.600730895996094, 68.9593276977539, 59.68243408203125, 57.12713623046875, 59.80852127075195, 51.27067947387695, 50.362457275390625], \"Total\": [2556.0, 3014.0, 322.0, 1499.0, 497.0, 1946.0, 249.0, 1849.0, 428.0, 124.0, 1309.0, 539.0, 389.0, 422.0, 417.0, 246.0, 232.0, 761.0, 66.0, 114.0, 245.0, 348.0, 394.0, 135.0, 203.0, 51.0, 109.0, 378.0, 210.0, 116.0, 17.041637420654297, 29.485273361206055, 11.34164047241211, 11.761259078979492, 9.794473648071289, 8.692090034484863, 12.433862686157227, 9.127803802490234, 11.899467468261719, 35.29481887817383, 8.689420700073242, 21.778076171875, 9.465031623840332, 11.867918968200684, 14.571695327758789, 33.502811431884766, 7.06912899017334, 13.40349006652832, 6.604928970336914, 82.230712890625, 6.605602741241455, 7.710836410522461, 6.054874420166016, 6.054598808288574, 6.054563999176025, 6.054535388946533, 6.054553508758545, 6.169113636016846, 7.042634963989258, 6.167344570159912, 6.603662967681885, 18.687217712402344, 2556.302734375, 50.88432693481445, 203.0366973876953, 37.146446228027344, 1849.9281005859375, 83.36276245117188, 181.64007568359375, 539.58349609375, 23.429481506347656, 1309.0003662109375, 15.269110679626465, 417.66156005859375, 158.23275756835938, 318.8924865722656, 36.29774475097656, 177.6871337890625, 1499.90771484375, 646.7442626953125, 481.3533020019531, 497.2348327636719, 84.25298309326172, 358.0018615722656, 189.59063720703125, 160.27828979492188, 183.28770446777344, 761.0916137695312, 248.69705200195312, 476.85028076171875, 175.33909606933594, 1946.96533203125, 490.8874816894531, 755.6444702148438, 276.38665771484375, 3014.5263671875, 1589.0078125, 234.3693084716797, 466.2598876953125, 246.2256317138672, 542.957275390625, 394.2637939453125, 42.306339263916016, 10.09235668182373, 9.010238647460938, 7.2010273933410645, 8.403916358947754, 8.403066635131836, 7.105858325958252, 8.523119926452637, 6.591572284698486, 7.0991950035095215, 11.269368171691895, 12.116731643676758, 7.910999298095703, 5.799560546875, 11.718072891235352, 5.506042003631592, 13.521657943725586, 5.9779438972473145, 5.503747940063477, 5.5021257400512695, 10.648457527160645, 9.082925796508789, 6.571385860443115, 5.497725486755371, 4.89788818359375, 16.25584602355957, 7.291623592376709, 4.897373676300049, 4.897284984588623, 4.895804405212402, 10.03144645690918, 13.496291160583496, 14.059703826904297, 19.803783416748047, 7.162486553192139, 11.320319175720215, 84.42263793945312, 39.04777145385742, 23.670732498168945, 14.264223098754883, 17.839548110961914, 422.33233642578125, 78.4189453125, 146.05361938476562, 378.3177490234375, 761.0916137695312, 310.5322265625, 304.9171142578125, 38.86732482910156, 1589.0078125, 205.6259307861328, 132.44369506835938, 120.3816909790039, 130.98350524902344, 302.4510803222656, 159.4918670654297, 93.83274841308594, 296.3155212402344, 294.205810546875, 144.08306884765625, 158.56398010253906, 142.91603088378906, 646.7442626953125, 73.17955780029297, 1309.0003662109375, 389.4351806640625, 107.65325927734375, 1946.96533203125, 163.7804718017578, 188.84890747070312, 355.3640441894531, 482.89691162109375, 223.8336181640625, 1849.9281005859375, 542.957275390625, 280.2581787109375, 755.6444702148438, 288.6007385253906, 269.324951171875, 358.0018615722656, 490.6040344238281, 2556.302734375, 340.62286376953125, 276.3117370605469, 32.81584548950195, 12.370932579040527, 10.30551528930664, 8.292346000671387, 7.186192512512207, 11.404057502746582, 6.744771957397461, 6.634817123413086, 6.081254959106445, 6.749330043792725, 6.193860054016113, 6.62833833694458, 7.735349178314209, 6.082083702087402, 6.192955017089844, 7.181429386138916, 7.189752101898193, 5.99444055557251, 5.642425537109375, 5.44219970703125, 5.089145660400391, 5.091371059417725, 5.087025165557861, 8.779472351074219, 24.27313995361328, 5.090311527252197, 5.087730407714844, 4.536048889160156, 4.5355544090271, 5.08689022064209, 20.687904357910156, 6.621744632720947, 7.732523441314697, 8.894270896911621, 249.3511962890625, 109.21280670166016, 9.987674713134766, 28.383602142333984, 33.2810173034668, 232.7176971435547, 3014.5263671875, 210.64207458496094, 215.26805114746094, 60.96712112426758, 18.40715789794922, 211.8550567626953, 1946.96533203125, 253.6525115966797, 1499.90771484375, 59.465579986572266, 259.8058166503906, 179.00196838378906, 26.970874786376953, 490.8874816894531, 755.6444702148438, 72.74117279052734, 482.89691162109375, 63.94093704223633, 481.3533020019531, 490.6040344238281, 1589.0078125, 340.62286376953125, 170.94554138183594, 280.2581787109375, 466.2598876953125, 1849.9281005859375, 476.85028076171875, 309.8076477050781, 417.66156005859375, 355.3640441894531, 389.4351806640625, 253.75741577148438, 428.6344909667969, 422.33233642578125, 646.7442626953125, 1309.0003662109375, 761.0916137695312, 9.301857948303223, 22.395280838012695, 22.423723220825195, 8.069986343383789, 7.959877967834473, 9.689760208129883, 7.535917282104492, 7.538450241088867, 6.998665809631348, 6.998735427856445, 6.998865604400635, 10.5571870803833, 48.933162689208984, 6.460761070251465, 7.005256652832031, 8.614352226257324, 8.108071327209473, 6.575159072875977, 7.656352519989014, 5.502156734466553, 11.541101455688477, 12.083683013916016, 6.576042175292969, 4.9643330574035645, 4.967231273651123, 5.076613426208496, 5.5102434158325195, 6.041691303253174, 4.427021503448486, 6.044437408447266, 322.4772644042969, 15.402908325195312, 8.530355453491211, 13.485812187194824, 9.179048538208008, 9.141042709350586, 135.35142517089844, 428.6344909667969, 92.25016021728516, 41.367855072021484, 245.79083251953125, 30.919048309326172, 31.588041305541992, 348.42071533203125, 3014.5263671875, 394.2637939453125, 29.094804763793945, 83.79474639892578, 246.2256317138672, 185.25990295410156, 2556.302734375, 159.81851196289062, 276.3117370605469, 542.957275390625, 33.086944580078125, 389.4282531738281, 245.09469604492188, 270.1313171386719, 1499.90771484375, 48.69031524658203, 466.2598876953125, 85.37800598144531, 1589.0078125, 1849.9281005859375, 187.42959594726562, 539.58349609375, 141.83094787597656, 476.85028076171875, 490.6040344238281, 1309.0003662109375, 1946.96533203125, 189.59063720703125, 482.89691162109375, 417.66156005859375, 389.4351806640625, 755.6444702148438, 22.969532012939453, 51.27471160888672, 10.48798656463623, 9.351097106933594, 7.618241310119629, 7.156044960021973, 8.799843788146973, 7.1501593589782715, 7.1584601402282715, 6.718778133392334, 6.162944793701172, 66.1787109375, 14.043499946594238, 5.501221656799316, 8.61946964263916, 5.615348815917969, 5.0644941329956055, 6.167332172393799, 5.063790321350098, 5.176876544952393, 5.977872848510742, 5.0655035972595215, 5.623120307922363, 9.271098136901855, 4.630810737609863, 6.718163967132568, 4.516632556915283, 4.079505443572998, 4.5152177810668945, 4.518424034118652, 124.65258026123047, 30.12942886352539, 42.69778823852539, 61.26747131347656, 23.367761611938477, 24.613174438476562, 13.484550476074219, 19.23232650756836, 38.12175750732422, 26.151630401611328, 114.60618591308594, 24.077693939208984, 47.236507415771484, 25.861915588378906, 497.2348327636719, 116.85228729248047, 30.01251983642578, 99.0663070678711, 124.3206558227539, 21.634822845458984, 20.774917602539062, 106.00090789794922, 29.084392547607422, 38.811737060546875, 389.4282531738281, 1946.96533203125, 191.73837280273438, 146.36868286132812, 269.324951171875, 118.50375366210938, 3014.5263671875, 185.59259033203125, 542.957275390625, 755.6444702148438, 490.6040344238281, 200.67013549804688, 273.5606384277344, 103.11125183105469, 1499.90771484375, 378.3177490234375, 1589.0078125, 1849.9281005859375, 2556.302734375, 245.09469604492188, 761.0916137695312, 490.8874816894531, 422.33233642578125, 1309.0003662109375, 358.0018615722656, 355.3640441894531], \"Category\": [\"Default\", \"Default\", \"Default\", \"Default\", \"Default\", \"Default\", \"Default\", \"Default\", \"Default\", \"Default\", \"Default\", \"Default\", \"Default\", \"Default\", \"Default\", \"Default\", \"Default\", \"Default\", \"Default\", \"Default\", \"Default\", \"Default\", \"Default\", \"Default\", \"Default\", \"Default\", \"Default\", \"Default\", \"Default\", \"Default\", \"Topic1\", \"Topic1\", \"Topic1\", \"Topic1\", \"Topic1\", \"Topic1\", \"Topic1\", \"Topic1\", \"Topic1\", \"Topic1\", \"Topic1\", \"Topic1\", \"Topic1\", \"Topic1\", \"Topic1\", \"Topic1\", \"Topic1\", \"Topic1\", \"Topic1\", \"Topic1\", \"Topic1\", \"Topic1\", \"Topic1\", \"Topic1\", \"Topic1\", \"Topic1\", \"Topic1\", \"Topic1\", \"Topic1\", \"Topic1\", \"Topic1\", \"Topic1\", \"Topic1\", \"Topic1\", \"Topic1\", \"Topic1\", \"Topic1\", \"Topic1\", \"Topic1\", \"Topic1\", \"Topic1\", \"Topic1\", \"Topic1\", \"Topic1\", \"Topic1\", \"Topic1\", \"Topic1\", \"Topic1\", \"Topic1\", \"Topic1\", \"Topic1\", \"Topic1\", \"Topic1\", \"Topic1\", \"Topic1\", \"Topic1\", \"Topic1\", \"Topic1\", \"Topic1\", \"Topic1\", \"Topic1\", \"Topic1\", \"Topic1\", \"Topic1\", \"Topic1\", \"Topic1\", \"Topic1\", \"Topic1\", \"Topic1\", \"Topic1\", \"Topic1\", \"Topic1\", \"Topic2\", \"Topic2\", \"Topic2\", \"Topic2\", \"Topic2\", \"Topic2\", \"Topic2\", \"Topic2\", \"Topic2\", \"Topic2\", \"Topic2\", \"Topic2\", \"Topic2\", \"Topic2\", \"Topic2\", \"Topic2\", \"Topic2\", \"Topic2\", \"Topic2\", \"Topic2\", \"Topic2\", \"Topic2\", \"Topic2\", \"Topic2\", \"Topic2\", \"Topic2\", \"Topic2\", \"Topic2\", \"Topic2\", \"Topic2\", \"Topic2\", \"Topic2\", \"Topic2\", \"Topic2\", \"Topic2\", \"Topic2\", \"Topic2\", \"Topic2\", \"Topic2\", \"Topic2\", \"Topic2\", \"Topic2\", \"Topic2\", \"Topic2\", \"Topic2\", \"Topic2\", \"Topic2\", \"Topic2\", \"Topic2\", \"Topic2\", \"Topic2\", \"Topic2\", \"Topic2\", \"Topic2\", \"Topic2\", \"Topic2\", \"Topic2\", \"Topic2\", \"Topic2\", \"Topic2\", \"Topic2\", \"Topic2\", \"Topic2\", \"Topic2\", \"Topic2\", \"Topic2\", \"Topic2\", \"Topic2\", \"Topic2\", \"Topic2\", \"Topic2\", \"Topic2\", \"Topic2\", \"Topic2\", \"Topic2\", \"Topic2\", \"Topic2\", \"Topic2\", \"Topic2\", \"Topic2\", \"Topic2\", \"Topic2\", \"Topic2\", \"Topic2\", \"Topic3\", \"Topic3\", \"Topic3\", \"Topic3\", \"Topic3\", \"Topic3\", \"Topic3\", \"Topic3\", \"Topic3\", \"Topic3\", \"Topic3\", \"Topic3\", \"Topic3\", \"Topic3\", \"Topic3\", \"Topic3\", \"Topic3\", \"Topic3\", \"Topic3\", \"Topic3\", \"Topic3\", \"Topic3\", \"Topic3\", \"Topic3\", \"Topic3\", \"Topic3\", \"Topic3\", \"Topic3\", \"Topic3\", \"Topic3\", \"Topic3\", \"Topic3\", \"Topic3\", \"Topic3\", \"Topic3\", \"Topic3\", \"Topic3\", \"Topic3\", \"Topic3\", \"Topic3\", \"Topic3\", \"Topic3\", \"Topic3\", \"Topic3\", \"Topic3\", \"Topic3\", \"Topic3\", \"Topic3\", \"Topic3\", \"Topic3\", \"Topic3\", \"Topic3\", \"Topic3\", \"Topic3\", \"Topic3\", \"Topic3\", \"Topic3\", \"Topic3\", \"Topic3\", \"Topic3\", \"Topic3\", \"Topic3\", \"Topic3\", \"Topic3\", \"Topic3\", \"Topic3\", \"Topic3\", \"Topic3\", \"Topic3\", \"Topic3\", \"Topic3\", \"Topic3\", \"Topic3\", \"Topic3\", \"Topic3\", \"Topic3\", \"Topic3\", \"Topic4\", \"Topic4\", \"Topic4\", \"Topic4\", \"Topic4\", \"Topic4\", \"Topic4\", \"Topic4\", \"Topic4\", \"Topic4\", \"Topic4\", \"Topic4\", \"Topic4\", \"Topic4\", \"Topic4\", \"Topic4\", \"Topic4\", \"Topic4\", \"Topic4\", \"Topic4\", \"Topic4\", \"Topic4\", \"Topic4\", \"Topic4\", \"Topic4\", \"Topic4\", \"Topic4\", \"Topic4\", \"Topic4\", \"Topic4\", \"Topic4\", \"Topic4\", \"Topic4\", \"Topic4\", \"Topic4\", \"Topic4\", \"Topic4\", \"Topic4\", \"Topic4\", \"Topic4\", \"Topic4\", \"Topic4\", \"Topic4\", \"Topic4\", \"Topic4\", \"Topic4\", \"Topic4\", \"Topic4\", \"Topic4\", \"Topic4\", \"Topic4\", \"Topic4\", \"Topic4\", \"Topic4\", \"Topic4\", \"Topic4\", \"Topic4\", \"Topic4\", \"Topic4\", \"Topic4\", \"Topic4\", \"Topic4\", \"Topic4\", \"Topic4\", \"Topic4\", \"Topic4\", \"Topic4\", \"Topic4\", \"Topic4\", \"Topic4\", \"Topic4\", \"Topic4\", \"Topic4\", \"Topic4\", \"Topic4\", \"Topic4\", \"Topic5\", \"Topic5\", \"Topic5\", \"Topic5\", \"Topic5\", \"Topic5\", \"Topic5\", \"Topic5\", \"Topic5\", \"Topic5\", \"Topic5\", \"Topic5\", \"Topic5\", \"Topic5\", \"Topic5\", \"Topic5\", \"Topic5\", \"Topic5\", \"Topic5\", \"Topic5\", \"Topic5\", \"Topic5\", \"Topic5\", \"Topic5\", \"Topic5\", \"Topic5\", \"Topic5\", \"Topic5\", \"Topic5\", \"Topic5\", \"Topic5\", \"Topic5\", \"Topic5\", \"Topic5\", \"Topic5\", \"Topic5\", \"Topic5\", \"Topic5\", \"Topic5\", \"Topic5\", \"Topic5\", \"Topic5\", \"Topic5\", \"Topic5\", \"Topic5\", \"Topic5\", \"Topic5\", \"Topic5\", \"Topic5\", \"Topic5\", \"Topic5\", \"Topic5\", \"Topic5\", \"Topic5\", \"Topic5\", \"Topic5\", \"Topic5\", \"Topic5\", \"Topic5\", \"Topic5\", \"Topic5\", \"Topic5\", \"Topic5\", \"Topic5\", \"Topic5\", \"Topic5\", \"Topic5\", \"Topic5\", \"Topic5\", \"Topic5\", \"Topic5\", \"Topic5\", \"Topic5\", \"Topic5\", \"Topic5\", \"Topic5\", \"Topic5\", \"Topic5\", \"Topic5\", \"Topic5\"], \"logprob\": [30.0, 29.0, 28.0, 27.0, 26.0, 25.0, 24.0, 23.0, 22.0, 21.0, 20.0, 19.0, 18.0, 17.0, 16.0, 15.0, 14.0, 13.0, 12.0, 11.0, 10.0, 9.0, 8.0, 7.0, 6.0, 5.0, 4.0, 3.0, 2.0, 1.0, -7.339600086212158, -6.80709981918335, -7.77209997177124, -7.740200042724609, -7.923600196838379, -8.048700332641602, -7.691999912261963, -8.002300262451172, -7.738999843597412, -6.653500080108643, -8.055299758911133, -7.146399974822998, -7.984499931335449, -7.762199878692627, -7.557199954986572, -6.729499816894531, -8.285499572753906, -7.646699905395508, -8.355999946594238, -5.83620023727417, -8.359999656677246, -8.211099624633789, -8.453200340270996, -8.454500198364258, -8.45460033416748, -8.455300331115723, -8.455400466918945, -8.437000274658203, -8.308600425720215, -8.448800086975098, -8.380900382995605, -7.353099822998047, -2.666300058364868, -6.424600124359131, -5.158100128173828, -6.767300128936768, -3.274899959564209, -6.076099872589111, -5.377799987792969, -4.40310001373291, -7.225299835205078, -3.649600028991699, -7.612500190734863, -4.739299774169922, -5.592800140380859, -5.034200191497803, -6.8668999671936035, -5.576900005340576, -3.9082999229431152, -4.60290002822876, -4.873000144958496, -4.862299919128418, -6.24399995803833, -5.157599925994873, -5.649799823760986, -5.780600070953369, -5.714300155639648, -4.700699806213379, -5.506199836730957, -5.051000118255615, -5.761499881744385, -4.192299842834473, -5.089900016784668, -4.8125, -5.470099925994873, -4.075200080871582, -4.494500160217285, -5.5843000411987305, -5.241199970245361, -5.649400234222412, -5.480100154876709, -5.549799919128418, -6.373300075531006, -7.831299781799316, -7.950799942016602, -8.180500030517578, -8.026399612426758, -8.027700424194336, -8.197799682617188, -8.017800331115723, -8.275099754333496, -8.205599784851074, -7.745999813079834, -7.677199840545654, -8.106499671936035, -8.418700218200684, -7.7195000648498535, -8.479100227355957, -7.582099914550781, -8.40149974822998, -8.484199523925781, -8.485400199890137, -7.8282999992370605, -7.989299774169922, -8.31760025024414, -8.496000289916992, -8.613200187683105, -7.414400100708008, -8.216500282287598, -8.615400314331055, -8.616399765014648, -8.617799758911133, -7.901400089263916, -7.616000175476074, -7.577899932861328, -7.247799873352051, -8.243200302124023, -7.81279993057251, -5.927299976348877, -6.655700206756592, -7.125199794769287, -7.62529993057251, -7.430799961090088, -4.6631999015808105, -6.135900020599365, -5.609899997711182, -4.813300132751465, -4.225500106811523, -4.991199970245361, -5.019000053405762, -6.767300128936768, -3.684000015258789, -5.382299900054932, -5.756800174713135, -5.84499979019165, -5.801799774169922, -5.126399993896484, -5.654300212860107, -6.080900192260742, -5.17110013961792, -5.199699878692627, -5.763000011444092, -5.723999977111816, -5.822299957275391, -4.719799995422363, -6.3460001945495605, -4.223999977111816, -5.146599769592285, -6.071800231933594, -4.107699871063232, -5.824699878692627, -5.741099834442139, -5.349100112915039, -5.165999889373779, -5.654699802398682, -4.664100170135498, -5.275400161743164, -5.594699859619141, -5.218500137329102, -5.589799880981445, -5.6168999671936035, -5.5802001953125, -5.5229997634887695, -5.23829984664917, -5.659299850463867, -5.683599948883057, -6.550899982452393, -7.559899806976318, -7.753799915313721, -7.978899955749512, -8.142900466918945, -7.689300060272217, -8.221199989318848, -8.23960018157959, -8.326899528503418, -8.222900390625, -8.308899879455566, -8.241299629211426, -8.087900161743164, -8.32859992980957, -8.312000274658203, -8.164899826049805, -8.165800094604492, -8.352899551391602, -8.416199684143066, -8.45359992980957, -8.529399871826172, -8.535699844360352, -8.536600112915039, -7.991799831390381, -6.9816999435424805, -8.544300079345703, -8.546699523925781, -8.664199829101562, -8.664600372314453, -8.550000190734863, -7.1504998207092285, -8.289600372314453, -8.13659954071045, -7.999499797821045, -4.735199928283691, -5.543499946594238, -7.8907999992370605, -6.9039998054504395, -6.759500026702881, -4.960000038146973, -2.688999891281128, -5.118899822235107, -5.137800216674805, -6.27269983291626, -7.353899955749512, -5.2565999031066895, -3.3608999252319336, -5.122099876403809, -3.6145999431610107, -6.399700164794922, -5.238699913024902, -5.542500019073486, -7.087200164794922, -4.7428998947143555, -4.411200046539307, -6.299900054931641, -4.792099952697754, -6.40880012512207, -4.840000152587891, -4.847899913787842, -3.954699993133545, -5.1508002281188965, -5.672999858856201, -5.356400012969971, -5.025300025939941, -4.0954999923706055, -5.029699802398682, -5.325699806213379, -5.176400184631348, -5.2835001945495605, -5.22760009765625, -5.576300144195557, -5.334799766540527, -5.349800109863281, -5.236999988555908, -5.021299839019775, -5.4253997802734375, -7.576099872589111, -6.6981000900268555, -6.700300216674805, -7.723999977111816, -7.7418999671936035, -7.548600196838379, -7.80210018157959, -7.802000045776367, -7.878300189971924, -7.878600120544434, -7.878799915313721, -7.468800067901611, -5.939000129699707, -7.975800037384033, -7.89900016784668, -7.694900035858154, -7.764999866485596, -7.976200103759766, -7.829100131988525, -8.161800384521484, -7.422599792480469, -7.380099773406982, -7.993500232696533, -8.275500297546387, -8.27649974822998, -8.2568998336792, -8.177900314331055, -8.089300155639648, -8.404500007629395, -8.094099998474121, -4.146399974822998, -7.162300109863281, -7.764999866485596, -7.344099998474121, -7.702899932861328, -7.713900089263916, -5.311600208282471, -4.40500020980835, -5.735300064086914, -6.418099880218506, -4.933700084686279, -6.696899890899658, -6.68179988861084, -4.760799884796143, -3.0817999839782715, -4.691500186920166, -6.76170015335083, -5.960100173950195, -5.131100177764893, -5.3790998458862305, -3.4528000354766846, -5.551400184631348, -5.197199821472168, -4.738699913024902, -6.748700141906738, -5.096700191497803, -5.408999919891357, -5.348899841308594, -4.2256999015808105, -6.492000102996826, -5.122499942779541, -6.175099849700928, -4.466700077056885, -4.418300151824951, -5.724899768829346, -5.147799968719482, -5.903600215911865, -5.312399864196777, -5.335100173950195, -4.930300235748291, -4.936699867248535, -5.831999778747559, -5.623300075531006, -5.736700057983398, -5.765900135040283, -5.726600170135498, -6.452000141143799, -5.671500205993652, -7.2683000564575195, -7.390200138092041, -7.621699810028076, -7.684700012207031, -7.478600025177002, -7.695000171661377, -7.698999881744385, -7.76609992980957, -7.854400157928467, -5.485400199890137, -7.036200046539307, -7.973899841308594, -7.530700206756592, -7.95989990234375, -8.069299697875977, -7.8734002113342285, -8.082200050354004, -8.063599586486816, -7.920400142669678, -8.087699890136719, -7.9868998527526855, -7.488999843597412, -8.183699607849121, -7.817999839782715, -8.217700004577637, -8.326199531555176, -8.225799560546875, -8.22719955444336, -4.971199989318848, -6.378300189971924, -6.061100006103516, -5.717899799346924, -6.649899959564209, -6.633399963378906, -7.188300132751465, -6.889200210571289, -6.288300037384033, -6.62060022354126, -5.3383002281188965, -6.710899829864502, -6.173099994659424, -6.701000213623047, -4.2866997718811035, -5.4868998527526855, -6.600399971008301, -5.709199905395508, -5.543300151824951, -6.868599891662598, -6.898200035095215, -5.711900234222412, -6.654099941253662, -6.452400207519531, -4.8643999099731445, -3.813199996948242, -5.39900016784668, -5.599699974060059, -5.20419979095459, -5.808700084686279, -3.9349000453948975, -5.555699825286865, -5.0416998863220215, -4.86899995803833, -5.1392998695373535, -5.605999946594238, -5.469399929046631, -5.961900234222412, -4.753799915313721, -5.381100177764893, -4.766499996185303, -4.7058000564575195, -4.683199882507324, -5.633399963378906, -5.303899765014648, -5.448299884796143, -5.492099761962891, -5.446199893951416, -5.600200176239014, -5.618100166320801], \"loglift\": [30.0, 29.0, 28.0, 27.0, 26.0, 25.0, 24.0, 23.0, 22.0, 21.0, 20.0, 19.0, 18.0, 17.0, 16.0, 15.0, 14.0, 13.0, 12.0, 11.0, 10.0, 9.0, 8.0, 7.0, 6.0, 5.0, 4.0, 3.0, 2.0, 1.0, 1.3420000076293945, 1.326300024986267, 1.3166999816894531, 1.3121999502182007, 1.311900019645691, 1.3062000274658203, 1.304800033569336, 1.3035999536514282, 1.301800012588501, 1.2999999523162842, 1.2998000383377075, 1.2898999452590942, 1.285099983215332, 1.2812000513076782, 1.280900001525879, 1.2761000394821167, 1.2760000228881836, 1.2750999927520752, 1.2733999490737915, 1.2716000080108643, 1.2694000005722046, 1.2635999917984009, 1.263200044631958, 1.2619999647140503, 1.2618999481201172, 1.2611000537872314, 1.2610000371932983, 1.260699987411499, 1.256700038909912, 1.2491999864578247, 1.2487000226974487, 1.236299991607666, 1.0046000480651855, 1.163100004196167, 1.045699954032898, 1.13510000705719, 0.7195000052452087, 1.0180000066757202, 0.9375, 0.8233000040054321, 1.1380000114440918, 0.6905999779701233, 1.1790000200271606, 0.7433000206947327, 0.8604000210762024, 0.7182000279426575, 1.0585999488830566, 0.7602999806404114, 0.29580000042915344, 0.4424000084400177, 0.4677000045776367, 0.44589999318122864, 0.8393999934196472, 0.47909998893737793, 0.6226999759674072, 0.6597999930381775, 0.5918999910354614, 0.1817999929189682, 0.49480000138282776, 0.29910001158714294, 0.5889999866485596, -0.249099999666214, 0.23119999468326569, 0.07720000296831131, 0.4253999888896942, -0.569100022315979, -0.3479999899864197, 0.47609999775886536, 0.131400004029274, 0.36169999837875366, -0.2599000036716461, -0.009499999694526196, 1.3990000486373901, 1.3741999864578247, 1.3681000471115112, 1.3625999689102173, 1.3622000217437744, 1.3609999418258667, 1.3586000204086304, 1.3566999435424805, 1.3564000129699707, 1.351699948310852, 1.3492000102996826, 1.3454999923706055, 1.3424999713897705, 1.3408000469207764, 1.3365999460220337, 1.3322999477386475, 1.330899953842163, 1.3276000022888184, 1.3276000022888184, 1.32669997215271, 1.3235000371932983, 1.3215999603271484, 1.3169000148773193, 1.3169000148773193, 1.3151999711990356, 1.3144999742507935, 1.3141000270843506, 1.3131999969482422, 1.3121999502182007, 1.3111000061035156, 1.3100999593734741, 1.2989000082015991, 1.2960000038146973, 1.2835999727249146, 1.3051999807357788, 1.277899980545044, 1.154099941253662, 1.1967999935150146, 1.2279000282287598, 1.2342000007629395, 1.2051000595092773, 0.8082000017166138, 1.0192999839782715, 0.9233999848365784, 0.7681999802589417, 0.6570000052452087, 0.7876999974250793, 0.7782999873161316, 1.0898000001907349, 0.46239998936653137, 0.808899998664856, 0.8743000030517578, 0.881600022315979, 0.840399980545044, 0.6790000200271606, 0.7910000085830688, 0.8948000073432922, 0.6547999978065491, 0.6333000063896179, 0.7838000059127808, 0.7271000146865845, 0.732699990272522, 0.3255000114440918, 0.8784000277519226, 0.11630000174045563, 0.4059999883174896, 0.7664999961853027, -0.16449999809265137, 0.593999981880188, 0.5351999998092651, 0.29499998688697815, 0.17139999568462372, 0.45159998536109924, -0.669700026512146, -0.0551999993622303, 0.28679999709129333, -0.3287999927997589, 0.2624000012874603, 0.304500013589859, 0.05649999901652336, -0.2013999968767166, -1.5672999620437622, 0.0272000003606081, 0.21220000088214874, 1.4753999710083008, 1.4420000314712524, 1.430799961090088, 1.4229999780654907, 1.4021999835968018, 1.3940000534057617, 1.3873000144958496, 1.3853000402450562, 1.385200023651123, 1.3848999738693237, 1.3847999572753906, 1.3846999406814575, 1.3835999965667725, 1.3833999633789062, 1.3818000555038452, 1.3809000253677368, 1.3789000511169434, 1.3736000061035156, 1.3707000017166138, 1.3695000410079956, 1.36080002784729, 1.3539999723434448, 1.3538999557495117, 1.3530999422073364, 1.3461999893188477, 1.3456000089645386, 1.3437000513076782, 1.3410999774932861, 1.3407000303268433, 1.3406000137329102, 1.3372000455856323, 1.3372999429702759, 1.3351999521255493, 1.3323999643325806, 1.263200044631958, 1.280500054359436, 1.3250999450683594, 1.2675000429153442, 1.2527999877929688, 1.1074999570846558, 0.8170999884605408, 1.048200011253357, 1.0075000524520874, 1.1342999935150146, 1.250599980354309, 0.9047999978065491, 0.5824000239372253, 0.8592000007629395, 0.5895000100135803, 1.0321999788284302, 0.7186999917030334, 0.7874000072479248, 1.1354000568389893, 0.5781000256538391, 0.47850000858306885, 0.9304999709129333, 0.5454000234603882, 0.9505000114440918, 0.5006999969482422, 0.47380000352859497, 0.19169999659061432, 0.5357000231742859, 0.7028999924659729, 0.5252000093460083, 0.3472000062465668, -0.10109999775886536, 0.3203999996185303, 0.45559999346733093, 0.3061999976634979, 0.36059999465942383, 0.32499998807907104, 0.40450000762939453, 0.12189999967813492, 0.1216999962925911, -0.19169999659061432, -0.6811000108718872, -0.542900025844574, 1.7108999490737915, 1.7102999687194824, 1.7067999839782715, 1.7051000595092773, 1.7009999752044678, 1.69760000705719, 1.6955000162124634, 1.695199966430664, 1.6931999921798706, 1.6929999589920044, 1.6928000450134277, 1.6916999816894531, 1.6878000497817993, 1.6756999492645264, 1.6715999841690063, 1.6689000129699707, 1.6593999862670898, 1.6577999591827393, 1.6526000499725342, 1.6503000259399414, 1.6486999988555908, 1.645300030708313, 1.6404000520706177, 1.6395000219345093, 1.6380000114440918, 1.6358000040054321, 1.6327999830245972, 1.6292999982833862, 1.625, 1.6239999532699585, 1.5947999954223633, 1.6203999519348145, 1.6086000204086304, 1.5714999437332153, 1.5973999500274658, 1.5906000137329102, 1.2977999448776245, 1.0515999794006348, 1.2575000524520874, 1.3767000436782837, 1.0789999961853027, 1.3890000581741333, 1.382699966430664, 0.9031000137329102, 0.42419999837875366, 0.8486999869346619, 1.3849999904632568, 1.1288000345230103, 0.8799999952316284, 0.9164000153541565, 0.21809999644756317, 0.8919000029563904, 0.6985999941825867, 0.4814999997615814, 1.2694000005722046, 0.45590001344680786, 0.6065999865531921, 0.5695000290870667, -0.02160000056028366, 1.139799952507019, 0.25, 0.8949999809265137, -0.32030001282691956, -0.4239000082015991, 0.558899998664856, 0.07859999686479568, 0.6589999794960022, 0.037700001150369644, -0.013500000350177288, -0.5899999737739563, -0.993399977684021, 0.44040000438690186, -0.2858000099658966, -0.2540999948978424, -0.2134000062942505, -0.836899995803833, 1.9311000108718872, 1.9085999727249146, 1.898800015449524, 1.8916000127792358, 1.8650000095367432, 1.8645999431610107, 1.8639999628067017, 1.8551000356674194, 1.850000023841858, 1.8461999893188477, 1.8443000316619873, 1.8394999504089355, 1.8388999700546265, 1.8384000062942505, 1.8324999809265137, 1.8319000005722046, 1.8257999420166016, 1.8245999813079834, 1.8128999471664429, 1.809399962425232, 1.8087999820709229, 1.8071000576019287, 1.8035000562667847, 1.8013999462127686, 1.8008999824523926, 1.7944999933242798, 1.7918000221252441, 1.785099983215332, 1.784000039100647, 1.7819000482559204, 1.7206000089645386, 1.7333999872207642, 1.7020000219345093, 1.6841000318527222, 1.715999960899353, 1.6805000305175781, 1.7273999452590942, 1.6714999675750732, 1.5881999731063843, 1.6327999830245972, 1.4375, 1.625100016593933, 1.4889999628067017, 1.5635000467300415, 1.0214999914169312, 1.2695000171661377, 1.5152000188827515, 1.2122999429702759, 1.1511000394821167, 1.5743999481201172, 1.5852999687194824, 1.1418999433517456, 1.4930000305175781, 1.4061000347137451, 0.6881999969482422, 0.12999999523162842, 0.8621000051498413, 0.9314000010490417, 0.7171000242233276, 0.9336000084877014, -0.42879998683929443, 0.738099992275238, 0.1784999966621399, 0.02070000022649765, 0.18230000138282776, 0.6097000241279602, 0.43630000948905945, 0.9196000099182129, -0.5497000217437744, 0.2003999948501587, -0.6201000213623047, -0.7114999890327454, -1.0121999979019165, 0.3822999894618988, -0.4212999939918518, -0.12729999423027039, -0.020600000396370888, -1.1059999465942383, 0.0364999994635582, 0.026000000536441803]}, \"token.table\": {\"Topic\": [3, 1, 1, 2, 4, 1, 2, 3, 4, 5, 1, 2, 3, 4, 5, 1, 2, 3, 4, 5, 1, 1, 2, 3, 4, 5, 1, 2, 3, 4, 5, 1, 4, 5, 1, 2, 4, 5, 3, 4, 3, 1, 2, 4, 5, 1, 2, 3, 4, 5, 1, 2, 3, 4, 5, 1, 2, 3, 4, 5, 1, 2, 3, 4, 5, 4, 1, 2, 3, 4, 1, 3, 2, 4, 5, 2, 4, 2, 1, 2, 3, 4, 5, 4, 1, 2, 3, 4, 5, 5, 1, 2, 3, 4, 5, 5, 1, 2, 3, 4, 5, 1, 2, 3, 4, 5, 2, 1, 2, 3, 4, 5, 1, 2, 3, 4, 5, 1, 2, 3, 4, 5, 3, 5, 4, 5, 4, 1, 3, 4, 5, 1, 2, 3, 4, 5, 1, 2, 4, 3, 1, 1, 2, 3, 4, 5, 2, 3, 4, 5, 2, 3, 1, 2, 4, 5, 3, 2, 1, 2, 3, 4, 5, 2, 3, 2, 3, 1, 2, 3, 4, 5, 2, 4, 5, 1, 2, 3, 4, 5, 1, 2, 3, 4, 5, 2, 2, 3, 4, 5, 1, 2, 3, 4, 5, 2, 1, 5, 1, 2, 3, 4, 5, 2, 3, 1, 2, 3, 4, 5, 5, 2, 3, 5, 1, 3, 4, 5, 5, 1, 2, 3, 4, 5, 2, 3, 1, 2, 3, 4, 5, 1, 4, 1, 2, 3, 4, 5, 3, 1, 2, 3, 4, 5, 1, 2, 3, 4, 5, 1, 2, 3, 4, 5, 2, 3, 4, 5, 2, 5, 1, 4, 5, 4, 5, 1, 2, 3, 4, 5, 4, 1, 2, 3, 4, 5, 4, 1, 2, 3, 5, 1, 2, 3, 3, 5, 1, 2, 3, 4, 5, 3, 5, 2, 4, 5, 4, 1, 2, 3, 4, 5, 1, 3, 4, 1, 2, 3, 4, 5, 3, 1, 3, 1, 2, 3, 4, 5, 1, 2, 3, 4, 5, 1, 2, 3, 4, 5, 1, 2, 3, 4, 5, 1, 2, 3, 4, 5, 1, 2, 3, 4, 5, 1, 5, 3, 3, 1, 2, 3, 4, 5, 3, 5, 3, 2, 3, 1, 2, 3, 4, 5, 1, 2, 3, 4, 5, 2, 1, 2, 3, 4, 5, 1, 3, 4, 3, 1, 2, 3, 4, 5, 1, 2, 3, 5, 4, 1, 2, 3, 4, 5, 1, 2, 3, 4, 5, 1, 2, 3, 5, 1, 2, 3, 4, 5, 1, 4, 1, 2, 3, 4, 5, 1, 2, 3, 4, 5, 1, 2, 4, 3, 1, 2, 3, 4, 5, 1, 2, 3, 4, 5, 1, 2, 3, 4, 5, 2, 2, 1, 2, 3, 4, 5, 1, 2, 3, 4, 5, 1, 2, 3, 4, 5, 1, 2, 3, 4, 5, 4, 1, 2, 1, 2, 3, 4, 5, 1, 1, 2, 3, 4, 5, 2, 3, 1, 2, 3, 4, 5, 3, 1, 2, 3, 4, 5, 2, 1, 2, 3, 4, 5, 2, 1, 1, 2, 3, 4, 5, 1, 1, 2, 3, 4, 5, 1, 2, 3, 4, 5, 1, 2, 3, 4, 1, 2, 3, 4, 5, 1, 2, 3, 4, 5, 1, 5, 1, 2, 3, 5, 5, 4, 4, 2, 2, 1, 2, 3, 4, 5, 2, 3, 4, 5, 1, 5, 1, 5, 1, 2, 3, 4, 5, 4, 5, 1, 2, 3, 4, 5, 1, 1, 2, 3, 4, 5, 1, 5, 5, 3, 4, 1, 2, 5, 1, 4, 5, 1, 2, 3, 1, 2, 3, 4, 5, 5, 1, 2, 3, 4, 5, 2, 3, 4, 1, 2, 3, 4, 5, 1, 2, 3, 4, 5, 1, 2, 5, 1, 2, 3, 4, 5, 2, 3, 5, 2, 3, 2, 3, 4, 5, 1, 2, 3, 4, 2, 1, 2, 3, 4, 5, 1, 2, 3, 4, 5, 1, 2, 3, 4, 5, 1, 2, 3, 1, 1, 1, 4, 5, 1, 2, 3, 4, 5, 5, 4, 1, 2, 3, 4, 5, 1, 2, 4, 5, 1, 4, 5, 1, 2, 3, 4, 5, 2, 3, 2, 4, 1, 2, 3, 4, 5, 1, 2, 1, 2, 3, 4, 5, 4, 5, 1, 2, 3, 4, 5, 3, 1, 2, 3, 4, 5, 3, 5, 1, 1, 1, 2, 3, 5, 1, 2, 4, 5, 1, 2, 3, 4, 5, 5, 1, 2, 3, 4, 3, 3, 1, 2, 3, 4, 5, 2, 3, 4, 4, 2, 4, 5, 5, 1, 2, 4, 5, 4, 1, 2, 5, 1, 2, 4, 5, 1, 2, 3, 4, 5, 1, 3, 5, 2, 2, 2, 4, 5, 1, 2, 3, 4, 5, 2, 4, 1, 3, 5, 2, 3, 3, 4, 3, 1, 2, 3, 4, 5, 4, 2, 4, 1, 2, 3, 4, 5, 2, 1, 2, 3, 4, 5, 1, 1, 2, 3, 4, 5, 1, 2, 3, 4, 5, 1, 2, 3, 4, 5, 1, 2, 3, 4, 5, 1, 2, 3, 4, 5, 4, 5, 1, 1, 5, 1, 2, 3, 4, 5, 1, 2, 3, 4, 5, 1, 2, 3, 4, 5, 3, 4, 5, 2, 1, 2, 3, 4, 5, 1, 2, 3, 4, 5, 1, 2, 3, 4, 5, 1, 4, 1, 2, 3, 4, 5, 4, 1, 1, 5, 1, 3, 4, 1, 2, 3, 4, 5, 3, 2, 1, 2, 3, 4, 5, 1, 2, 3, 4, 5, 3, 1, 2, 3, 4, 5, 5, 1, 2, 3, 4, 5, 1, 2, 3, 4, 5, 1, 1, 2, 3, 1, 2, 3, 4, 5, 4, 2, 4, 1, 3, 5, 2], \"Freq\": [0.7859865427017212, 0.8258247375488281, 0.07112525403499603, 0.8535030484199524, 0.07112525403499603, 0.13738051056861877, 0.3118909001350403, 0.19307531416416168, 0.07425973564386368, 0.28218701481819153, 0.16087430715560913, 0.09652458876371384, 0.25739890336990356, 0.04826229438185692, 0.43436065316200256, 0.04691829904913902, 0.25023093819618225, 0.5630195736885071, 0.0781971663236618, 0.06255773454904556, 0.8519538640975952, 0.07103410363197327, 0.5161811709403992, 0.24861937761306763, 0.028413642197847366, 0.13496480882167816, 0.2098931074142456, 0.5017756819725037, 0.11806487292051315, 0.05903243646025658, 0.10822613537311554, 0.8562002182006836, 0.053512513637542725, 0.053512513637542725, 0.025609655305743217, 0.7682896852493286, 0.12804828584194183, 0.0768289715051651, 0.11608533561229706, 0.9286826848983765, 0.9751386642456055, 0.09368167072534561, 0.07026124745607376, 0.07026124745607376, 0.7494533658027649, 0.09257695823907852, 0.4529658257961273, 0.29095613956451416, 0.10249591618776321, 0.06282007694244385, 0.12157999724149704, 0.5154991745948792, 0.1702120006084442, 0.08267439901828766, 0.10699039697647095, 0.096231609582901, 0.24745270609855652, 0.5636422634124756, 0.041242118924856186, 0.06873686611652374, 0.22856475412845612, 0.21674244105815887, 0.33102479577064514, 0.1930978000164032, 0.03546694293618202, 0.9124029278755188, 0.11903365701436996, 0.07325148582458496, 0.7874534130096436, 0.01831287145614624, 0.12932388484477997, 0.7759433388710022, 0.1659507006406784, 0.03319014236330986, 0.7965633869171143, 0.10939671099185944, 0.7657769918441772, 0.8167790770530701, 0.7043061852455139, 0.08865392208099365, 0.014775654301047325, 0.13298088312149048, 0.0591026172041893, 0.879410445690155, 0.3375420570373535, 0.20252522826194763, 0.059069857001304626, 0.05063130706548691, 0.35441914200782776, 0.953471839427948, 0.1625879853963852, 0.10684353858232498, 0.6038982272148132, 0.027872227132320404, 0.10219816863536835, 0.9088890552520752, 0.4061166048049927, 0.22115260362625122, 0.2090897262096405, 0.048251476138830185, 0.11258678138256073, 0.56971275806427, 0.1424281895160675, 0.16616621613502502, 0.11869016289710999, 0.011869016103446484, 0.9520334005355835, 0.11556535959243774, 0.431670606136322, 0.2413276582956314, 0.04758573696017265, 0.15975211560726166, 0.4935063421726227, 0.25821229815483093, 0.11153548955917358, 0.09090906381607056, 0.04583650454878807, 0.5080081820487976, 0.09407559037208557, 0.24459654092788696, 0.11602656543254852, 0.03763023763895035, 0.9647451043128967, 0.7898123264312744, 0.07120732218027115, 0.8544878363609314, 0.8564996719360352, 0.1625145971775055, 0.08125729858875275, 0.04062864929437637, 0.7313156723976135, 0.1749519407749176, 0.3650076389312744, 0.26683318614959717, 0.11957146972417831, 0.0742601752281189, 0.302234023809433, 0.09067020565271378, 0.5742446184158325, 0.8889771103858948, 0.8258271813392639, 0.18201948702335358, 0.23486386239528656, 0.37578216195106506, 0.13504672050476074, 0.07339495420455933, 0.3113180994987488, 0.07547105103731155, 0.17924374341964722, 0.4339585602283478, 0.8376979231834412, 0.13961631059646606, 0.8954472541809082, 0.029848242178559303, 0.029848242178559303, 0.05969648435711861, 0.8221986889839172, 0.8848439455032349, 0.28310391306877136, 0.15656504034996033, 0.31098535656929016, 0.21232794225215912, 0.03860507905483246, 0.08768808841705322, 0.8768808841705322, 0.8364079594612122, 0.8818247318267822, 0.04878947511315346, 0.2028615027666092, 0.21570083498954773, 0.2593545913696289, 0.27476176619529724, 0.044652264565229416, 0.8930453062057495, 0.044652264565229416, 0.1874018907546997, 0.31624069809913635, 0.05856309086084366, 0.39822903275489807, 0.023425236344337463, 0.4473840892314911, 0.272795170545578, 0.10911806672811508, 0.06547083705663681, 0.1036621630191803, 0.9080933332443237, 0.13753080368041992, 0.03438270092010498, 0.20629620552062988, 0.6188886165618896, 0.011845164000988007, 0.7344001531600952, 0.08291614800691605, 0.08291614800691605, 0.09476131200790405, 0.9084718227386475, 0.7859004139900208, 0.1309833973646164, 0.5290197134017944, 0.15758034586906433, 0.09567378461360931, 0.0675344318151474, 0.14632460474967957, 0.8917639851570129, 0.8895778656005859, 0.1426457166671753, 0.0217069573700428, 0.01860596239566803, 0.8124603629112244, 0.006201987620443106, 0.9188472628593445, 0.0195027906447649, 0.0390055812895298, 0.9361339807510376, 0.12215745449066162, 0.09598086029291153, 0.2006872445344925, 0.5846107006072998, 0.7899221181869507, 0.16943228244781494, 0.13454917073249817, 0.2491651326417923, 0.1943487972021103, 0.2541484236717224, 0.11390206217765808, 0.7973144054412842, 0.016321875154972076, 0.09793125092983246, 0.04896562546491623, 0.09793125092983246, 0.7508062720298767, 0.9203770160675049, 0.9142735004425049, 0.05246347934007645, 0.07869521528482437, 0.026231739670038223, 0.15739043056964874, 0.6820251941680908, 0.8349344730377197, 0.15047788619995117, 0.5078628659248352, 0.23825666308403015, 0.05642921105027199, 0.04388938471674919, 0.09565512835979462, 0.5466007590293884, 0.1776452362537384, 0.15031519532203674, 0.01366501860320568, 0.3850053548812866, 0.3185184895992279, 0.18090613186359406, 0.07421790063381195, 0.0417475663125515, 0.7847732305526733, 0.056055232882499695, 0.11211046576499939, 0.11211046576499939, 0.8874651193618774, 0.07395543158054352, 0.08275622874498367, 0.8275622725486755, 0.08275622874498367, 0.8272068500518799, 0.8391421437263489, 0.0546565018594265, 0.3416031301021576, 0.218626007437706, 0.0341603122651577, 0.3484351933002472, 0.9087345600128174, 0.20403233170509338, 0.6376010179519653, 0.051008082926273346, 0.0892641469836235, 0.012752020731568336, 0.8572818040847778, 0.7860966920852661, 0.1375669240951538, 0.039304833859205246, 0.019652416929602623, 0.04119780287146568, 0.08239560574293137, 0.8651538491249084, 0.970015823841095, 0.863779604434967, 0.11602039635181427, 0.0644557774066925, 0.6660430431365967, 0.12461449950933456, 0.025782311335206032, 0.8354882597923279, 0.8930194973945618, 0.0445956289768219, 0.8919125199317932, 0.0445956289768219, 0.912525475025177, 0.5877417922019958, 0.1579951047897339, 0.0884772539138794, 0.1327158808708191, 0.0379188247025013, 0.8952891826629639, 0.07460743188858032, 0.07460743188858032, 0.3968096375465393, 0.16213726997375488, 0.20480497181415558, 0.05546801537275314, 0.18347112834453583, 0.7856429815292358, 0.8258233070373535, 0.7858065366744995, 0.16330930590629578, 0.07932166010141373, 0.2496299296617508, 0.47126397490501404, 0.03966083005070686, 0.21481060981750488, 0.01193392276763916, 0.238678440451622, 0.5131586790084839, 0.02386784553527832, 0.29877886176109314, 0.06935937702655792, 0.19207212328910828, 0.2881081700325012, 0.15472476184368134, 0.2412627786397934, 0.18277482688426971, 0.18277482688426971, 0.17911933362483978, 0.21201880276203156, 0.07019779831171036, 0.2632417380809784, 0.44458603858947754, 0.15794503688812256, 0.06434797495603561, 0.05597692355513573, 0.47580385208129883, 0.2658903896808624, 0.16093365848064423, 0.04198269546031952, 0.8764430284500122, 0.893101155757904, 0.8220866918563843, 0.8733187913894653, 0.683758556842804, 0.08397034555673599, 0.04798305407166481, 0.11995763331651688, 0.05997881665825844, 0.8345211148262024, 0.8891860246658325, 0.7863350510597229, 0.11243192851543427, 0.7870234847068787, 0.06118527427315712, 0.5055835843086243, 0.15779361128807068, 0.15457333624362946, 0.11915027350187302, 0.09277160465717316, 0.30685991048812866, 0.3710864186286926, 0.12845298647880554, 0.09990787506103516, 0.9386234283447266, 0.6755850911140442, 0.04811636731028557, 0.02151544764637947, 0.20459236204624176, 0.0500723160803318, 0.15023578703403473, 0.7812260985374451, 0.06009431555867195, 0.9052042365074158, 0.256540983915329, 0.05631387606263161, 0.15642744302749634, 0.40045422315597534, 0.13139905035495758, 0.0382385328412056, 0.22943119704723358, 0.0382385328412056, 0.6882936358451843, 0.9286831617355347, 0.13998882472515106, 0.020235350355505943, 0.49825406074523926, 0.25178083777427673, 0.08989803493022919, 0.1203344538807869, 0.01604459434747696, 0.08824526518583298, 0.00802229717373848, 0.7701404690742493, 0.030221199616789818, 0.07555299997329712, 0.015110599808394909, 0.8764147758483887, 0.08968395739793777, 0.11800520867109299, 0.5428239703178406, 0.056642498821020126, 0.18880833685398102, 0.9268684983253479, 0.08426076918840408, 0.17273031175136566, 0.16193465888500214, 0.17812812328338623, 0.4102344810962677, 0.0755695104598999, 0.4588834345340729, 0.08439235389232635, 0.10549043864011765, 0.25317704677581787, 0.08966687321662903, 0.084492526948452, 0.8026790022850037, 0.1267387866973877, 0.9187461733818054, 0.24595749378204346, 0.47299519181251526, 0.05675942450761795, 0.1639716625213623, 0.05675942450761795, 0.20951682329177856, 0.13202430307865143, 0.12915420532226562, 0.4075532555580139, 0.12341401726007462, 0.24602816998958588, 0.18008247017860413, 0.11920952796936035, 0.38552868366241455, 0.07355481386184692, 0.8878788352012634, 0.8170260787010193, 0.1850951611995697, 0.1962008774280548, 0.20730657875537872, 0.2924503684043884, 0.12586471438407898, 0.21228817105293274, 0.11731714755296707, 0.48602816462516785, 0.07262489944696426, 0.11173061281442642, 0.13854438066482544, 0.5648347735404968, 0.04262904077768326, 0.031971778720617294, 0.2131451964378357, 0.2801836133003235, 0.1724206805229187, 0.07004590332508087, 0.18858511745929718, 0.290959894657135, 0.852499783039093, 0.14021092653274536, 0.7711601257324219, 0.333437979221344, 0.10695181041955948, 0.3040786683559418, 0.1719617247581482, 0.08388376981019974, 0.8452163934707642, 0.020540401339530945, 0.5819780230522156, 0.02738720178604126, 0.19855721294879913, 0.17117001116275787, 0.8079264163970947, 0.15148620307445526, 0.2564833462238312, 0.4420963227748871, 0.11136777698993683, 0.10461821407079697, 0.08774431049823761, 0.906105637550354, 0.07301615923643112, 0.25555655360221863, 0.16167864203453064, 0.1825404018163681, 0.32857272028923035, 0.9102532267570496, 0.2969419062137604, 0.4427850544452667, 0.12744851410388947, 0.04204487428069115, 0.0906592532992363, 0.8873611688613892, 0.8104891777038574, 0.5081278681755066, 0.1178424209356308, 0.1989266574382782, 0.10757175087928772, 0.06757019460201263, 0.8487608432769775, 0.025728551670908928, 0.6946709156036377, 0.07718566060066223, 0.15437132120132446, 0.051457103341817856, 0.172044038772583, 0.344088077545166, 0.3055707514286041, 0.13352671265602112, 0.04622078686952591, 0.20622238516807556, 0.10311119258403778, 0.03437039628624916, 0.6530375480651855, 0.386135458946228, 0.096533864736557, 0.09452274441719055, 0.040222443640232086, 0.3841243386268616, 0.48041442036628723, 0.293239951133728, 0.11854381859302521, 0.0686306282877922, 0.0374348908662796, 0.9183547496795654, 0.04591773822903633, 0.7682628631591797, 0.08536253869533539, 0.12804380059242249, 0.042681269347667694, 0.8384519815444946, 0.7879268527030945, 0.9288155436515808, 0.9087396860122681, 0.816678524017334, 0.19062858819961548, 0.3918476402759552, 0.15885715186595917, 0.11649524420499802, 0.1429714411497116, 0.20366351306438446, 0.14547394216060638, 0.3006461560726166, 0.34913745522499084, 0.9066486358642578, 0.08499830961227417, 0.9157113432884216, 0.033915236592292786, 0.13045144081115723, 0.18752393126487732, 0.3526265323162079, 0.16306428611278534, 0.16510260105133057, 0.8057476878166199, 0.8381690979003906, 0.18529286980628967, 0.07884802669286728, 0.5203969478607178, 0.0906752273440361, 0.12221444398164749, 0.8817066550254822, 0.12702040374279022, 0.12702040374279022, 0.12702040374279022, 0.02117006666958332, 0.6139319539070129, 0.8258185386657715, 0.8107233047485352, 0.812114953994751, 0.11722841113805771, 0.820598840713501, 0.02363711968064308, 0.9218476414680481, 0.02363711968064308, 0.19405512511730194, 0.6468504667282104, 0.1293700933456421, 0.8877461552619934, 0.1094481572508812, 0.012160906568169594, 0.14862531423568726, 0.4923213720321655, 0.18578164279460907, 0.13004715740680695, 0.04644541069865227, 0.8904166221618652, 0.39943927526474, 0.24301549792289734, 0.09776485711336136, 0.11731782555580139, 0.14245736598968506, 0.8451662659645081, 0.10894375294446945, 0.7626062631607056, 0.13556799292564392, 0.24854131042957306, 0.34860339760780334, 0.12588456273078918, 0.14202360808849335, 0.10837450623512268, 0.4942934811115265, 0.09780138731002808, 0.12952075898647308, 0.16916996240615845, 0.10786208510398865, 0.10786208510398865, 0.8628966808319092, 0.04336035996675491, 0.2059617042541504, 0.11924098432064056, 0.5745247602462769, 0.06504053622484207, 0.12838199734687805, 0.0855880007147789, 0.7702919840812683, 0.8451928496360779, 0.09391031414270401, 0.048337422311306, 0.821736216545105, 0.096674844622612, 0.9624539017677307, 0.02417335845530033, 0.31425365805625916, 0.02417335845530033, 0.6526806950569153, 0.9519371390342712, 0.3326871395111084, 0.030001845210790634, 0.39669108390808105, 0.1613432615995407, 0.08000492304563522, 0.18848916888237, 0.024062447249889374, 0.77801913022995, 0.004010407719761133, 0.004010407719761133, 0.19935649633407593, 0.08137000352144241, 0.17901399731636047, 0.4841515123844147, 0.05695899948477745, 0.10012340545654297, 0.10012340545654297, 0.8009872436523438, 0.9083198308944702, 0.907813310623169, 0.07415894418954849, 0.14831788837909698, 0.7415894269943237, 0.033227644860744476, 0.5565630197525024, 0.049841467291116714, 0.2658211588859558, 0.09968293458223343, 0.8852643966674805, 0.9035420417785645, 0.3116803765296936, 0.07741081714630127, 0.3931654691696167, 0.09778208285570145, 0.12222760170698166, 0.020436039194464684, 0.0613081157207489, 0.8991857171058655, 0.04087207838892937, 0.7162979245185852, 0.13774961233139038, 0.11019968241453171, 0.10343445092439651, 0.05910539999604225, 0.19209255278110504, 0.6058303117752075, 0.04432905092835426, 0.8150387406349182, 0.14818885922431946, 0.8807734847068787, 0.11009668558835983, 0.1656668335199356, 0.2733502686023712, 0.3789628744125366, 0.12425012141466141, 0.0579833909869194, 0.8921405076980591, 0.06862619519233704, 0.3947204649448395, 0.056091856211423874, 0.3635583221912384, 0.09348642826080322, 0.09348642826080322, 0.8439964652061462, 0.12984560430049896, 0.1232277899980545, 0.0410759299993515, 0.082151859998703, 0.5134491324424744, 0.22591762244701385, 0.9049365520477295, 0.11481598764657974, 0.13121826946735382, 0.6888958811759949, 0.049206849187612534, 0.032804567366838455, 0.7862051725387573, 0.8364179134368896, 0.9388769268989563, 0.908412516117096, 0.1629800796508789, 0.05432669073343277, 0.76057368516922, 0.8858930468559265, 0.03165755048394203, 0.22160285711288452, 0.6648085713386536, 0.06331510096788406, 0.13788676261901855, 0.3095417320728302, 0.3151697516441345, 0.09567653387784958, 0.1407007873058319, 0.9091070294380188, 0.780693769454956, 0.02692047506570816, 0.05384095013141632, 0.1346023827791214, 0.9043202996253967, 0.8861437439918518, 0.21482966840267181, 0.29798954725265503, 0.18017971515655518, 0.14206477999687195, 0.16285474598407745, 0.8228620290756226, 0.13714367151260376, 0.907400906085968, 0.8572977185249329, 0.07415200769901276, 0.8156720399856567, 0.07415200769901276, 0.7726666927337646, 0.15466758608818054, 0.07733379304409027, 0.07733379304409027, 0.6573372483253479, 0.8600432276725769, 0.8107216954231262, 0.7950305938720703, 0.08833672851324081, 0.10399157553911209, 0.15598736703395844, 0.051995787769556046, 0.7279410362243652, 0.12978734076023102, 0.5344184637069702, 0.2137673795223236, 0.08398003876209259, 0.03817274421453476, 0.29987484216690063, 0.03331942856311798, 0.6330691576004028, 0.9094670414924622, 0.8167642951011658, 0.1848871111869812, 0.0924435555934906, 0.6471049189567566, 0.11325567215681076, 0.5511776208877563, 0.07550378143787384, 0.15100756287574768, 0.11325567215681076, 0.9078355431556702, 0.08253050595521927, 0.24067483842372894, 0.09626993536949158, 0.6738895773887634, 0.8612286448478699, 0.12303265929222107, 0.08664683997631073, 0.8664684295654297, 0.7863141894340515, 0.37990257143974304, 0.21346905827522278, 0.20623281598091125, 0.07959863543510437, 0.12301606684923172, 0.8573062419891357, 0.1233338937163353, 0.8633372783660889, 0.1110367402434349, 0.1110367402434349, 0.18169648945331573, 0.13122524321079254, 0.46433547139167786, 0.9130493998527527, 0.6331201791763306, 0.1926887482404709, 0.08258089423179626, 0.022021571174263954, 0.06606471538543701, 0.9085866212844849, 0.29096564650535583, 0.017115626484155655, 0.11125156283378601, 0.08557812869548798, 0.48779532313346863, 0.08328528702259064, 0.5066521763801575, 0.25679630041122437, 0.09716617316007614, 0.06246396526694298, 0.16165919601917267, 0.09237668663263321, 0.4503363370895386, 0.11162182688713074, 0.18475337326526642, 0.21352693438529968, 0.285908967256546, 0.10495392233133316, 0.3293381631374359, 0.06876291334629059, 0.1915436089038849, 0.21732833981513977, 0.16023360192775726, 0.26705601811408997, 0.1657588928937912, 0.9288849234580994, 0.8856155276298523, 0.9352740049362183, 0.825780987739563, 0.7353832721710205, 0.17952245473861694, 0.2896839380264282, 0.028560388833284378, 0.30192410945892334, 0.20400278270244598, 0.07046321779489517, 0.07046321779489517, 0.7750954031944275, 0.035231608897447586, 0.035231608897447586, 0.1653013527393341, 0.3618759214878082, 0.21891260147094727, 0.13849572837352753, 0.11615771055221558, 0.8073689937591553, 0.9285728335380554, 0.7896549701690674, 0.8332144618034363, 0.26732149720191956, 0.16542170941829681, 0.354664146900177, 0.07146217674016953, 0.14160098135471344, 0.5195594429969788, 0.0191542636603117, 0.2992853820323944, 0.12689700722694397, 0.033519964665174484, 0.033632900565862656, 0.05044935271143913, 0.6222086548805237, 0.2858796715736389, 0.016816450282931328, 0.9206597805023193, 0.8674116134643555, 0.4448522925376892, 0.005703234579414129, 0.3650070130825043, 0.14258086681365967, 0.045625876635313034, 0.827582836151123, 0.9188855290412903, 0.8846808075904846, 0.8113004565238953, 0.037077032029628754, 0.6673865914344788, 0.2595392167568207, 0.06716307252645493, 0.4151899218559265, 0.16485482454299927, 0.20759496092796326, 0.14653761684894562, 0.8819208741188049, 0.8443737030029297, 0.5633975267410278, 0.06486484408378601, 0.1037837490439415, 0.17791500687599182, 0.09081078320741653, 0.12343212962150574, 0.17565341293811798, 0.6266554594039917, 0.03323172777891159, 0.0379791185259819, 0.8072510361671448, 0.19260743260383606, 0.19517552852630615, 0.39394640922546387, 0.061120759695768356, 0.15716767311096191, 0.9577904939651489, 0.12882700562477112, 0.12882700562477112, 0.12882700562477112, 0.025765402242541313, 0.5668388605117798, 0.3533344566822052, 0.04061315581202507, 0.020306577906012535, 0.39800894260406494, 0.18275919556617737, 0.9244111180305481, 0.09968651831150055, 0.8971787095069885, 0.8341062068939209, 0.2185700684785843, 0.260873943567276, 0.15511424839496613, 0.3172791302204132, 0.04230388253927231, 0.8052775859832764, 0.8533826470375061, 0.08533826470375061, 0.12459664791822433, 0.16612887382507324, 0.7060476541519165, 0.8621342778205872], \"Term\": [\"(energizers\", \"(mwh),\", \"1/4\", \"1/4\", \"1/4\", \"2\", \"2\", \"2\", \"2\", \"2\", \"3\", \"3\", \"3\", \"3\", \"3\", \"8\", \"8\", \"8\", \"8\", \"8\", \"99cent\", \"aa\", \"aa\", \"aa\", \"aa\", \"aa\", \"aaa\", \"aaa\", \"aaa\", \"aaa\", \"aaa\", \"acdelco\", \"acdelco\", \"acdelco\", \"acid\", \"acid\", \"acid\", \"acid\", \"adequate\", \"adequate\", \"advertise\", \"advertised.\", \"advertised.\", \"advertised.\", \"advertised.\", \"again.\", \"again.\", \"again.\", \"again.\", \"again.\", \"alkaline\", \"alkaline\", \"alkaline\", \"alkaline\", \"alkaline\", \"all.\", \"all.\", \"all.\", \"all.\", \"all.\", \"amazonbasics\", \"amazonbasics\", \"amazonbasics\", \"amazonbasics\", \"amazonbasics\", \"around!\", \"awesome\", \"awesome\", \"awesome\", \"awesome\", \"bag\", \"bag\", \"bang\", \"bang\", \"bang\", \"bargain!\", \"bargain!\", \"bat\", \"batteries!\", \"batteries!\", \"batteries!\", \"batteries!\", \"batteries!\", \"battery's.\", \"battery.\", \"battery.\", \"battery.\", \"battery.\", \"battery.\", \"batterys\", \"beat\", \"beat\", \"beat\", \"beat\", \"beat\", \"bicycle\", \"big\", \"big\", \"big\", \"big\", \"big\", \"bite\", \"bite\", \"bite\", \"bite\", \"bite\", \"blood\", \"box\", \"box\", \"box\", \"box\", \"box\", \"brand\", \"brand\", \"brand\", \"brand\", \"brand\", \"brands.\", \"brands.\", \"brands.\", \"brands.\", \"brands.\", \"brush\", \"buck!\", \"buck.\", \"buck.\", \"bunch.\", \"bunny\", \"bunny\", \"bunny\", \"bunny\", \"buy\", \"buy\", \"buy\", \"buy\", \"buy\", \"buy!\", \"buy!\", \"buy!\", \"buzz\", \"calculation\", \"can't\", \"can't\", \"can't\", \"can't\", \"can't\", \"candle\", \"candle\", \"candle\", \"candle\", \"candle.\", \"candle.\", \"capacity\", \"capacity\", \"capacity\", \"capacity\", \"case,\", \"charger.\", \"cheap\", \"cheap\", \"cheap\", \"cheap\", \"cheap\", \"cheaper,\", \"cheaper,\", \"circle\", \"class\", \"come\", \"come\", \"come\", \"come\", \"come\", \"company\", \"company\", \"company\", \"comparable\", \"comparable\", \"comparable\", \"comparable\", \"comparable\", \"compare\", \"compare\", \"compare\", \"compare\", \"compare\", \"competition.i\", \"complaints.\", \"complaints.\", \"complaints.\", \"complaints.\", \"control\", \"control\", \"control\", \"control\", \"control\", \"copper-top\", \"coppertops\", \"coppertops\", \"cost\", \"cost\", \"cost\", \"cost\", \"cost\", \"damn\", \"date.\", \"deal\", \"deal\", \"deal\", \"deal\", \"deal\", \"deal!!!\", \"deal,\", \"deal,\", \"deal,\", \"deal.\", \"deal.\", \"deal.\", \"deal.\", \"decorations.\", \"definitely\", \"definitely\", \"definitely\", \"definitely\", \"definitely\", \"delivery!\", \"delivery!\", \"describe\", \"describe\", \"describe\", \"describe\", \"describe\", \"described!\", \"described,\", \"described.\", \"described.\", \"described.\", \"described.\", \"described.\", \"device)\", \"didn't\", \"didn't\", \"didn't\", \"didn't\", \"didn't\", \"doesn't\", \"doesn't\", \"doesn't\", \"doesn't\", \"doesn't\", \"don't\", \"don't\", \"don't\", \"don't\", \"don't\", \"done.\", \"done.\", \"done.\", \"done.\", \"duds.\", \"duds.\", \"durable\", \"durable\", \"durable\", \"duracel.\", \"duty\", \"easy\", \"easy\", \"easy\", \"easy\", \"easy\", \"el\", \"electronic\", \"electronic\", \"electronic\", \"electronic\", \"electronic\", \"energenizer\", \"energizer.\", \"energizer.\", \"energizer.\", \"energizer.\", \"everyday\", \"everyday\", \"everyday\", \"everything.\", \"excelent\", \"excellent\", \"excellent\", \"excellent\", \"excellent\", \"excellent\", \"excellent!\", \"excellent,\", \"excellent.\", \"excellent.\", \"excellent.\", \"exception.\", \"expect\", \"expect\", \"expect\", \"expect\", \"expect\", \"expected!\", \"expected!\", \"expected!\", \"expensive\", \"expensive\", \"expensive\", \"expensive\", \"expensive\", \"expire\", \"extrapolate\", \"failed.\", \"far\", \"far\", \"far\", \"far\", \"far\", \"far.\", \"far.\", \"far.\", \"far.\", \"far.\", \"fast\", \"fast\", \"fast\", \"fast\", \"fast\", \"find\", \"find\", \"find\", \"find\", \"find\", \"fine\", \"fine\", \"fine\", \"fine\", \"fine\", \"fine.\", \"fine.\", \"fine.\", \"fine.\", \"fine.\", \"flashes,\", \"flashlight,\", \"for...\", \"four,\", \"fraction\", \"fraction\", \"fraction\", \"fraction\", \"fraction\", \"friendly\", \"fun\", \"garage\", \"gas\", \"gas\", \"get\", \"get\", \"get\", \"get\", \"get\", \"go\", \"go\", \"go\", \"go\", \"go\", \"gonna\", \"good\", \"good\", \"good\", \"good\", \"good\", \"good!\", \"good!\", \"good!\", \"good!!!\", \"good.\", \"good.\", \"good.\", \"good.\", \"good.\", \"got\", \"got\", \"got\", \"got\", \"gotta\", \"great\", \"great\", \"great\", \"great\", \"great\", \"great!\", \"great!\", \"great!\", \"great!\", \"great!\", \"great,\", \"great,\", \"great,\", \"great,\", \"great.\", \"great.\", \"great.\", \"great.\", \"great.\", \"guy\", \"guy\", \"haven't\", \"haven't\", \"haven't\", \"haven't\", \"haven't\", \"high\", \"high\", \"high\", \"high\", \"high\", \"home.\", \"home.\", \"home.\", \"horribly\", \"i'll\", \"i'll\", \"i'll\", \"i'll\", \"i'll\", \"i'm\", \"i'm\", \"i'm\", \"i'm\", \"i'm\", \"i've\", \"i've\", \"i've\", \"i've\", \"i've\", \"indicator\", \"insane\", \"it's\", \"it's\", \"it's\", \"it's\", \"it's\", \"item\", \"item\", \"item\", \"item\", \"item\", \"job\", \"job\", \"job\", \"job\", \"job\", \"kid\", \"kid\", \"kid\", \"kid\", \"kid\", \"kids'\", \"know,\", \"know,\", \"last\", \"last\", \"last\", \"last\", \"last\", \"last!\", \"leak\", \"leak\", \"leak\", \"leak\", \"leak\", \"leak.\", \"leak.\", \"life\", \"life\", \"life\", \"life\", \"life\", \"life...\", \"light\", \"light\", \"light\", \"light\", \"light\", \"lightning\", \"like\", \"like\", \"like\", \"like\", \"like\", \"literally\", \"logo\", \"long\", \"long\", \"long\", \"long\", \"long\", \"long-lasting.\", \"longevity\", \"longevity\", \"longevity\", \"longevity\", \"longevity\", \"lot\", \"lot\", \"lot\", \"lot\", \"lot\", \"lots\", \"lots\", \"lots\", \"lots\", \"love\", \"love\", \"love\", \"love\", \"love\", \"low\", \"low\", \"low\", \"low\", \"low\", \"ma\", \"ma\", \"mah\", \"mah\", \"mah\", \"mah\", \"maintain\", \"manage\", \"market.\", \"mean,\", \"mean...\", \"month\", \"month\", \"month\", \"month\", \"month\", \"mouse\", \"mouse\", \"mouse\", \"mouse\", \"name\", \"name\", \"national\", \"national\", \"need\", \"need\", \"need\", \"need\", \"need\", \"needed,\", \"nest\", \"nice\", \"nice\", \"nice\", \"nice\", \"nice\", \"nice!\", \"night\", \"night\", \"night\", \"night\", \"night\", \"ninja\", \"november\", \"o\", \"off-brand\", \"off-brand\", \"ok\", \"ok\", \"ok\", \"ok.\", \"ok.\", \"ok.\", \"okay\", \"okay\", \"okay\", \"open\", \"open\", \"open\", \"open\", \"open\", \"opportunity\", \"order\", \"order\", \"order\", \"order\", \"order\", \"ordered.\", \"output\", \"output\", \"pack\", \"pack\", \"pack\", \"pack\", \"pack\", \"package\", \"package\", \"package\", \"package\", \"package\", \"packaging!\", \"packaging!\", \"packaging!\", \"perfect\", \"perfect\", \"perfect\", \"perfect\", \"perfect\", \"perfect!\", \"perfect!\", \"perfect!\", \"place.\", \"place.\", \"point.\", \"point.\", \"point.\", \"power!\", \"power.\", \"power.\", \"power.\", \"power.\", \"pressure\", \"price\", \"price\", \"price\", \"price\", \"price\", \"price!\", \"price!\", \"price!\", \"price!\", \"price!\", \"price,\", \"price,\", \"price,\", \"price,\", \"price,\", \"priced.\", \"priced.\", \"priced.\", \"prices,\", \"pricey\", \"pro\", \"pro\", \"pro\", \"problem\", \"problem\", \"problem\", \"problem\", \"problem\", \"problems!\", \"process.\", \"product\", \"product\", \"product\", \"product\", \"product\", \"product!\", \"product!\", \"product!\", \"product!\", \"product,\", \"product,\", \"product,\", \"product.\", \"product.\", \"product.\", \"product.\", \"product.\", \"promise\", \"promise\", \"pull\", \"pull\", \"purchase\", \"purchase\", \"purchase\", \"purchase\", \"purchase\", \"purchase!\", \"purchase!\", \"quality\", \"quality\", \"quality\", \"quality\", \"quality\", \"quality!\", \"quality!\", \"quality,\", \"quality,\", \"quality,\", \"quality,\", \"quality,\", \"quickly!\", \"quickly.\", \"quickly.\", \"quickly.\", \"quickly.\", \"quickly.\", \"rated\", \"ray\", \"rayovacs\", \"rayovacs,\", \"reasonably\", \"reasonably\", \"reasonably\", \"recharge,\", \"reliable\", \"reliable\", \"reliable\", \"reliable\", \"remote\", \"remote\", \"remote\", \"remote\", \"remote\", \"report\", \"result\", \"result\", \"result\", \"result\", \"room.\", \"row\", \"run\", \"run\", \"run\", \"run\", \"run\", \"said.\", \"said.\", \"sams\", \"sanity.\", \"satisfied.\", \"satisfied.\", \"satisfied.\", \"say!\", \"say,\", \"say,\", \"say,\", \"say,\", \"screw\", \"see.\", \"sensor\", \"sensor\", \"serve\", \"serve\", \"serve\", \"serve\", \"set\", \"set\", \"set\", \"set\", \"set\", \"shipping.\", \"shipping.\", \"shipping.\", \"shortest\", \"shot.\", \"should.\", \"should.\", \"should.\", \"small\", \"small\", \"small\", \"small\", \"small\", \"something.\", \"something.\", \"sound\", \"sound\", \"sound\", \"span.\", \"span.\", \"speak\", \"speak\", \"steal.\", \"store\", \"store\", \"store\", \"store\", \"store\", \"subscription.\", \"suit\", \"suit\", \"super\", \"super\", \"super\", \"super\", \"super\", \"terminal\", \"test\", \"test\", \"test\", \"test\", \"test\", \"test.\", \"thank\", \"thank\", \"thank\", \"thank\", \"thank\", \"these.\", \"these.\", \"these.\", \"these.\", \"these.\", \"they're\", \"they're\", \"they're\", \"they're\", \"they're\", \"think\", \"think\", \"think\", \"think\", \"think\", \"time\", \"time\", \"time\", \"time\", \"time\", \"toddlers.\", \"too!!\", \"toothbrush\", \"toothbrushes.\", \"top,\", \"toy\", \"toy\", \"toy\", \"toy\", \"toy\", \"trail\", \"trail\", \"trail\", \"trail\", \"trail\", \"try\", \"try\", \"try\", \"try\", \"try\", \"tv.\", \"twin\", \"unbelievable\", \"usa\", \"use\", \"use\", \"use\", \"use\", \"use\", \"value\", \"value\", \"value\", \"value\", \"value\", \"value!\", \"value!\", \"value!\", \"value!\", \"value!\", \"value!!\", \"value!!!\", \"value.\", \"value.\", \"value.\", \"value.\", \"value.\", \"version.\", \"volume\", \"walmart\", \"wanted.\", \"we'll\", \"we'll\", \"we'll\", \"week\", \"week\", \"week\", \"week\", \"week\", \"weekly.\", \"weird\", \"well\", \"well\", \"well\", \"well\", \"well\", \"well.\", \"well.\", \"well.\", \"well.\", \"well.\", \"window.\", \"work\", \"work\", \"work\", \"work\", \"work\", \"work!\", \"work,\", \"work,\", \"work,\", \"work,\", \"work,\", \"works\", \"works\", \"works\", \"works\", \"works\", \"works.\", \"world.\", \"world.\", \"worse,\", \"worth\", \"worth\", \"worth\", \"worth\", \"worth\", \"wrapped.\", \"x\", \"x\", \"you!\", \"you!\", \"you!\", \"yup.\"]}, \"R\": 30, \"lambda.step\": 0.01, \"plot.opts\": {\"xlab\": \"PC1\", \"ylab\": \"PC2\"}, \"topic.order\": [2, 3, 1, 5, 4]};\n",
       "\n",
       "function LDAvis_load_lib(url, callback){\n",
       "  var s = document.createElement('script');\n",
       "  s.src = url;\n",
       "  s.async = true;\n",
       "  s.onreadystatechange = s.onload = callback;\n",
       "  s.onerror = function(){console.warn(\"failed to load library \" + url);};\n",
       "  document.getElementsByTagName(\"head\")[0].appendChild(s);\n",
       "}\n",
       "\n",
       "if(typeof(LDAvis) !== \"undefined\"){\n",
       "   // already loaded: just create the visualization\n",
       "   !function(LDAvis){\n",
       "       new LDAvis(\"#\" + \"ldavis_el1632418235034899286102899286\", ldavis_el1632418235034899286102899286_data);\n",
       "   }(LDAvis);\n",
       "}else if(typeof define === \"function\" && define.amd){\n",
       "   // require.js is available: use it to load d3/LDAvis\n",
       "   require.config({paths: {d3: \"https://cdnjs.cloudflare.com/ajax/libs/d3/3.5.5/d3.min\"}});\n",
       "   require([\"d3\"], function(d3){\n",
       "      window.d3 = d3;\n",
       "      LDAvis_load_lib(\"https://cdn.rawgit.com/bmabey/pyLDAvis/files/ldavis.v1.0.0.js\", function(){\n",
       "        new LDAvis(\"#\" + \"ldavis_el1632418235034899286102899286\", ldavis_el1632418235034899286102899286_data);\n",
       "      });\n",
       "    });\n",
       "}else{\n",
       "    // require.js not available: dynamically load d3 & LDAvis\n",
       "    LDAvis_load_lib(\"https://cdnjs.cloudflare.com/ajax/libs/d3/3.5.5/d3.min.js\", function(){\n",
       "         LDAvis_load_lib(\"https://cdn.rawgit.com/bmabey/pyLDAvis/files/ldavis.v1.0.0.js\", function(){\n",
       "                 new LDAvis(\"#\" + \"ldavis_el1632418235034899286102899286\", ldavis_el1632418235034899286102899286_data);\n",
       "            })\n",
       "         });\n",
       "}\n",
       "</script>"
      ],
      "text/plain": [
       "PreparedData(topic_coordinates=              x         y  topics  cluster       Freq\n",
       "topic                                                \n",
       "1      0.084391  0.047638       1        1  24.736040\n",
       "2     -0.068446  0.083779       2        1  22.987709\n",
       "0      0.015089 -0.020854       3        1  22.004368\n",
       "4      0.052866 -0.052991       4        1  16.463604\n",
       "3     -0.083900 -0.057572       5        1  13.808283, topic_info=        Term         Freq        Total Category  logprob  loglift\n",
       "61      good  2556.000000  2556.000000  Default  30.0000  30.0000\n",
       "70     great  3014.000000  3014.000000  Default  29.0000  29.0000\n",
       "695     deal   322.000000   322.000000  Default  28.0000  28.0000\n",
       "17     price  1499.000000  1499.000000  Default  27.0000  27.0000\n",
       "98      love   497.000000   497.000000  Default  26.0000  26.0000\n",
       "..       ...          ...          ...      ...      ...      ...\n",
       "14   product    59.682434   490.887482   Topic5  -5.4483  -0.1273\n",
       "58        aa    57.127136   422.332336   Topic5  -5.4921  -0.0206\n",
       "18     brand    59.808521  1309.000366   Topic5  -5.4462  -1.1060\n",
       "6      order    51.270679   358.001862   Topic5  -5.6002   0.0365\n",
       "157   remote    50.362457   355.364044   Topic5  -5.6181   0.0260\n",
       "\n",
       "[419 rows x 6 columns], token_table=      Topic      Freq         Term\n",
       "term                              \n",
       "2954      3  0.785987  (energizers\n",
       "7178      1  0.825825       (mwh),\n",
       "231       1  0.071125          1/4\n",
       "231       2  0.853503          1/4\n",
       "231       4  0.071125          1/4\n",
       "...     ...       ...          ...\n",
       "871       4  0.085338            x\n",
       "185       1  0.124597         you!\n",
       "185       3  0.166129         you!\n",
       "185       5  0.706048         you!\n",
       "8762      2  0.862134         yup.\n",
       "\n",
       "[927 rows x 3 columns], R=30, lambda_step=0.01, plot_opts={'xlab': 'PC1', 'ylab': 'PC2'}, topic_order=[2, 3, 1, 5, 4])"
      ]
     },
     "execution_count": 29,
     "metadata": {},
     "output_type": "execute_result"
    }
   ],
   "source": [
    "\n",
    "import pyLDAvis.gensim\n",
    "\n",
    "pyLDAvis.enable_notebook()\n",
    "\n",
    "pyLDAvis.gensim.prepare(lda_model, corpus, id2word)"
   ]
  },
  {
   "cell_type": "code",
   "execution_count": 30,
   "metadata": {},
   "outputs": [
    {
     "data": {
      "text/html": [
       "<div>\n",
       "<style scoped>\n",
       "    .dataframe tbody tr th:only-of-type {\n",
       "        vertical-align: middle;\n",
       "    }\n",
       "\n",
       "    .dataframe tbody tr th {\n",
       "        vertical-align: top;\n",
       "    }\n",
       "\n",
       "    .dataframe thead th {\n",
       "        text-align: right;\n",
       "    }\n",
       "</style>\n",
       "<table border=\"1\" class=\"dataframe\">\n",
       "  <thead>\n",
       "    <tr style=\"text-align: right;\">\n",
       "      <th></th>\n",
       "      <th>0</th>\n",
       "      <th>1</th>\n",
       "      <th>2</th>\n",
       "      <th>3</th>\n",
       "      <th>4</th>\n",
       "    </tr>\n",
       "  </thead>\n",
       "  <tbody>\n",
       "    <tr>\n",
       "      <th>0</th>\n",
       "      <td>0.017169</td>\n",
       "      <td>0.931314</td>\n",
       "      <td>0.017286</td>\n",
       "      <td>0.017310</td>\n",
       "      <td>0.016920</td>\n",
       "    </tr>\n",
       "    <tr>\n",
       "      <th>1</th>\n",
       "      <td>0.034503</td>\n",
       "      <td>0.863496</td>\n",
       "      <td>0.034173</td>\n",
       "      <td>0.033903</td>\n",
       "      <td>0.033925</td>\n",
       "    </tr>\n",
       "    <tr>\n",
       "      <th>2</th>\n",
       "      <td>0.068811</td>\n",
       "      <td>0.068405</td>\n",
       "      <td>0.066829</td>\n",
       "      <td>0.067779</td>\n",
       "      <td>0.728176</td>\n",
       "    </tr>\n",
       "    <tr>\n",
       "      <th>3</th>\n",
       "      <td>0.041362</td>\n",
       "      <td>0.836826</td>\n",
       "      <td>0.040545</td>\n",
       "      <td>0.040695</td>\n",
       "      <td>0.040572</td>\n",
       "    </tr>\n",
       "    <tr>\n",
       "      <th>4</th>\n",
       "      <td>0.837131</td>\n",
       "      <td>0.041356</td>\n",
       "      <td>0.040336</td>\n",
       "      <td>0.040542</td>\n",
       "      <td>0.040635</td>\n",
       "    </tr>\n",
       "  </tbody>\n",
       "</table>\n",
       "</div>"
      ],
      "text/plain": [
       "          0         1         2         3         4\n",
       "0  0.017169  0.931314  0.017286  0.017310  0.016920\n",
       "1  0.034503  0.863496  0.034173  0.033903  0.033925\n",
       "2  0.068811  0.068405  0.066829  0.067779  0.728176\n",
       "3  0.041362  0.836826  0.040545  0.040695  0.040572\n",
       "4  0.837131  0.041356  0.040336  0.040542  0.040635"
      ]
     },
     "execution_count": 30,
     "metadata": {},
     "output_type": "execute_result"
    }
   ],
   "source": [
    "\n",
    "topics = pd.DataFrame.from_records(new_distro)\n",
    "topics.head()"
   ]
  },
  {
   "cell_type": "code",
   "execution_count": 31,
   "metadata": {},
   "outputs": [
    {
     "data": {
      "text/html": [
       "<div>\n",
       "<style scoped>\n",
       "    .dataframe tbody tr th:only-of-type {\n",
       "        vertical-align: middle;\n",
       "    }\n",
       "\n",
       "    .dataframe tbody tr th {\n",
       "        vertical-align: top;\n",
       "    }\n",
       "\n",
       "    .dataframe thead th {\n",
       "        text-align: right;\n",
       "    }\n",
       "</style>\n",
       "<table border=\"1\" class=\"dataframe\">\n",
       "  <thead>\n",
       "    <tr style=\"text-align: right;\">\n",
       "      <th></th>\n",
       "      <th>reviews.rating</th>\n",
       "    </tr>\n",
       "    <tr>\n",
       "      <th>primaryTopic</th>\n",
       "      <th></th>\n",
       "    </tr>\n",
       "  </thead>\n",
       "  <tbody>\n",
       "    <tr>\n",
       "      <th>0.0</th>\n",
       "      <td>4.552983</td>\n",
       "    </tr>\n",
       "    <tr>\n",
       "      <th>1.0</th>\n",
       "      <td>4.538023</td>\n",
       "    </tr>\n",
       "    <tr>\n",
       "      <th>2.0</th>\n",
       "      <td>3.977431</td>\n",
       "    </tr>\n",
       "    <tr>\n",
       "      <th>3.0</th>\n",
       "      <td>4.453061</td>\n",
       "    </tr>\n",
       "    <tr>\n",
       "      <th>4.0</th>\n",
       "      <td>4.527806</td>\n",
       "    </tr>\n",
       "  </tbody>\n",
       "</table>\n",
       "</div>"
      ],
      "text/plain": [
       "              reviews.rating\n",
       "primaryTopic                \n",
       "0.0                 4.552983\n",
       "1.0                 4.538023\n",
       "2.0                 3.977431\n",
       "3.0                 4.453061\n",
       "4.0                 4.527806"
      ]
     },
     "execution_count": 31,
     "metadata": {},
     "output_type": "execute_result"
    }
   ],
   "source": [
    "\n",
    "df['primaryTopic'] = topics.idxmax(axis=1)\n",
    "df[['primaryTopic', 'reviews.rating']].groupby('primaryTopic').mean()"
   ]
  },
  {
   "cell_type": "code",
   "execution_count": 32,
   "metadata": {},
   "outputs": [
    {
     "data": {
      "image/png": "[encoded data removed]",
      "text/plain": [
       "<Figure size 432x288 with 1 Axes>"
      ]
     },
     "metadata": {
      "needs_background": "light"
     },
     "output_type": "display_data"
    }
   ],
   "source": [
    "ax = sns.boxplot(x=\"primaryTopic\", y=\"reviews.rating\",\n",
    "                 data=df)\n"
   ]
  },
  {
   "cell_type": "code",
   "execution_count": null,
   "metadata": {},
   "outputs": [],
   "source": []
  },
  {
   "cell_type": "code",
   "execution_count": null,
   "metadata": {},
   "outputs": [],
   "source": []
  },
  {
   "cell_type": "markdown",
   "metadata": {},
   "source": [
    "## Stretch Goals\n",
    "\n",
    "* Incorporate Named Entity Recognition in your analysis\n",
    "* Incorporate some custom pre-processing from our previous lessons (like spacy lemmatization)\n",
    "* Analyze a dataset of interest to you with topic modeling"
   ]
  }
 ],
 "metadata": {
  "kernelspec": {
   "display_name": "U4-S1-NLP (Python3)",
   "language": "python",
   "name": "u4-s1-nlp"
  },
  "language_info": {
   "codemirror_mode": {
    "name": "ipython",
    "version": 3
   },
   "file_extension": ".py",
   "mimetype": "text/x-python",
   "name": "python",
   "nbconvert_exporter": "python",
   "pygments_lexer": "ipython3",
   "version": "3.7.0"
  }
 },
 "nbformat": 4,
 "nbformat_minor": 4
}
