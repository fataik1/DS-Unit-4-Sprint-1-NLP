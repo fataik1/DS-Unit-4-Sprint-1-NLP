{
 "cells": [
  {
   "cell_type": "markdown",
   "metadata": {},
   "source": [
    "<img align=\"left\" src=\"https://lever-client-logos.s3.amazonaws.com/864372b1-534c-480e-acd5-9711f850815c-1524247202159.png\" width=200>\n",
    "<br></br>\n",
    "<br></br>\n",
    "\n",
    "# Sprint Challenge\n",
    "## *Data Science Unit 4 Sprint 1*\n",
    "\n",
    "After a week of Natural Language Processing, you've learned some cool new stuff: how to process text, how turn text into vectors, and how to model topics from documents. Apply your newly acquired skills to one of the most famous NLP datasets out there: [Yelp](https://www.yelp.com/dataset/challenge). As part of the job selection process, some of my friends have been asked to create analysis of this dataset, so I want to empower you to have a head start.  \n",
    "\n",
    "The real dataset is massive (almost 8 gigs uncompressed). I've sampled the data for you to something more managable for the Sprint Challenge. You can analyze the full dataset as a stretch goal or after the sprint challenge. As you work on the challenge, I suggest adding notes about your findings and things you want to analyze in the future.\n",
    "\n",
    "## Challenge Objectives\n",
    "*Successfully complete these all these objectives to earn a 2. There are more details on each objective further down in the notebook.*\n",
    "* <a href=\"#p1\">Part 1</a>: Write a function to tokenize the yelp reviews\n",
    "* <a href=\"#p2\">Part 2</a>: Create a vector representation of those tokens\n",
    "* <a href=\"#p3\">Part 3</a>: Use your tokens in a classification model on yelp rating\n",
    "* <a href=\"#p4\">Part 4</a>: Estimate & Interpret a topic model of the Yelp reviews"
   ]
  },
  {
   "cell_type": "code",
   "execution_count": 1,
   "metadata": {},
   "outputs": [],
   "source": [
    "import pandas as pd\n",
    "import seaborn as sns\n",
    "import re\n",
    "import spacy\n",
    "import matplotlib.pyplot as plt\n",
    "from sklearn.feature_extraction.text import CountVectorizer\n",
    "from sklearn.neighbors import NearestNeighbors\n",
    "from sklearn.pipeline import Pipeline\n",
    "from sklearn.ensemble import RandomForestClassifier\n",
    "from sklearn.model_selection import GridSearchCV\n",
    "from gensim.models import LdaMulticore\n",
    "from gensim.corpora import Dictionary\n",
    "from gensim import corpora\n",
    "import pyLDAvis.gensim\n"
   ]
  },
  {
   "cell_type": "code",
   "execution_count": 2,
   "metadata": {},
   "outputs": [],
   "source": [
    "\n",
    "yelp = pd.read_json('review_sample.json', lines=True)"
   ]
  },
  {
   "cell_type": "code",
   "execution_count": 3,
   "metadata": {},
   "outputs": [
    {
     "data": {
      "text/html": [
       "<div>\n",
       "<style scoped>\n",
       "    .dataframe tbody tr th:only-of-type {\n",
       "        vertical-align: middle;\n",
       "    }\n",
       "\n",
       "    .dataframe tbody tr th {\n",
       "        vertical-align: top;\n",
       "    }\n",
       "\n",
       "    .dataframe thead th {\n",
       "        text-align: right;\n",
       "    }\n",
       "</style>\n",
       "<table border=\"1\" class=\"dataframe\">\n",
       "  <thead>\n",
       "    <tr style=\"text-align: right;\">\n",
       "      <th></th>\n",
       "      <th>business_id</th>\n",
       "      <th>cool</th>\n",
       "      <th>date</th>\n",
       "      <th>funny</th>\n",
       "      <th>review_id</th>\n",
       "      <th>stars</th>\n",
       "      <th>text</th>\n",
       "      <th>useful</th>\n",
       "      <th>user_id</th>\n",
       "    </tr>\n",
       "  </thead>\n",
       "  <tbody>\n",
       "    <tr>\n",
       "      <th>0</th>\n",
       "      <td>nDuEqIyRc8YKS1q1fX0CZg</td>\n",
       "      <td>1</td>\n",
       "      <td>2015-03-31 16:50:30</td>\n",
       "      <td>0</td>\n",
       "      <td>eZs2tpEJtXPwawvHnHZIgQ</td>\n",
       "      <td>1</td>\n",
       "      <td>BEWARE!!! FAKE, FAKE, FAKE....We also own a sm...</td>\n",
       "      <td>10</td>\n",
       "      <td>n1LM36qNg4rqGXIcvVXv8w</td>\n",
       "    </tr>\n",
       "    <tr>\n",
       "      <th>1</th>\n",
       "      <td>eMYeEapscbKNqUDCx705hg</td>\n",
       "      <td>0</td>\n",
       "      <td>2015-12-16 05:31:03</td>\n",
       "      <td>0</td>\n",
       "      <td>DoQDWJsNbU0KL1O29l_Xug</td>\n",
       "      <td>4</td>\n",
       "      <td>Came here for lunch Togo. Service was quick. S...</td>\n",
       "      <td>0</td>\n",
       "      <td>5CgjjDAic2-FAvCtiHpytA</td>\n",
       "    </tr>\n",
       "    <tr>\n",
       "      <th>2</th>\n",
       "      <td>6Q7-wkCPc1KF75jZLOTcMw</td>\n",
       "      <td>1</td>\n",
       "      <td>2010-06-20 19:14:48</td>\n",
       "      <td>1</td>\n",
       "      <td>DDOdGU7zh56yQHmUnL1idQ</td>\n",
       "      <td>3</td>\n",
       "      <td>I've been to Vegas dozens of times and had nev...</td>\n",
       "      <td>2</td>\n",
       "      <td>BdV-cf3LScmb8kZ7iiBcMA</td>\n",
       "    </tr>\n",
       "    <tr>\n",
       "      <th>3</th>\n",
       "      <td>k3zrItO4l9hwfLRwHBDc9w</td>\n",
       "      <td>3</td>\n",
       "      <td>2010-07-13 00:33:45</td>\n",
       "      <td>4</td>\n",
       "      <td>LfTMUWnfGFMOfOIyJcwLVA</td>\n",
       "      <td>1</td>\n",
       "      <td>We went here on a night where they closed off ...</td>\n",
       "      <td>5</td>\n",
       "      <td>cZZnBqh4gAEy4CdNvJailQ</td>\n",
       "    </tr>\n",
       "    <tr>\n",
       "      <th>4</th>\n",
       "      <td>6hpfRwGlOzbNv7k5eP9rsQ</td>\n",
       "      <td>1</td>\n",
       "      <td>2018-06-30 02:30:01</td>\n",
       "      <td>0</td>\n",
       "      <td>zJSUdI7bJ8PNJAg4lnl_Gg</td>\n",
       "      <td>4</td>\n",
       "      <td>3.5 to 4 stars\\n\\nNot bad for the price, $12.9...</td>\n",
       "      <td>5</td>\n",
       "      <td>n9QO4ClYAS7h9fpQwa5bhA</td>\n",
       "    </tr>\n",
       "  </tbody>\n",
       "</table>\n",
       "</div>"
      ],
      "text/plain": [
       "              business_id  cool                date  funny  \\\n",
       "0  nDuEqIyRc8YKS1q1fX0CZg     1 2015-03-31 16:50:30      0   \n",
       "1  eMYeEapscbKNqUDCx705hg     0 2015-12-16 05:31:03      0   \n",
       "2  6Q7-wkCPc1KF75jZLOTcMw     1 2010-06-20 19:14:48      1   \n",
       "3  k3zrItO4l9hwfLRwHBDc9w     3 2010-07-13 00:33:45      4   \n",
       "4  6hpfRwGlOzbNv7k5eP9rsQ     1 2018-06-30 02:30:01      0   \n",
       "\n",
       "                review_id  stars  \\\n",
       "0  eZs2tpEJtXPwawvHnHZIgQ      1   \n",
       "1  DoQDWJsNbU0KL1O29l_Xug      4   \n",
       "2  DDOdGU7zh56yQHmUnL1idQ      3   \n",
       "3  LfTMUWnfGFMOfOIyJcwLVA      1   \n",
       "4  zJSUdI7bJ8PNJAg4lnl_Gg      4   \n",
       "\n",
       "                                                text  useful  \\\n",
       "0  BEWARE!!! FAKE, FAKE, FAKE....We also own a sm...      10   \n",
       "1  Came here for lunch Togo. Service was quick. S...       0   \n",
       "2  I've been to Vegas dozens of times and had nev...       2   \n",
       "3  We went here on a night where they closed off ...       5   \n",
       "4  3.5 to 4 stars\\n\\nNot bad for the price, $12.9...       5   \n",
       "\n",
       "                  user_id  \n",
       "0  n1LM36qNg4rqGXIcvVXv8w  \n",
       "1  5CgjjDAic2-FAvCtiHpytA  \n",
       "2  BdV-cf3LScmb8kZ7iiBcMA  \n",
       "3  cZZnBqh4gAEy4CdNvJailQ  \n",
       "4  n9QO4ClYAS7h9fpQwa5bhA  "
      ]
     },
     "execution_count": 3,
     "metadata": {},
     "output_type": "execute_result"
    }
   ],
   "source": [
    "yelp.head()"
   ]
  },
  {
   "cell_type": "markdown",
   "metadata": {},
   "source": [
    "## Part 1: Tokenize Function\n",
    "<a id=\"#p1\"></a>\n",
    "\n",
    "Complete the function `tokenize`. Your function should\n",
    "- accept one document at a time\n",
    "- return a list of tokens\n",
    "\n",
    "You are free to use any method you have learned this week."
   ]
  },
  {
   "cell_type": "code",
   "execution_count": 4,
   "metadata": {},
   "outputs": [],
   "source": [
    "#Define a tokenize function\n",
    "nlp= spacy.load(\"en_core_web_lg\")\n",
    "\n",
    "def tokenize(doc):\n",
    "    doc = nlp(doc)\n",
    "    tokens = []\n",
    "    for token in doc:\n",
    "        if((token.is_stop == False) & (token.is_punct == False)) and (token.pos_!='PRON'):\n",
    "            tokens.append(token.lemma_)\n",
    "            \n",
    "    return tokens\n",
    "    "
   ]
  },
  {
   "cell_type": "code",
   "execution_count": 5,
   "metadata": {},
   "outputs": [
    {
     "data": {
      "text/plain": [
       "['beware',\n",
       " 'fake',\n",
       " 'fake',\n",
       " 'fake',\n",
       " 'small',\n",
       " 'business',\n",
       " 'Los',\n",
       " 'Alamitos',\n",
       " 'receive',\n",
       " 'look',\n",
       " 'like',\n",
       " 'legitimate',\n",
       " 'bill',\n",
       " '$',\n",
       " '70',\n",
       " 'account',\n",
       " 'number',\n",
       " ' ',\n",
       " 'call',\n",
       " 'phone',\n",
       " 'number',\n",
       " 'list',\n",
       " '866',\n",
       " '273',\n",
       " '7934',\n",
       " ' ',\n",
       " 'wait',\n",
       " 'time',\n",
       " 'hold',\n",
       " 'say',\n",
       " '20',\n",
       " 'minute',\n",
       " 'leave',\n",
       " 'message',\n",
       " ' ',\n",
       " 'live',\n",
       " 'person',\n",
       " 'phone',\n",
       " 'matter',\n",
       " 'number',\n",
       " 'select',\n",
       " ' ',\n",
       " 'leave',\n",
       " 'firm',\n",
       " 'message',\n",
       " 'contact',\n",
       " 'BBB',\n",
       " 'attorney',\n",
       " 'company',\n",
       " 'try',\n",
       " 'scam',\n",
       " 'business',\n",
       " 'illegal']"
      ]
     },
     "execution_count": 5,
     "metadata": {},
     "output_type": "execute_result"
    }
   ],
   "source": [
    "tokenize(yelp.text[0])\n"
   ]
  },
  {
   "cell_type": "markdown",
   "metadata": {},
   "source": [
    "## Part 2: Vector Representation\n",
    "<a id=\"#p2\"></a>\n",
    "1. Create a vector representation of the reviews\n",
    "2. Write a fake review and query for the 10 most similiar reviews, print the text of the reviews. Do you notice any patterns?\n",
    "    - Given the size of the dataset, it will probably be best to use a `NearestNeighbors` model for this. "
   ]
  },
  {
   "cell_type": "code",
   "execution_count": 6,
   "metadata": {},
   "outputs": [],
   "source": [
    "text = list(yelp.text)\n",
    "\n",
    "#This creates a transformer \n",
    "vect = CountVectorizer()\n",
    "\n",
    "vect.fit(text)\n",
    "\n",
    "#Now this part can transform the text\n",
    "dtm = vect.transform(text)"
   ]
  },
  {
   "cell_type": "code",
   "execution_count": 7,
   "metadata": {},
   "outputs": [
    {
     "data": {
      "text/html": [
       "<div>\n",
       "<style scoped>\n",
       "    .dataframe tbody tr th:only-of-type {\n",
       "        vertical-align: middle;\n",
       "    }\n",
       "\n",
       "    .dataframe tbody tr th {\n",
       "        vertical-align: top;\n",
       "    }\n",
       "\n",
       "    .dataframe thead th {\n",
       "        text-align: right;\n",
       "    }\n",
       "</style>\n",
       "<table border=\"1\" class=\"dataframe\">\n",
       "  <thead>\n",
       "    <tr style=\"text-align: right;\">\n",
       "      <th></th>\n",
       "      <th>00</th>\n",
       "      <th>000</th>\n",
       "      <th>001695</th>\n",
       "      <th>007</th>\n",
       "      <th>00a</th>\n",
       "      <th>00am</th>\n",
       "      <th>00ish</th>\n",
       "      <th>00pm</th>\n",
       "      <th>01</th>\n",
       "      <th>011802</th>\n",
       "      <th>...</th>\n",
       "      <th>誰も乗車しなくても</th>\n",
       "      <th>豆腐花</th>\n",
       "      <th>質問にも丁寧に答えてくれましたし</th>\n",
       "      <th>車好きさんには</th>\n",
       "      <th>這是一個不錯的選擇</th>\n",
       "      <th>運転しない</th>\n",
       "      <th>運転中も英語で指導があります</th>\n",
       "      <th>食べ物はうまい</th>\n",
       "      <th>餐後點了甜點</th>\n",
       "      <th>３時間後の便</th>\n",
       "    </tr>\n",
       "  </thead>\n",
       "  <tbody>\n",
       "    <tr>\n",
       "      <th>0</th>\n",
       "      <td>0</td>\n",
       "      <td>0</td>\n",
       "      <td>0</td>\n",
       "      <td>0</td>\n",
       "      <td>0</td>\n",
       "      <td>0</td>\n",
       "      <td>0</td>\n",
       "      <td>0</td>\n",
       "      <td>0</td>\n",
       "      <td>0</td>\n",
       "      <td>...</td>\n",
       "      <td>0</td>\n",
       "      <td>0</td>\n",
       "      <td>0</td>\n",
       "      <td>0</td>\n",
       "      <td>0</td>\n",
       "      <td>0</td>\n",
       "      <td>0</td>\n",
       "      <td>0</td>\n",
       "      <td>0</td>\n",
       "      <td>0</td>\n",
       "    </tr>\n",
       "    <tr>\n",
       "      <th>1</th>\n",
       "      <td>0</td>\n",
       "      <td>0</td>\n",
       "      <td>0</td>\n",
       "      <td>0</td>\n",
       "      <td>0</td>\n",
       "      <td>0</td>\n",
       "      <td>0</td>\n",
       "      <td>0</td>\n",
       "      <td>0</td>\n",
       "      <td>0</td>\n",
       "      <td>...</td>\n",
       "      <td>0</td>\n",
       "      <td>0</td>\n",
       "      <td>0</td>\n",
       "      <td>0</td>\n",
       "      <td>0</td>\n",
       "      <td>0</td>\n",
       "      <td>0</td>\n",
       "      <td>0</td>\n",
       "      <td>0</td>\n",
       "      <td>0</td>\n",
       "    </tr>\n",
       "    <tr>\n",
       "      <th>2</th>\n",
       "      <td>0</td>\n",
       "      <td>0</td>\n",
       "      <td>0</td>\n",
       "      <td>0</td>\n",
       "      <td>0</td>\n",
       "      <td>0</td>\n",
       "      <td>0</td>\n",
       "      <td>0</td>\n",
       "      <td>0</td>\n",
       "      <td>0</td>\n",
       "      <td>...</td>\n",
       "      <td>0</td>\n",
       "      <td>0</td>\n",
       "      <td>0</td>\n",
       "      <td>0</td>\n",
       "      <td>0</td>\n",
       "      <td>0</td>\n",
       "      <td>0</td>\n",
       "      <td>0</td>\n",
       "      <td>0</td>\n",
       "      <td>0</td>\n",
       "    </tr>\n",
       "    <tr>\n",
       "      <th>3</th>\n",
       "      <td>0</td>\n",
       "      <td>0</td>\n",
       "      <td>0</td>\n",
       "      <td>0</td>\n",
       "      <td>0</td>\n",
       "      <td>0</td>\n",
       "      <td>0</td>\n",
       "      <td>0</td>\n",
       "      <td>0</td>\n",
       "      <td>0</td>\n",
       "      <td>...</td>\n",
       "      <td>0</td>\n",
       "      <td>0</td>\n",
       "      <td>0</td>\n",
       "      <td>0</td>\n",
       "      <td>0</td>\n",
       "      <td>0</td>\n",
       "      <td>0</td>\n",
       "      <td>0</td>\n",
       "      <td>0</td>\n",
       "      <td>0</td>\n",
       "    </tr>\n",
       "    <tr>\n",
       "      <th>4</th>\n",
       "      <td>0</td>\n",
       "      <td>0</td>\n",
       "      <td>0</td>\n",
       "      <td>0</td>\n",
       "      <td>0</td>\n",
       "      <td>0</td>\n",
       "      <td>0</td>\n",
       "      <td>0</td>\n",
       "      <td>0</td>\n",
       "      <td>0</td>\n",
       "      <td>...</td>\n",
       "      <td>0</td>\n",
       "      <td>0</td>\n",
       "      <td>0</td>\n",
       "      <td>0</td>\n",
       "      <td>0</td>\n",
       "      <td>0</td>\n",
       "      <td>0</td>\n",
       "      <td>0</td>\n",
       "      <td>0</td>\n",
       "      <td>0</td>\n",
       "    </tr>\n",
       "  </tbody>\n",
       "</table>\n",
       "<p>5 rows × 27588 columns</p>\n",
       "</div>"
      ],
      "text/plain": [
       "   00  000  001695  007  00a  00am  00ish  00pm  01  011802  ...  誰も乗車しなくても  \\\n",
       "0   0    0       0    0    0     0      0     0   0       0  ...          0   \n",
       "1   0    0       0    0    0     0      0     0   0       0  ...          0   \n",
       "2   0    0       0    0    0     0      0     0   0       0  ...          0   \n",
       "3   0    0       0    0    0     0      0     0   0       0  ...          0   \n",
       "4   0    0       0    0    0     0      0     0   0       0  ...          0   \n",
       "\n",
       "   豆腐花  質問にも丁寧に答えてくれましたし  車好きさんには  這是一個不錯的選擇  運転しない  運転中も英語で指導があります  食べ物はうまい  \\\n",
       "0    0                 0        0          0      0               0        0   \n",
       "1    0                 0        0          0      0               0        0   \n",
       "2    0                 0        0          0      0               0        0   \n",
       "3    0                 0        0          0      0               0        0   \n",
       "4    0                 0        0          0      0               0        0   \n",
       "\n",
       "   餐後點了甜點  ３時間後の便  \n",
       "0       0       0  \n",
       "1       0       0  \n",
       "2       0       0  \n",
       "3       0       0  \n",
       "4       0       0  \n",
       "\n",
       "[5 rows x 27588 columns]"
      ]
     },
     "execution_count": 7,
     "metadata": {},
     "output_type": "execute_result"
    }
   ],
   "source": [
    "dtm = pd.DataFrame(dtm.todense(),columns=vect.get_feature_names())\n",
    "dtm.head()\n"
   ]
  },
  {
   "cell_type": "code",
   "execution_count": 23,
   "metadata": {},
   "outputs": [],
   "source": [
    "#write the fake review \n",
    "fake_review = ['the food was terrible was super undercooked the service was even worse, took them over 25 minutes just to get situated.']\n"
   ]
  },
  {
   "cell_type": "code",
   "execution_count": 9,
   "metadata": {},
   "outputs": [
    {
     "data": {
      "text/plain": [
       "NearestNeighbors(algorithm='ball_tree', leaf_size=30, metric='minkowski',\n",
       "                 metric_params=None, n_jobs=None, n_neighbors=15, p=2,\n",
       "                 radius=1.0)"
      ]
     },
     "execution_count": 9,
     "metadata": {},
     "output_type": "execute_result"
    }
   ],
   "source": [
    "nn  = NearestNeighbors(n_neighbors=15, algorithm='ball_tree')\n",
    "nn.fit(dtm)"
   ]
  },
  {
   "cell_type": "code",
   "execution_count": 24,
   "metadata": {},
   "outputs": [],
   "source": [
    "# Let's transform the 'fake_review'.\n",
    "\n",
    "fake_review_transformed = vect.transform(fake_review)"
   ]
  },
  {
   "cell_type": "code",
   "execution_count": 25,
   "metadata": {},
   "outputs": [],
   "source": [
    "# Query using kneighbors. \n",
    "result = nn.kneighbors(fake_review_transformed.todense())\n"
   ]
  },
  {
   "cell_type": "code",
   "execution_count": 60,
   "metadata": {},
   "outputs": [
    {
     "name": "stdout",
     "output_type": "stream",
     "text": [
      "It was just ok.  I liked the setting and the food was decent but nothing too great.\n",
      "This place just sucks. Food was terrible. Service was even worse some how. Just skip it all together.\n",
      "This place was fantastic.  The food was amazing.  The service was superb.  Happy to have this gem in our neighborhood.\n",
      "Very friendly service. Food was outstanding! The only problem was the lamb shank was tough. Loved everything else! Will return.\n",
      "AMAZING!!! I had a maple cheese cake crepe that was soooo good. The food was delivered quickly and the service was impeccable.\n",
      "great portion for the price! super good food and friendly service! only problem was the dirty cups...\n",
      "Never going back.food came out  cold, grilled cheese was almost fried.service was slow even when the place was empty.\n",
      "Rico, the bartender, was awful. He was rude, failed to offer drink refills, and was slow giving us the check.\n",
      "First time going was last night. The chorizo taco I had was amazing. The bowl was amazing\n",
      "The hostess was hot, and the food was good. The service was great and the prices were reasonable.\n",
      "Service was good. Reduced price lunch specials. Pad Thai was ok. Maybe the curries are better.\n",
      "The food was delicious. The fish was very fresh and every piece tasted great. The service was also very good.\n",
      "New owners took over.  The pizza sucks now!\n",
      "Phenomenal food and fantastic service! Presentation of the dishes was brilliant! What a fun evening.\n",
      "Best service and food the staff was amazing Amy serviced us 2 different times thank you\n"
     ]
    }
   ],
   "source": [
    "for review_num in result[1][0]:\n",
    "    print(yelp.text[review_num])"
   ]
  },
  {
   "cell_type": "markdown",
   "metadata": {},
   "source": [
    "## Part 3: Classification\n",
    "<a id=\"#p3\"></a>\n",
    "Your goal in this section will be to predict `stars` from the review dataset. \n",
    "\n",
    "1. Create a piepline object with a sklearn `CountVectorizer` or `TfidfVector` and any sklearn classifier. Use that pipeline to estimate a model to predict `stars`. Use the Pipeline to predict a star rating for your fake review from Part 2. \n",
    "2. Tune the entire pipeline with a GridSearch"
   ]
  },
  {
   "cell_type": "code",
   "execution_count": 43,
   "metadata": {},
   "outputs": [],
   "source": [
    "#Create Pipeline\n",
    "vect = CountVectorizer()\n",
    "clf = RandomForestClassifier()\n",
    "\n",
    "\n",
    "#Now lets take a look at the parameters\n",
    "parameters = {\n",
    "    'vect__max_df': (0.9, 1.0),\n",
    "    'clf__n_estimators': (15, 100),\n",
    "    'clf__max_depth': (5, 10, 15, 20),\n",
    "    'clf__random_state': (15, 35),\n",
    "    'clf__verbose': (1, 10)\n",
    "}\n",
    "\n",
    "pipe = Pipeline([('vect', vect), ('clf', clf)])"
   ]
  },
  {
   "cell_type": "code",
   "execution_count": 44,
   "metadata": {},
   "outputs": [
    {
     "name": "stdout",
     "output_type": "stream",
     "text": [
      "Fitting 5 folds for each of 64 candidates, totalling 320 fits\n"
     ]
    },
    {
     "name": "stderr",
     "output_type": "stream",
     "text": [
      "[Parallel(n_jobs=-1)]: Using backend LokyBackend with 4 concurrent workers.\n",
      "[Parallel(n_jobs=-1)]: Done  42 tasks      | elapsed:   34.7s\n",
      "[Parallel(n_jobs=-1)]: Done 192 tasks      | elapsed:  2.8min\n",
      "[Parallel(n_jobs=-1)]: Done 320 out of 320 | elapsed:  6.1min finished\n",
      "[Parallel(n_jobs=1)]: Using backend SequentialBackend with 1 concurrent workers.\n",
      "[Parallel(n_jobs=1)]: Done  15 out of  15 | elapsed:    1.2s finished\n"
     ]
    },
    {
     "data": {
      "text/plain": [
       "GridSearchCV(cv=5, error_score=nan,\n",
       "             estimator=Pipeline(memory=None,\n",
       "                                steps=[('vect',\n",
       "                                        CountVectorizer(analyzer='word',\n",
       "                                                        binary=False,\n",
       "                                                        decode_error='strict',\n",
       "                                                        dtype=<class 'numpy.int64'>,\n",
       "                                                        encoding='utf-8',\n",
       "                                                        input='content',\n",
       "                                                        lowercase=True,\n",
       "                                                        max_df=1.0,\n",
       "                                                        max_features=None,\n",
       "                                                        min_df=1,\n",
       "                                                        ngram_range=(1, 1),\n",
       "                                                        preprocessor=None,\n",
       "                                                        stop_words=None,\n",
       "                                                        strip_accents=None,\n",
       "                                                        token_pattern='(?u)...\n",
       "                                                               n_estimators=100,\n",
       "                                                               n_jobs=None,\n",
       "                                                               oob_score=False,\n",
       "                                                               random_state=None,\n",
       "                                                               verbose=0,\n",
       "                                                               warm_start=False))],\n",
       "                                verbose=False),\n",
       "             iid='deprecated', n_jobs=-1,\n",
       "             param_grid={'clf__max_depth': (5, 10, 15, 20),\n",
       "                         'clf__n_estimators': (15, 100),\n",
       "                         'clf__random_state': (15, 35), 'clf__verbose': (1, 10),\n",
       "                         'vect__max_df': (0.9, 1.0)},\n",
       "             pre_dispatch='2*n_jobs', refit=True, return_train_score=False,\n",
       "             scoring=None, verbose=1)"
      ]
     },
     "execution_count": 44,
     "metadata": {},
     "output_type": "execute_result"
    }
   ],
   "source": [
    "# Let's instantiate the grid search and fit it.\n",
    "grid_search = GridSearchCV(pipe,parameters, cv=5, n_jobs=-1, verbose=1)\n",
    "grid_search.fit(yelp.text, yelp.stars)"
   ]
  },
  {
   "cell_type": "code",
   "execution_count": 45,
   "metadata": {},
   "outputs": [],
   "source": [
    "best_pipe = grid_search.best_estimator_"
   ]
  },
  {
   "cell_type": "code",
   "execution_count": 46,
   "metadata": {},
   "outputs": [
    {
     "name": "stderr",
     "output_type": "stream",
     "text": [
      "[Parallel(n_jobs=1)]: Using backend SequentialBackend with 1 concurrent workers.\n",
      "[Parallel(n_jobs=1)]: Done  15 out of  15 | elapsed:    0.0s finished\n"
     ]
    },
    {
     "data": {
      "text/plain": [
       "array([5], dtype=int64)"
      ]
     },
     "execution_count": 46,
     "metadata": {},
     "output_type": "execute_result"
    }
   ],
   "source": [
    "best_pipe.predict(fake_review)"
   ]
  },
  {
   "cell_type": "markdown",
   "metadata": {},
   "source": [
    "## Part 4: Topic Modeling\n",
    "\n",
    "Let's find out what those yelp reviews are saying! :D\n",
    "\n",
    "1. Estimate a LDA topic model of the review text\n",
    "    - Keep the `iterations` parameter at or below 5 to reduce run time\n",
    "    - The `workers` parameter should match the number of physical cores on your machine.\n",
    "2. Create 1-2 visualizations of the results\n",
    "    - You can use the most important 3 words of a topic in relevant visualizations. Refer to yesterday's notebook to extract. \n",
    "3. In markdown, write 1-2 paragraphs of analysis on the results of your topic model\n",
    "\n",
    "__*Note*__: You can pass the DataFrame column of text reviews to gensim. You do not have to use a generator."
   ]
  },
  {
   "cell_type": "code",
   "execution_count": 47,
   "metadata": {},
   "outputs": [],
   "source": [
    "yelp_tokenized=[]\n",
    "for review in yelp.text:\n",
    "    yelp_tokenized.append(tokenize(review))"
   ]
  },
  {
   "cell_type": "code",
   "execution_count": 57,
   "metadata": {},
   "outputs": [
    {
     "data": {
      "text/plain": [
       "['tasty',\n",
       " 'fast',\n",
       " 'casual',\n",
       " 'latin',\n",
       " 'street',\n",
       " 'food',\n",
       " ' ',\n",
       " 'menu',\n",
       " 'overwhelming',\n",
       " 'try',\n",
       " 'good',\n",
       " ' ',\n",
       " 'recommend',\n",
       " 'try',\n",
       " 'arepa',\n",
       " ' ',\n",
       " 'nacho',\n",
       " 'extremely',\n",
       " 'good',\n",
       " 'bang',\n",
       " 'buck',\n",
       " 'people',\n",
       " ' ',\n",
       " 'space',\n",
       " 'pretty',\n",
       " 'small',\n",
       " 'problematic',\n",
       " 'Friday',\n",
       " 'lunch',\n",
       " 'Taco',\n",
       " 'Tuesday']"
      ]
     },
     "execution_count": 57,
     "metadata": {},
     "output_type": "execute_result"
    }
   ],
   "source": [
    "yelp_tokenized[5]"
   ]
  },
  {
   "cell_type": "markdown",
   "metadata": {},
   "source": [
    "Learn the vocubalary of the yelp data:"
   ]
  },
  {
   "cell_type": "code",
   "execution_count": 49,
   "metadata": {},
   "outputs": [],
   "source": [
    "id2word = corpora.Dictionary(yelp_tokenized)\n"
   ]
  },
  {
   "cell_type": "markdown",
   "metadata": {},
   "source": [
    "Create a bag of words representation of the entire corpus:"
   ]
  },
  {
   "cell_type": "code",
   "execution_count": 50,
   "metadata": {},
   "outputs": [],
   "source": [
    "corpus = [id2word.doc2bow(review) for review in yelp_tokenized]\n"
   ]
  },
  {
   "cell_type": "markdown",
   "metadata": {},
   "source": [
    "Your LDA model should be ready for estimation: "
   ]
  },
  {
   "cell_type": "code",
   "execution_count": 51,
   "metadata": {},
   "outputs": [],
   "source": [
    "lda = LdaMulticore(corpus=corpus,\n",
    "                   id2word=id2word,\n",
    "                   iterations=10,\n",
    "                   workers=4,\n",
    "                   num_topics=5 # You can change this parameter\n",
    "                  )"
   ]
  },
  {
   "cell_type": "markdown",
   "metadata": {},
   "source": [
    "Create 1-2 visualizations of the results"
   ]
  },
  {
   "cell_type": "code",
   "execution_count": 52,
   "metadata": {},
   "outputs": [
    {
     "name": "stdout",
     "output_type": "stream",
     "text": [
      "------ Topic 0 ------\n",
      "come order like place great\n",
      "\n",
      "------ Topic 1 ------\n",
      "service come time like love\n",
      "\n",
      "------ Topic 2 ------\n",
      "service great order like time\n",
      "\n",
      "------ Topic 3 ------\n",
      "time food great service go\n",
      "\n",
      "------ Topic 4 ------\n",
      "time like come order food\n",
      "\n"
     ]
    }
   ],
   "source": [
    "def print_lda_topics(lda):\n",
    "    words = [re.findall(r'\"([^\"]*)\"',t[1]) for t in lda.print_topics()]\n",
    "    topics = [' '.join(t[5:10]) for t in words]\n",
    "    for id, t in enumerate(topics): \n",
    "        print(f\"------ Topic {id} ------\")\n",
    "        print(t, end=\"\\n\\n\")\n",
    "print_lda_topics(lda)"
   ]
  },
  {
   "cell_type": "code",
   "execution_count": 53,
   "metadata": {},
   "outputs": [],
   "source": [
    "pyLDAvis.enable_notebook()\n"
   ]
  },
  {
   "cell_type": "code",
   "execution_count": 54,
   "metadata": {},
   "outputs": [],
   "source": [
    "vis_data = pyLDAvis.gensim.prepare(lda, corpus, id2word)\n"
   ]
  },
  {
   "cell_type": "code",
   "execution_count": 55,
   "metadata": {},
   "outputs": [
    {
     "data": {
      "text/html": [
       "\n",
       "<link rel=\"stylesheet\" type=\"text/css\" href=\"https://cdn.rawgit.com/bmabey/pyLDAvis/files/ldavis.v1.0.0.css\">\n",
       "\n",
       "\n",
       "<div id=\"ldavis_el1071218492909795123168623135\"></div>\n",
       "<script type=\"text/javascript\">\n",
       "\n",
       "var ldavis_el1071218492909795123168623135_data = {\"mdsDat\": {\"x\": [-0.006113030635268959, -0.0005731348279606359, 0.00744227366494308, -0.002907062607675001, 0.002150954405961518], \"y\": [0.002014851668637902, 0.0052729612425727, 0.0017418107107856676, -0.004309642372387017, -0.004719981249609244], \"topics\": [1, 2, 3, 4, 5], \"cluster\": [1, 1, 1, 1, 1], \"Freq\": [22.066993713378906, 21.024168014526367, 19.165130615234375, 19.13515853881836, 18.608543395996094]}, \"tinfo\": {\"Term\": [\" \", \"\\n\", \"service\", \"look\", \"come\", \"love\", \"place\", \"great\", \"order\", \"food\", \"\\n\\n\", \"good\", \"go\", \"need\", \"time\", \"take\", \"fresh\", \"hour\", \"table\", \"amazing\", \"get\", \"4\", \"year\", \"fix\", \"customer\", \"tell\", \"friend\", \"bit\", \"lot\", \"taste\", \"operative\", \"swedish\", \"underrated\", \"HomeTeam\", \"Sono\", \"Puzzlemaster\", \"termite\", \"Delivary\", \"amature\", \"TSO\", \"existant\", \"astors\", \"Melinda\", \"Lemonade\", \"Price\", \"Caliente\", \"spicy)(original\", \"Bello\", \"adobo\", \"CrossFit\", \"lyft\", \"5:15\", \"restaurant-\", \"pterodactyl\", \"bartende\", \"Peppadews\", \"Estate\", \"greatest\", \"dandan\", \"easygoing\", \"Carina\", \"carne\", \"Hotbox\", \"asada\", \"gym\", \"boyfriend\", \"great\", \"massage\", \"chicken\", \" \", \"drink\", \"live\", \"restaurant\", \"average\", \"like\", \"barber\", \"clean\", \"know\", \"leave\", \"taco\", \"fry\", \"time\", \"definitely\", \"place\", \"appointment\", \"noodle\", \"lot\", \"order\", \"flavor\", \"family\", \"good\", \"think\", \"work\", \"delicious\", \"burger\", \"come\", \"feel\", \"try\", \"$\", \"\\n\\n\", \"bad\", \"go\", \"star\", \"want\", \"wait\", \"food\", \"experience\", \"get\", \"nice\", \"service\", \"say\", \"look\", \"love\", \"\\n\", \"find\", \"fridendly\", \"Ribcap\", \"BB\", \"Kang\", \"palmas\", \"roomtastic\", \"Boubon\", \"Jina\", \"A5\", \"Brookline\", \"basa\", \"sole\", \"Olek\", \"summerlin\", \"Mashed\", \"Greulich\", \"100/5\", \"I'll\", \"tide\", \"woot\", \"Kendel\", \"papadum\", \"oho\", \"RAC\", \"las\", \"delicious\\u200b\", \"Pavers\", \"7-Eleven\", \"cassada\", \"Olak\", \"therapist\", \"tissue\", \"thai\", \"fantastic\", \"auto\", \"service\", \"staff\", \"food\", \"need\", \"place\", \"order\", \"good\", \"eat\", \"take\", \" \", \"\\n\\n\", \"home\", \"visit\", \"dog\", \"great\", \"tell\", \"price\", \"server\", \"thing\", \"dish\", \"long\", \"bring\", \"go\", \"friend\", \"lot\", \"nice\", \"\\n\", \"dinner\", \"like\", \"find\", \"say\", \"try\", \"get\", \"people\", \"time\", \"friendly\", \"$\", \"come\", \"want\", \"experience\", \"love\", \"know\", \"Yasmin\", \"dolci\", \"bathing\", \"romper\", \"chauffeur\", \"greentea\", \"CWRU\", \"huge-\", \"YC\", \"suitemate\", \"Mexicanos\", \"Talia\", \"Veranda\", \"size-\", \"swordfish\", \"Tumi\", \"m.mme\", \"cos\", \"Knoll\", \"iphone\", \"insectarium\", \"Franks\", \"Monkland\", \"greatful\", \"ud\", \"satified\", \"Hang\", \"Cola\", \"4/17/15\", \"Deliverance\", \"donut\", \"Coca\", \"look\", \"fix\", \"snow\", \"love\", \"amazing\", \"year\", \"wine\", \"walk\", \"wish\", \"special\", \"good\", \"\\n\\n\", \"cheap\", \"repair\", \"try\", \"review\", \"need\", \"selection\", \"offer\", \"nail\", \"place\", \"service\", \"friendly\", \"$\", \"star\", \"owner\", \"want\", \"\\n\", \"location\", \"work\", \"come\", \"food\", \"get\", \"tell\", \"go\", \"find\", \"like\", \"bad\", \"time\", \"price\", \" \", \"people\", \"menu\", \"recommend\", \"great\", \"nice\", \"order\", \"day\", \"Ev36\", \"\\u5929\\u6c23\\u5f88\\u71b1\\u5403\\u4e0d\\u4e0b\\u6771\\u897f\\uff0c\\u4eca\\u5929\\u6211\\u9ede\\u4e86\\u4e00\\u500b\\u97d3\\u570b\\u51b7\\u9762\\u6e6f\\u3001\\u9910\\u5f8c\\u9ede\\u4e86\\u751c\\u9ede\\uff0c\\u51b0\\u6c99\\u7cfb\\u5217\\u4e0d\\u6703\\u592a\\u751c\\u81a9\\uff0c\\u89ba\\u5f97\\u5e97\\u5bb6\\u5f88\\u7528\\u5fc3\\u88fd\\u4f5c\\uff0c\\u5305\\u542b\\u64fa\\u76e4\\u7cbe\\u7dfb\\u3001\\u4f50\\u6599\\u885b\\u751f\\uff0c\\u590f\\u65e5\\u60f3\\u958b\\u80c3\\uff0c\\u9019\\u662f\\u4e00\\u500b\\u4e0d\\u932f\\u7684\\u9078\\u64c7\\uff0c\\u670d\\u52d9\\u4eba\\u54e1\\u4e5f\\u5f88\\u656c\\u696d\\uff0c\\u4ee5\\u5f8c\\u6703\\u5e38\\u5e38\\u4f86\", \"Greater\", \"posoleshawwty\", \"puck\", \"golfweek.com\", \"forgetful\", \"nachos~\", \"Neil\", \"substandard\", \"more~\", \"momma\", \"PNW\", \"SAUCE\", \"3,4,5\", \"Botanical\", \"nan\", \"Nan\", \"good~\", \"kibbi\", \"M\\u00f6tley\", \"Kitsch\", \"Dror\", \"miraculously\", \"service~\", \"bodied\", \"1900\", \"F-150\", \"Bim\", \"badd\", \"pressed\", \"4\", \"fresh\", \"table\", \"\\r\\n\\r\\n\", \"pricey\", \"evening\", \"red\", \"hour\", \"glad\", \" \", \"tea\", \"set\", \"roll\", \"ask\", \"friend\", \"seating\", \"expect\", \"\\n\\n\", \"see\", \"end\", \"little\", \"right\", \"hot\", \"order\", \"stop\", \"different\", \"come\", \"food\", \"close\", \"wait\", \"time\", \"like\", \"get\", \"delicious\", \"menu\", \"want\", \"sauce\", \"try\", \"$\", \"good\", \"look\", \"price\", \"great\", \"say\", \"place\", \"service\", \"love\", \"\\n\", \"nice\", \"go\", \"know\", \"drink\", \"eat\", \"beause\", \"Styles\", \"imcomplete\", \"organis\\u00e9\", \"eyeglas\", \"propre\", \"inspiring\", \"accueillant\", \"\\u8cea\\u554f\\u306b\\u3082\\u4e01\\u5be7\\u306b\\u7b54\\u3048\\u3066\\u304f\\u308c\\u307e\\u3057\\u305f\\u3057\\u3001\\u65e5\\u672c\\u4eba\\u306e\\u65b9\\u3082\\u65e5\\u672c\\u8a9e\\u304c\\u8a71\\u305b\\u308b\\u65b9\\u3082\\u5c45\\u3066\\u3001\\u3068\\u3066\\u3082\\u7dba\\u9e97\\u3067\\u5c45\\u5fc3\\u5730\\u306e\\u3044\\u3044\\u304a\\u5e97\\u3067\\u3057\\u305f\", \"\\u65c5\\u884c\\u3067\\u30e9\\u30b9\\u30d9\\u30ac\\u30b9\\u306b\\u6765\\u307e\\u3057\\u305f\\u304c\\u30cd\\u30a4\\u30eb\\u304c\\u306f\\u3052\\u3066\\u308b\\u306e\\u304c\\u6c17\\u306b\\u306a\\u308a\\u3001\\u63a2\\u3057\\u305f\\u304a\\u5e97\\u3067\\u3057\\u305f\", \"\\u307e\\u305f\\u662f\\u975e\\u30de\\u30c3\\u30b5\\u30fc\\u30b8\\u306a\\u3069\\u3067\\u4f3a\\u3044\\u305f\\u3044\\u3068\\u601d\\u3044\\u307e\\u3059\", \"Metros\", \"Breed\", \"pok\\u00e9\", \"Mandi\", \"Darlene\", \"Environmental\", \"\\u30cd\\u30a4\\u30eb\\u306f\\u3061\\u306f\\u308b\\u3055\\u3093\\u3068\\u8a00\\u3046\\u7dba\\u9e97\\u306a\\u65b9\\u304c\\u4e01\\u5be7\\u306b\\u3057\\u3066\\u304f\\u308c\\u3068\\u3066\\u3082\\u6c17\\u306b\\u5165\\u308a\\u307e\\u3057\\u305f\", \"JDT\", \"Nationwide\", \"acrobatic\", \"employ\\u00e9s\", \"stationnement\", \"dignity\", \"abordable\", \"respectueux\", \"--it\", \"Aptive\", \"consent\", \"vagrant\", \"Eye\", \"\\n\", \"nervous\", \"artichoke\", \"horrible\", \"be\", \"class\", \"old\", \"come\", \"go\", \"excellent\", \"taste\", \"sure\", \"complain\", \"get\", \"time\", \"stay\", \"day\", \"take\", \"coffee\", \"room\", \"fast\", \"understand\", \"service\", \"great\", \"guy\", \"love\", \"1\", \" \", \"sit\", \"recommend\", \"well\", \"\\n\\n\", \"food\", \"customer\", \"pretty\", \"good\", \"find\", \"people\", \"experience\", \"restaurant\", \"minute\", \"nice\", \"place\", \"ask\", \"$\", \"like\", \"wait\", \"order\", \"tell\", \"know\", \"try\", \"price\"], \"Freq\": [13765.0, 3047.0, 3578.0, 1905.0, 3761.0, 2158.0, 5057.0, 4114.0, 3283.0, 4737.0, 8155.0, 6085.0, 2962.0, 1321.0, 4129.0, 1433.0, 919.0, 940.0, 1108.0, 1296.0, 2779.0, 614.0, 960.0, 351.0, 1094.0, 1466.0, 1041.0, 828.0, 1060.0, 1110.0, 1.6841076612472534, 3.119546890258789, 1.871402621269226, 1.127442479133606, 1.5278657674789429, 1.5306109189987183, 3.1286113262176514, 1.4860148429870605, 1.4535788297653198, 1.4381247758865356, 1.4156957864761353, 0.7362471222877502, 1.0184122323989868, 2.2392821311950684, 3.0897586345672607, 2.289680004119873, 1.3526474237442017, 1.3416028022766113, 2.5546305179595947, 2.2718498706817627, 1.3164246082305908, 1.5882470607757568, 1.5720903873443604, 1.2903940677642822, 0.6760199069976807, 1.291496753692627, 1.293661117553711, 1.2915503978729248, 1.2888169288635254, 0.6732030510902405, 1.2881436347961426, 16.259628295898438, 3.018420457839966, 14.198572158813477, 42.22610855102539, 59.77412414550781, 1245.8226318359375, 56.91004180908203, 369.77783203125, 3882.018798828125, 425.79345703125, 153.3710174560547, 497.17669677734375, 70.91445922851562, 1056.3603515625, 19.524457931518555, 266.89599609375, 480.7355041503906, 307.76190185546875, 139.8101043701172, 294.72430419921875, 1097.62158203125, 402.2310791015625, 1313.4666748046875, 118.99272155761719, 92.3935775756836, 298.20233154296875, 820.0869750976562, 209.9970245361328, 153.52828979492188, 1418.11279296875, 383.0384826660156, 391.73052978515625, 306.202880859375, 181.23951721191406, 830.6517333984375, 295.9583435058594, 577.0753784179688, 513.5744018554688, 1535.834716796875, 311.10595703125, 648.20849609375, 248.5477294921875, 407.2740478515625, 374.3406982421875, 774.6099853515625, 334.2239074707031, 523.2734375, 370.3718566894531, 499.04931640625, 335.24163818359375, 364.68585205078125, 376.3619384765625, 417.2411193847656, 334.9234924316406, 1.9446150064468384, 1.8773549795150757, 1.8712551593780518, 2.659761667251587, 1.8651587963104248, 1.8191404342651367, 1.8039839267730713, 1.7855284214019775, 1.7732223272323608, 1.6722862720489502, 2.805873155593872, 4.976607322692871, 1.6152920722961426, 2.698647975921631, 1.9368984699249268, 1.5342302322387695, 2.573887825012207, 1.108445644378662, 1.4879717826843262, 3.4687211513519287, 1.4878253936767578, 1.461889624595642, 1.4465388059616089, 2.812863826751709, 3.1804935932159424, 1.3885455131530762, 2.316532611846924, 1.3634967803955078, 0.7075768113136292, 1.3377710580825806, 14.484892845153809, 6.002511024475098, 28.6494197845459, 150.7178192138672, 14.360139846801758, 1082.6451416015625, 461.2073974609375, 1316.6636962890625, 406.47589111328125, 1366.8031005859375, 914.2516479492188, 1544.3372802734375, 410.95941162109375, 394.9223937988281, 3012.272705078125, 1834.76171875, 213.1187286376953, 243.1338348388672, 112.54792022705078, 950.3228149414062, 381.2981872558594, 432.7715148925781, 230.86383056640625, 299.9463806152344, 225.8582305908203, 206.668212890625, 190.9752655029297, 656.8212280273438, 269.04779052734375, 270.8906555175781, 407.5892028808594, 648.3915405273438, 185.45628356933594, 732.0909423828125, 359.5409851074219, 346.2460632324219, 510.6376037597656, 553.25, 313.63189697265625, 674.989501953125, 308.6540222167969, 404.1435241699219, 518.0751342773438, 340.9818115234375, 307.0067443847656, 325.7805480957031, 308.809814453125, 3.636502742767334, 1.6909934282302856, 1.6860188245773315, 1.6406168937683105, 1.8599953651428223, 0.7930787205696106, 1.5123493671417236, 0.7868680357933044, 0.7810530662536621, 1.4932807683944702, 0.757768988609314, 1.4347432851791382, 0.7494857907295227, 1.0536139011383057, 1.0447770357131958, 1.4102164506912231, 1.399094820022583, 1.384903907775879, 0.7226638197898865, 1.3735809326171875, 1.331779956817627, 2.2503650188446045, 1.3298529386520386, 0.6897716522216797, 1.3066954612731934, 0.6842241883277893, 0.6813142895698547, 4.2607526779174805, 0.6780505180358887, 1.2963995933532715, 67.67418670654297, 4.319379806518555, 633.095703125, 120.42912292480469, 11.22883129119873, 634.0615234375, 372.20660400390625, 266.97003173828125, 126.02031707763672, 231.10455322265625, 94.84104919433594, 170.6365966796875, 1350.3548583984375, 1726.77587890625, 98.19920349121094, 56.8255500793457, 570.9762573242188, 225.27410888671875, 321.0587158203125, 138.6136016845703, 162.53408813476562, 99.16226196289062, 1049.584228515625, 758.8605346679688, 320.95404052734375, 485.3578796386719, 228.51687622070312, 140.83909606933594, 385.6400451660156, 618.258544921875, 222.18325805664062, 323.3493347167969, 706.649658203125, 855.0614013671875, 534.8748168945312, 319.0540771484375, 556.1431274414062, 329.5767517089844, 636.2745361328125, 268.9228210449219, 680.3626098632812, 346.6942138671875, 1512.5572509765625, 289.3723449707031, 274.7180480957031, 288.1516418457031, 487.5146179199219, 318.0662841796875, 377.8182067871094, 288.84228515625, 1.825981616973877, 0.847785472869873, 1.4649640321731567, 1.457235336303711, 2.6743547916412354, 1.4343513250350952, 1.7076590061187744, 1.3918609619140625, 0.7027672529220581, 1.625017762184143, 1.3132166862487793, 1.298677921295166, 0.6753712892532349, 0.6713354587554932, 0.6547971367835999, 1.2463115453720093, 2.616400957107544, 2.347400426864624, 1.496034026145935, 1.2239679098129272, 1.2191681861877441, 1.207377314567566, 0.6332361698150635, 1.4668642282485962, 1.2051204442977905, 1.1406832933425903, 2.0241193771362305, 0.6215920448303223, 1.987187385559082, 1.1711012125015259, 1.4211467504501343, 196.44630432128906, 272.1706237792969, 322.65679931640625, 7.290451526641846, 52.536827087402344, 60.59861373901367, 68.1888427734375, 263.9303894042969, 71.74199676513672, 3126.909423828125, 95.11564636230469, 88.92938995361328, 146.7490234375, 369.1951904296875, 270.9794921875, 59.24798583984375, 149.5104522705078, 1746.753173828125, 169.94390869140625, 183.65162658691406, 338.2324523925781, 267.9577941894531, 146.43267822265625, 725.1343994140625, 165.3075408935547, 173.9332275390625, 799.4799194335938, 970.3294677734375, 144.84158325195312, 361.7484436035156, 801.4974975585938, 700.6669921875, 548.0996704101562, 260.2554626464844, 276.710205078125, 364.6153564453125, 209.20057678222656, 473.05145263671875, 396.5478515625, 847.6144409179688, 358.8612976074219, 331.44061279296875, 611.5865478515625, 298.72906494140625, 647.8455200195312, 509.7660217285156, 365.6995544433594, 443.45123291015625, 319.60089111328125, 381.9882507324219, 303.1680908203125, 275.1846923828125, 274.5467529296875, 1.995268702507019, 2.7937557697296143, 1.527531623840332, 1.5142805576324463, 1.5153660774230957, 1.4875072240829468, 2.0812199115753174, 1.456521987915039, 0.7542185187339783, 0.7527955770492554, 0.7483950257301331, 1.4230682849884033, 1.6415759325027466, 1.033435344696045, 0.724872887134552, 1.3691134452819824, 1.3459901809692383, 0.7070629596710205, 2.276771068572998, 1.3437098264694214, 2.7597968578338623, 1.6202683448791504, 1.610506296157837, 1.8206201791763306, 2.7614188194274902, 1.2926069498062134, 1.292734980583191, 1.2869771718978882, 2.390106439590454, 0.665299654006958, 4.4256086349487305, 920.2520751953125, 10.619916915893555, 6.798364162445068, 77.45166778564453, 25.228485107421875, 66.639404296875, 157.6344451904297, 906.7437133789062, 719.2838134765625, 173.61434936523438, 282.84344482421875, 237.33380126953125, 39.8804931640625, 619.8074951171875, 874.8095703125, 162.57550048828125, 343.21942138671875, 332.1595153808594, 153.8750457763672, 259.6665954589844, 118.32041931152344, 63.974761962890625, 727.7169189453125, 819.3801879882812, 156.5092010498047, 456.41900634765625, 123.74208068847656, 2231.582275390625, 175.179443359375, 296.3926696777344, 207.67562866210938, 1311.848876953125, 820.676513671875, 242.18402099609375, 225.24755859375, 924.73876953125, 308.2434997558594, 272.87164306640625, 285.70574951171875, 313.62921142578125, 222.6203155517578, 324.2295837402344, 679.8045654296875, 285.81768798828125, 367.1257629394531, 509.7608947753906, 301.7290954589844, 446.43023681640625, 276.747802734375, 288.1201171875, 332.36993408203125, 281.7661437988281], \"Total\": [13765.0, 3047.0, 3578.0, 1905.0, 3761.0, 2158.0, 5057.0, 4114.0, 3283.0, 4737.0, 8155.0, 6085.0, 2962.0, 1321.0, 4129.0, 1433.0, 919.0, 940.0, 1108.0, 1296.0, 2779.0, 614.0, 960.0, 351.0, 1094.0, 1466.0, 1041.0, 828.0, 1060.0, 1110.0, 3.085249423980713, 5.879814147949219, 3.748351573944092, 2.2743608951568604, 3.083369255065918, 3.093966245651245, 6.384186744689941, 3.094542980194092, 3.085367202758789, 3.098339080810547, 3.0920250415802, 1.6182681322097778, 2.2831623554229736, 5.0787177085876465, 7.042761325836182, 5.231655120849609, 3.0925278663635254, 3.0835468769073486, 5.883623123168945, 5.2372870445251465, 3.1020655632019043, 3.749804735183716, 3.7462401390075684, 3.088393211364746, 1.6189531087875366, 3.0958402156829834, 3.1016507148742676, 3.0990328788757324, 3.096000909805298, 1.6175425052642822, 3.1067914962768555, 40.240291595458984, 7.363694667816162, 36.84526824951172, 115.18460845947266, 165.7180633544922, 4114.626953125, 159.85073852539062, 1151.5137939453125, 13765.33984375, 1367.4447021484375, 463.8177490234375, 1623.025390625, 205.34463500976562, 3635.15380859375, 52.707828521728516, 855.4865112304688, 1626.2744140625, 1006.955810546875, 433.4879455566406, 984.7222290039062, 4129.28076171875, 1395.6517333984375, 5057.50439453125, 375.9985656738281, 287.44818115234375, 1060.6910400390625, 3283.72119140625, 725.2146606445312, 513.591064453125, 6085.158203125, 1419.161865234375, 1469.6026611328125, 1140.9288330078125, 626.4551391601562, 3761.60009765625, 1118.4510498046875, 2464.110595703125, 2166.74951171875, 8155.9736328125, 1196.2713623046875, 2962.44482421875, 928.840087890625, 1754.1260986328125, 1624.1241455078125, 4737.3408203125, 1415.84033203125, 2779.30517578125, 1739.8577880859375, 3578.0380859375, 1486.2984619140625, 1905.49560546875, 2158.322509765625, 3047.5947265625, 1541.253662109375, 3.073451280593872, 3.081129312515259, 3.077275276184082, 4.390567302703857, 3.0790185928344727, 3.073882818222046, 3.0823395252227783, 3.0791237354278564, 3.0815391540527344, 3.0794594287872314, 5.215717315673828, 9.319334983825684, 3.081469774246216, 5.205801963806152, 3.7388882637023926, 3.0841875076293945, 5.210634231567383, 2.268974542617798, 3.079838752746582, 7.180179119110107, 3.0832951068878174, 3.0811281204223633, 3.0834617614746094, 6.211033821105957, 7.030122756958008, 3.0829923152923584, 5.226111888885498, 3.0776615142822266, 1.6165568828582764, 3.085925817489624, 33.88248825073242, 13.924928665161133, 69.79814147949219, 389.1612548828125, 34.91433334350586, 3578.0380859375, 1513.428955078125, 4737.3408203125, 1321.4295654296875, 5057.50439453125, 3283.72119140625, 6085.158203125, 1493.3497314453125, 1433.9412841796875, 13765.33984375, 8155.9736328125, 741.84326171875, 868.68408203125, 362.67864990234375, 4114.626953125, 1466.7471923828125, 1705.763427734375, 833.6022338867188, 1139.313232421875, 837.683837890625, 755.6739501953125, 691.0574951171875, 2962.44482421875, 1041.63330078125, 1060.6910400390625, 1739.8577880859375, 3047.5947265625, 689.1165161132812, 3635.15380859375, 1541.253662109375, 1486.2984619140625, 2464.110595703125, 2779.30517578125, 1324.848388671875, 4129.28076171875, 1352.6923828125, 2166.74951171875, 3761.60009765625, 1754.1260986328125, 1415.84033203125, 2158.322509765625, 1626.2744140625, 5.275162220001221, 3.1164774894714355, 3.1171531677246094, 3.1142683029174805, 3.774468421936035, 1.6297647953033447, 3.118385076522827, 1.6277745962142944, 1.627624273300171, 3.1168341636657715, 1.6299312114715576, 3.109438419342041, 1.6289784908294678, 2.2925784587860107, 2.2921717166900635, 3.1152169704437256, 3.1119024753570557, 3.1083779335021973, 1.6285020112991333, 3.1029446125030518, 3.0985968112945557, 5.251254558563232, 3.117335796356201, 1.6277605295181274, 3.1057913303375244, 1.628819227218628, 1.6277837753295898, 10.208773612976074, 1.627457857131958, 3.1123785972595215, 162.612548828125, 10.871914863586426, 1905.49560546875, 351.9187316894531, 29.745738983154297, 2158.322509765625, 1296.6614990234375, 960.3659057617188, 426.0984191894531, 851.1064453125, 321.85992431640625, 613.9300537109375, 6085.158203125, 8155.9736328125, 341.2405090332031, 188.5359649658203, 2464.110595703125, 882.8695068359375, 1321.4295654296875, 516.9430541992188, 618.299560546875, 355.0195617675781, 5057.50439453125, 3578.0380859375, 1352.6923828125, 2166.74951171875, 928.840087890625, 537.4154052734375, 1754.1260986328125, 3047.5947265625, 935.7393798828125, 1469.6026611328125, 3761.60009765625, 4737.3408203125, 2779.30517578125, 1466.7471923828125, 2962.44482421875, 1541.253662109375, 3635.15380859375, 1196.2713623046875, 4129.28076171875, 1705.763427734375, 13765.33984375, 1324.848388671875, 1246.84716796875, 1365.5899658203125, 4114.626953125, 1739.8577880859375, 3283.72119140625, 1464.59228515625, 3.123682975769043, 1.6292964220046997, 3.10654354095459, 3.1099934577941895, 5.769137382507324, 3.1044061183929443, 3.777313232421875, 3.108520030975342, 1.6277995109558105, 3.7733614444732666, 3.108630657196045, 3.10357403755188, 1.6275066137313843, 1.6277443170547485, 1.6280150413513184, 3.110708236694336, 6.572039604187012, 5.90508508682251, 3.768707752227783, 3.1094810962677, 3.1059396266937256, 3.1025073528289795, 1.6274387836456299, 3.772899866104126, 3.1038479804992676, 2.9521284103393555, 5.249845504760742, 1.6270852088928223, 5.265049934387207, 3.1047050952911377, 3.7736217975616455, 614.7435302734375, 919.4803466796875, 1108.3255615234375, 20.74920082092285, 167.56884765625, 195.895751953125, 222.65408325195312, 940.4866943359375, 237.5944061279297, 13765.33984375, 325.3459167480469, 304.90277099609375, 528.9064331054688, 1454.411376953125, 1041.63330078125, 200.37461853027344, 551.93701171875, 8155.9736328125, 634.95166015625, 694.6087036132812, 1363.254638671875, 1058.3748779296875, 555.10107421875, 3283.72119140625, 636.9431762695312, 675.79931640625, 3761.60009765625, 4737.3408203125, 557.7703857421875, 1624.1241455078125, 4129.28076171875, 3635.15380859375, 2779.30517578125, 1140.9288330078125, 1246.84716796875, 1754.1260986328125, 885.6072387695312, 2464.110595703125, 2166.74951171875, 6085.158203125, 1905.49560546875, 1705.763427734375, 4114.626953125, 1486.2984619140625, 5057.50439453125, 3578.0380859375, 2158.322509765625, 3047.5947265625, 1739.8577880859375, 2962.44482421875, 1626.2744140625, 1367.4447021484375, 1493.3497314453125, 3.0847859382629395, 5.233603477478027, 3.0986106395721436, 3.0900704860687256, 3.094430923461914, 3.087604284286499, 4.397405624389648, 3.091571092605591, 1.6198694705963135, 1.6197000741958618, 1.6197435855865479, 3.092545986175537, 3.5962252616882324, 2.2725839614868164, 1.6187422275543213, 3.084878444671631, 3.084372043609619, 1.6209018230438232, 5.233433723449707, 3.0978457927703857, 6.387237071990967, 3.7554421424865723, 3.75076961517334, 4.263840198516846, 6.544286251068115, 3.087125062942505, 3.0950822830200195, 3.085381031036377, 5.737815856933594, 1.6195484399795532, 10.824728012084961, 3047.5947265625, 28.744800567626953, 18.03961944580078, 240.13427734375, 73.66842651367188, 210.70730590820312, 537.460693359375, 3761.60009765625, 2962.44482421875, 643.5400390625, 1110.07373046875, 921.3882446289062, 131.50160217285156, 2779.30517578125, 4129.28076171875, 629.4254150390625, 1464.59228515625, 1433.9412841796875, 600.10986328125, 1090.256103515625, 447.56329345703125, 224.06248474121094, 3578.0380859375, 4114.626953125, 629.57080078125, 2158.322509765625, 485.078125, 13765.33984375, 740.1368408203125, 1365.5899658203125, 908.77001953125, 8155.9736328125, 4737.3408203125, 1094.305419921875, 1022.9524536132812, 6085.158203125, 1541.253662109375, 1324.848388671875, 1415.84033203125, 1623.025390625, 1015.3575439453125, 1739.8577880859375, 5057.50439453125, 1454.411376953125, 2166.74951171875, 3635.15380859375, 1624.1241455078125, 3283.72119140625, 1466.7471923828125, 1626.2744140625, 2464.110595703125, 1705.763427734375], \"Category\": [\"Default\", \"Default\", \"Default\", \"Default\", \"Default\", \"Default\", \"Default\", \"Default\", \"Default\", \"Default\", \"Default\", \"Default\", \"Default\", \"Default\", \"Default\", \"Default\", \"Default\", \"Default\", \"Default\", \"Default\", \"Default\", \"Default\", \"Default\", \"Default\", \"Default\", \"Default\", \"Default\", \"Default\", \"Default\", \"Default\", \"Topic1\", \"Topic1\", \"Topic1\", \"Topic1\", \"Topic1\", \"Topic1\", \"Topic1\", \"Topic1\", \"Topic1\", \"Topic1\", \"Topic1\", \"Topic1\", \"Topic1\", \"Topic1\", \"Topic1\", \"Topic1\", \"Topic1\", \"Topic1\", \"Topic1\", \"Topic1\", \"Topic1\", \"Topic1\", \"Topic1\", \"Topic1\", \"Topic1\", \"Topic1\", \"Topic1\", \"Topic1\", \"Topic1\", \"Topic1\", \"Topic1\", \"Topic1\", \"Topic1\", \"Topic1\", \"Topic1\", \"Topic1\", \"Topic1\", \"Topic1\", \"Topic1\", \"Topic1\", \"Topic1\", \"Topic1\", \"Topic1\", \"Topic1\", \"Topic1\", \"Topic1\", \"Topic1\", \"Topic1\", \"Topic1\", \"Topic1\", \"Topic1\", \"Topic1\", \"Topic1\", \"Topic1\", \"Topic1\", \"Topic1\", \"Topic1\", \"Topic1\", \"Topic1\", \"Topic1\", \"Topic1\", \"Topic1\", \"Topic1\", \"Topic1\", \"Topic1\", \"Topic1\", \"Topic1\", \"Topic1\", \"Topic1\", \"Topic1\", \"Topic1\", \"Topic1\", \"Topic1\", \"Topic1\", \"Topic1\", \"Topic1\", \"Topic1\", \"Topic1\", \"Topic1\", \"Topic1\", \"Topic1\", \"Topic1\", \"Topic1\", \"Topic1\", \"Topic1\", \"Topic2\", \"Topic2\", \"Topic2\", \"Topic2\", \"Topic2\", \"Topic2\", \"Topic2\", \"Topic2\", \"Topic2\", \"Topic2\", \"Topic2\", \"Topic2\", \"Topic2\", \"Topic2\", \"Topic2\", \"Topic2\", \"Topic2\", \"Topic2\", \"Topic2\", \"Topic2\", \"Topic2\", \"Topic2\", \"Topic2\", \"Topic2\", \"Topic2\", \"Topic2\", \"Topic2\", \"Topic2\", \"Topic2\", \"Topic2\", \"Topic2\", \"Topic2\", \"Topic2\", \"Topic2\", \"Topic2\", \"Topic2\", \"Topic2\", \"Topic2\", \"Topic2\", \"Topic2\", \"Topic2\", \"Topic2\", \"Topic2\", \"Topic2\", \"Topic2\", \"Topic2\", \"Topic2\", \"Topic2\", \"Topic2\", \"Topic2\", \"Topic2\", \"Topic2\", \"Topic2\", \"Topic2\", \"Topic2\", \"Topic2\", \"Topic2\", \"Topic2\", \"Topic2\", \"Topic2\", \"Topic2\", \"Topic2\", \"Topic2\", \"Topic2\", \"Topic2\", \"Topic2\", \"Topic2\", \"Topic2\", \"Topic2\", \"Topic2\", \"Topic2\", \"Topic2\", \"Topic2\", \"Topic2\", \"Topic2\", \"Topic2\", \"Topic2\", \"Topic3\", \"Topic3\", \"Topic3\", \"Topic3\", \"Topic3\", \"Topic3\", \"Topic3\", \"Topic3\", \"Topic3\", \"Topic3\", \"Topic3\", \"Topic3\", \"Topic3\", \"Topic3\", \"Topic3\", \"Topic3\", \"Topic3\", \"Topic3\", \"Topic3\", \"Topic3\", \"Topic3\", \"Topic3\", \"Topic3\", \"Topic3\", \"Topic3\", \"Topic3\", \"Topic3\", \"Topic3\", \"Topic3\", \"Topic3\", \"Topic3\", \"Topic3\", \"Topic3\", \"Topic3\", \"Topic3\", \"Topic3\", \"Topic3\", \"Topic3\", \"Topic3\", \"Topic3\", \"Topic3\", \"Topic3\", \"Topic3\", \"Topic3\", \"Topic3\", \"Topic3\", \"Topic3\", \"Topic3\", \"Topic3\", \"Topic3\", \"Topic3\", \"Topic3\", \"Topic3\", \"Topic3\", \"Topic3\", \"Topic3\", \"Topic3\", \"Topic3\", \"Topic3\", \"Topic3\", \"Topic3\", \"Topic3\", \"Topic3\", \"Topic3\", \"Topic3\", \"Topic3\", \"Topic3\", \"Topic3\", \"Topic3\", \"Topic3\", \"Topic3\", \"Topic3\", \"Topic3\", \"Topic3\", \"Topic3\", \"Topic3\", \"Topic3\", \"Topic3\", \"Topic3\", \"Topic3\", \"Topic4\", \"Topic4\", \"Topic4\", \"Topic4\", \"Topic4\", \"Topic4\", \"Topic4\", \"Topic4\", \"Topic4\", \"Topic4\", \"Topic4\", \"Topic4\", \"Topic4\", \"Topic4\", \"Topic4\", \"Topic4\", \"Topic4\", \"Topic4\", \"Topic4\", \"Topic4\", \"Topic4\", \"Topic4\", \"Topic4\", \"Topic4\", \"Topic4\", \"Topic4\", \"Topic4\", \"Topic4\", \"Topic4\", \"Topic4\", \"Topic4\", \"Topic4\", \"Topic4\", \"Topic4\", \"Topic4\", \"Topic4\", \"Topic4\", \"Topic4\", \"Topic4\", \"Topic4\", \"Topic4\", \"Topic4\", \"Topic4\", \"Topic4\", \"Topic4\", \"Topic4\", \"Topic4\", \"Topic4\", \"Topic4\", \"Topic4\", \"Topic4\", \"Topic4\", \"Topic4\", \"Topic4\", \"Topic4\", \"Topic4\", \"Topic4\", \"Topic4\", \"Topic4\", \"Topic4\", \"Topic4\", \"Topic4\", \"Topic4\", \"Topic4\", \"Topic4\", \"Topic4\", \"Topic4\", \"Topic4\", \"Topic4\", \"Topic4\", \"Topic4\", \"Topic4\", \"Topic4\", \"Topic4\", \"Topic4\", \"Topic4\", \"Topic4\", \"Topic4\", \"Topic4\", \"Topic4\", \"Topic4\", \"Topic4\", \"Topic4\", \"Topic4\", \"Topic5\", \"Topic5\", \"Topic5\", \"Topic5\", \"Topic5\", \"Topic5\", \"Topic5\", \"Topic5\", \"Topic5\", \"Topic5\", \"Topic5\", \"Topic5\", \"Topic5\", \"Topic5\", \"Topic5\", \"Topic5\", \"Topic5\", \"Topic5\", \"Topic5\", \"Topic5\", \"Topic5\", \"Topic5\", \"Topic5\", \"Topic5\", \"Topic5\", \"Topic5\", \"Topic5\", \"Topic5\", \"Topic5\", \"Topic5\", \"Topic5\", \"Topic5\", \"Topic5\", \"Topic5\", \"Topic5\", \"Topic5\", \"Topic5\", \"Topic5\", \"Topic5\", \"Topic5\", \"Topic5\", \"Topic5\", \"Topic5\", \"Topic5\", \"Topic5\", \"Topic5\", \"Topic5\", \"Topic5\", \"Topic5\", \"Topic5\", \"Topic5\", \"Topic5\", \"Topic5\", \"Topic5\", \"Topic5\", \"Topic5\", \"Topic5\", \"Topic5\", \"Topic5\", \"Topic5\", \"Topic5\", \"Topic5\", \"Topic5\", \"Topic5\", \"Topic5\", \"Topic5\", \"Topic5\", \"Topic5\", \"Topic5\", \"Topic5\", \"Topic5\", \"Topic5\", \"Topic5\", \"Topic5\", \"Topic5\", \"Topic5\", \"Topic5\", \"Topic5\", \"Topic5\", \"Topic5\", \"Topic5\", \"Topic5\", \"Topic5\"], \"logprob\": [30.0, 29.0, 28.0, 27.0, 26.0, 25.0, 24.0, 23.0, 22.0, 21.0, 20.0, 19.0, 18.0, 17.0, 16.0, 15.0, 14.0, 13.0, 12.0, 11.0, 10.0, 9.0, 8.0, 7.0, 6.0, 5.0, 4.0, 3.0, 2.0, 1.0, -11.130599975585938, -10.514200210571289, -11.025199890136719, -11.531900405883789, -11.227999687194824, -11.226200103759766, -10.511300086975098, -11.255800247192383, -11.277799606323242, -11.28849983215332, -11.304200172424316, -11.958000183105469, -11.633600234985352, -10.84570026397705, -10.523799896240234, -10.823399543762207, -11.349800109863281, -11.357999801635742, -10.713899612426758, -10.831299781799316, -11.376899719238281, -11.189200401306152, -11.199399948120117, -11.396900177001953, -12.043399810791016, -11.395999908447266, -11.394399642944336, -11.395999908447266, -11.398099899291992, -12.047599792480469, -11.398599624633789, -8.863200187683105, -10.547100067138672, -8.998700141906738, -7.90880012512207, -7.561299800872803, -4.5243000984191895, -7.610400199890137, -5.738900184631348, -3.387700080871582, -5.597899913787842, -6.61899995803833, -5.44290018081665, -7.390399932861328, -4.689300060272217, -8.68019962310791, -6.065000057220459, -5.476500034332275, -5.922500133514404, -6.711599826812744, -5.965799808502197, -4.650899887084961, -5.654799938201904, -4.471399784088135, -6.872799873352051, -7.125800132751465, -5.954100131988525, -4.942399978637695, -6.304800033569336, -6.618000030517578, -4.394800186157227, -5.703700065612793, -5.681300163269043, -5.927599906921387, -6.452000141143799, -4.929599761962891, -5.961599826812744, -5.293900012969971, -5.4105000495910645, -4.315000057220459, -5.9116997718811035, -5.177599906921387, -6.136199951171875, -5.642399787902832, -5.7266998291015625, -4.999499797821045, -5.840000152587891, -5.39169979095459, -5.737299919128418, -5.4390997886657715, -5.836999893188477, -5.752799987792969, -5.72130012512207, -5.618199825286865, -5.837900161743164, -10.938400268554688, -10.973600387573242, -10.976799964904785, -10.625200271606445, -10.98009967803955, -11.00510025024414, -11.013400077819824, -11.023699760437012, -11.030599594116211, -11.089200019836426, -10.571700096130371, -9.998700141906738, -11.123900413513184, -10.610699653625488, -10.942399978637695, -11.175399780273438, -10.657999992370605, -11.500499725341797, -11.206000328063965, -10.359700202941895, -11.206100463867188, -11.223699569702148, -11.234299659729004, -10.569199562072754, -10.446399688720703, -11.275199890136719, -10.763400077819824, -11.293399810791016, -11.949299812316895, -11.312399864196777, -8.930299758911133, -9.811300277709961, -8.248299598693848, -6.5879998207092285, -8.939000129699707, -4.616300106048584, -5.469600200653076, -4.420599937438965, -5.595900058746338, -4.383200168609619, -4.785299777984619, -4.261099815368652, -5.58489990234375, -5.624800205230713, -3.5929999351501465, -4.088799953460693, -6.241600036621094, -6.109799861907959, -6.880099773406982, -4.746600151062012, -5.659900188446045, -5.533199787139893, -6.161600112915039, -5.899799823760986, -6.183499813079834, -6.272299766540527, -6.35129976272583, -5.116000175476074, -6.008600234985352, -6.001699924468994, -5.593200206756592, -5.128900051116943, -6.3805999755859375, -5.007500171661377, -5.718599796295166, -5.75629997253418, -5.367800235748291, -5.287600040435791, -5.855199813842773, -5.088699817657471, -5.871200084686279, -5.6016998291015625, -5.353300094604492, -5.771599769592285, -5.8765997886657715, -5.817200183868408, -5.870699882507324, -10.219799995422363, -10.98550033569336, -10.988499641418457, -11.015800476074219, -10.890299797058105, -11.74269962310791, -11.097200393676758, -11.75059986114502, -11.758000373840332, -11.10990047454834, -11.788200378417969, -11.149900436401367, -11.799200057983398, -11.458600044250488, -11.467100143432617, -11.167099952697754, -11.175000190734863, -11.185199737548828, -11.835700035095215, -11.193400382995605, -11.224300384521484, -10.699799537658691, -11.225799560546875, -11.88230037689209, -11.243399620056152, -11.890299797058105, -11.894599914550781, -10.061400413513184, -11.899399757385254, -11.251299858093262, -7.296199798583984, -10.047699928283691, -5.060200214385986, -6.719799995422363, -9.092399597167969, -5.058700084686279, -5.591400146484375, -5.923699855804443, -6.6743998527526855, -6.067999839782715, -6.958700180053711, -6.371300220489502, -4.302700042724609, -4.05679988861084, -6.923900127410889, -7.470900058746338, -5.16349983215332, -6.093500137329102, -5.739200115203857, -6.57919979095459, -6.420000076293945, -6.914100170135498, -4.554699897766113, -4.879000186920166, -5.73960018157959, -5.326000213623047, -6.07919979095459, -6.563199996948242, -5.556000232696533, -5.084000110626221, -6.107399940490723, -5.732100009918213, -4.950300216674805, -4.759699821472168, -5.228799819946289, -5.745500087738037, -5.189799785614014, -5.713099956512451, -5.055200099945068, -5.916399955749512, -4.9882001876831055, -5.662399768829346, -4.189300060272217, -5.843100070953369, -5.895100116729736, -5.847400188446045, -5.321499824523926, -5.748600006103516, -5.576399803161621, -5.84499979019165, -10.90719985961914, -11.674400329589844, -11.1274995803833, -11.132800102233887, -10.52560043334961, -11.148599624633789, -10.974200248718262, -11.17870044708252, -11.862000465393066, -11.023799896240234, -11.236800193786621, -11.247900009155273, -11.901800155639648, -11.90779972076416, -11.932700157165527, -11.28909969329834, -10.547499656677246, -10.656000137329102, -11.106499671936035, -11.30720043182373, -11.311100006103516, -11.320799827575684, -11.96619987487793, -11.126199722290039, -11.322699546813965, -11.377699851989746, -10.804200172424316, -11.984800338745117, -10.822600364685059, -11.351400375366211, -11.15779972076416, -6.228899955749512, -5.902900218963623, -5.732699871063232, -9.522700309753418, -7.547800064086914, -7.40500020980835, -7.2870001792907715, -5.933599948883057, -7.236199855804443, -3.4614999294281006, -6.95419979095459, -7.021500110626221, -6.520599842071533, -5.5980000495910645, -5.907299995422363, -7.427599906921387, -6.5019001960754395, -4.043799877166748, -6.373799800872803, -6.296299934387207, -5.6855998039245605, -5.918499946594238, -6.52269983291626, -4.922900199890137, -6.401500225067139, -6.350599765777588, -4.825300216674805, -4.631700038909912, -6.533699989318848, -5.618299961090088, -4.822800159454346, -4.957300186157227, -5.2027997970581055, -5.9475998878479, -5.886300086975098, -5.610499858856201, -6.165999889373779, -5.350100040435791, -5.526500225067139, -4.766900062561035, -5.626399993896484, -5.7058000564575195, -5.093200206756592, -5.809800148010254, -5.035600185394287, -5.275300025939941, -5.607500076293945, -5.414700031280518, -5.742199897766113, -5.563899993896484, -5.795000076293945, -5.891900062561035, -5.894199848175049, -10.790599822998047, -10.454000473022461, -11.057700157165527, -11.066399574279785, -11.065699577331543, -11.08430004119873, -10.74839973449707, -11.105299949645996, -11.763500213623047, -11.765299797058105, -11.771200180053711, -11.128600120544434, -10.985699653625488, -11.44849967956543, -11.803099632263184, -11.167200088500977, -11.184300422668457, -11.82800006866455, -10.658599853515625, -11.185999870300293, -10.46619987487793, -10.998800277709961, -11.004799842834473, -10.882200241088867, -10.46560001373291, -11.224699974060059, -11.224599838256836, -11.229100227355957, -10.609999656677246, -11.888899803161621, -9.994000434875488, -4.656700134277344, -9.11870002746582, -9.56470012664795, -7.131700038909912, -8.253399848937988, -7.282100200653076, -6.42110013961792, -4.671500205993652, -4.90310001373291, -6.3246002197265625, -5.83650016784668, -6.011899948120117, -7.795499801635742, -5.052000045776367, -4.707399845123291, -6.390200138092041, -5.64300012588501, -5.67579984664917, -6.445199966430664, -5.921999931335449, -6.708000183105469, -7.32289981842041, -4.891499996185303, -4.772799968719482, -6.428299903869629, -5.357999801635742, -6.6631999015808105, -3.770900011062622, -6.3155999183654785, -5.789700031280518, -6.145400047302246, -4.302199840545654, -4.771299839019775, -5.991700172424316, -6.064199924468994, -4.651899814605713, -5.750500202178955, -5.872399806976318, -5.826399803161621, -5.7332000732421875, -6.075900077819824, -5.699900150299072, -4.95959997177124, -5.826000213623047, -5.575699806213379, -5.247399806976318, -5.771900177001953, -5.380099773406982, -5.85830020904541, -5.817999839782715, -5.675099849700928, -5.8403000831604], \"loglift\": [30.0, 29.0, 28.0, 27.0, 26.0, 25.0, 24.0, 23.0, 22.0, 21.0, 20.0, 19.0, 18.0, 17.0, 16.0, 15.0, 14.0, 13.0, 12.0, 11.0, 10.0, 9.0, 8.0, 7.0, 6.0, 5.0, 4.0, 3.0, 2.0, 1.0, 0.9057000279426575, 0.8772000074386597, 0.8165000081062317, 0.8093000054359436, 0.808899998664856, 0.8072999715805054, 0.7979000210762024, 0.7774999737739563, 0.758400022983551, 0.7436000108718872, 0.7299000024795532, 0.7235000133514404, 0.7038000226020813, 0.6922000050544739, 0.6872000098228455, 0.6848000288009644, 0.6841999888420105, 0.6789000034332275, 0.676800012588501, 0.6758999824523926, 0.6539000272750854, 0.6520000100135803, 0.6427000164985657, 0.6384000182151794, 0.6377999782562256, 0.6367999911308289, 0.6366000175476074, 0.6358000040054321, 0.6347000002861023, 0.6345000267028809, 0.6306999921798706, 0.6049000024795532, 0.6193000078201294, 0.5575000047683716, 0.5076000094413757, 0.49140000343322754, 0.31630000472068787, 0.478300005197525, 0.3752000033855438, 0.24529999494552612, 0.3443000018596649, 0.40450000762939453, 0.328000009059906, 0.4478999972343445, 0.275299996137619, 0.5180000066757202, 0.34630000591278076, 0.2924000024795532, 0.3257000148296356, 0.37950000166893005, 0.30480000376701355, 0.18610000610351562, 0.2669999897480011, 0.16290000081062317, 0.36059999465942383, 0.37610000371932983, 0.24220000207424164, 0.12380000203847885, 0.271699994802475, 0.3034999966621399, 0.05460000038146973, 0.2013999968767166, 0.18889999389648438, 0.195700004696846, 0.27079999446868896, 0.000699999975040555, 0.18160000443458557, 0.05950000137090683, 0.07150000333786011, -0.15860000252723694, 0.16429999470710754, -0.008500000461935997, 0.19280000030994415, 0.05079999938607216, 0.04349999874830246, -0.29980000853538513, 0.0674000009894371, -0.15880000591278076, -0.035999998450279236, -0.45879998803138733, 0.021900000050663948, -0.14239999651908875, -0.2354000061750412, -0.477400004863739, -0.015399999916553497, 1.1017999649047852, 1.0641000270843506, 1.0621000528335571, 1.0583000183105469, 1.0582000017166138, 1.0348999500274658, 1.023800015449524, 1.0146000385284424, 1.0068999528884888, 0.9488999843597412, 0.9394999742507935, 0.932200014591217, 0.9136000275611877, 0.9024999737739563, 0.9017999768257141, 0.8611999750137329, 0.854200005531311, 0.8431000113487244, 0.8320000171661377, 0.8320000171661377, 0.8307999968528748, 0.8138999938964844, 0.8026000261306763, 0.7674000263214111, 0.7663000226020813, 0.761900007724762, 0.7458999752998352, 0.7454000115394592, 0.733299970626831, 0.7236999869346619, 0.7096999883651733, 0.7179999947547913, 0.6690000295639038, 0.6108999848365784, 0.6711000204086304, 0.36410000920295715, 0.37119999527931213, 0.2791000008583069, 0.3806000053882599, 0.25110000371932983, 0.2809000015258789, 0.1881999969482422, 0.26919999718666077, 0.27000001072883606, 0.03999999910593033, 0.06769999861717224, 0.31220000982284546, 0.28610000014305115, 0.38940000534057617, 0.09399999678134918, 0.21230000257492065, 0.18790000677108765, 0.27559998631477356, 0.2249000072479248, 0.24879999458789825, 0.2630000114440918, 0.2734000086784363, 0.05310000106692314, 0.20579999685287476, 0.19449999928474426, 0.10819999873638153, 0.011900000274181366, 0.24690000712871552, -0.0430000014603138, 0.10400000214576721, 0.10260000079870224, -0.014399999752640724, -0.05460000038146973, 0.11869999766349792, -0.2517000138759613, 0.08190000057220459, -0.11969999969005585, -0.4230000078678131, -0.07840000092983246, 0.030899999663233757, -0.3314000070095062, -0.10180000215768814, 1.2800999879837036, 1.0406999588012695, 1.037500023841858, 1.011199951171875, 0.9444000124931335, 0.9318000078201294, 0.9283999800682068, 0.9251999855041504, 0.9178000092506409, 0.9161999821662903, 0.8862000107765198, 0.878600001335144, 0.8758000135421753, 0.8745999932289124, 0.8664000034332275, 0.859499990940094, 0.8526999950408936, 0.8435999751091003, 0.8396000266075134, 0.8371000289916992, 0.8076000213623047, 0.8047000169754028, 0.8001999855041504, 0.7935000061988831, 0.786300003528595, 0.7847999930381775, 0.7810999751091003, 0.7782999873161316, 0.7764999866485596, 0.7763000130653381, 0.7753999829292297, 0.7289999723434448, 0.5501999855041504, 0.5796999931335449, 0.6779000163078308, 0.4271000027656555, 0.40400001406669617, 0.3718999922275543, 0.43389999866485596, 0.3483999967575073, 0.4302000105381012, 0.3716999888420105, 0.14659999310970306, 0.09960000216960907, 0.4065000116825104, 0.4528000056743622, 0.18979999423027039, 0.28619998693466187, 0.23720000684261322, 0.3357999920845032, 0.3160000145435333, 0.3767000138759613, 0.07959999889135361, 0.10130000114440918, 0.2134999930858612, 0.15600000321865082, 0.24979999661445618, 0.31290000677108765, 0.13729999959468842, 0.05689999833703041, 0.2142000049352646, 0.13809999823570251, -0.019999999552965164, -0.05999999865889549, 0.00419999985024333, 0.1265999972820282, -0.02070000022649765, 0.10949999839067459, -0.09070000052452087, 0.15950000286102295, -0.15119999647140503, 0.058800000697374344, -0.5562999844551086, 0.1307000070810318, 0.13940000534057617, 0.09619999676942825, -0.48089998960494995, -0.047200001776218414, -0.510200023651123, 0.028599999845027924, 1.1167000532150269, 1.0003999471664429, 0.9020000100135803, 0.8956000208854675, 0.8848000168800354, 0.8815000057220459, 0.8597999811172485, 0.8500999808311462, 0.8137000203132629, 0.8112000226974487, 0.7918999791145325, 0.7824000120162964, 0.7741000056266785, 0.7680000066757202, 0.742900013923645, 0.7390000224113464, 0.7325999736785889, 0.7311000227928162, 0.7297000288963318, 0.7213000059127808, 0.718500018119812, 0.7099000215530396, 0.7096999883651733, 0.708899974822998, 0.7075999975204468, 0.7027000188827515, 0.7006000280380249, 0.6913999915122986, 0.6793000102043152, 0.6786999702453613, 0.6771000027656555, 0.5127999782562256, 0.43630000948905945, 0.4196000099182129, 0.607699990272522, 0.49380001425743103, 0.48030000925064087, 0.47029998898506165, 0.3828999996185303, 0.4562000036239624, 0.17149999737739563, 0.423799991607666, 0.42149999737739563, 0.3716000020503998, 0.2825999855995178, 0.30709999799728394, 0.4352000057697296, 0.3476000130176544, 0.11270000040531158, 0.33559998869895935, 0.32330000400543213, 0.2597000002861023, 0.2800000011920929, 0.32109999656677246, 0.14329999685287476, 0.30480000376701355, 0.2964000105857849, 0.10499999672174454, 0.06800000369548798, 0.3052999973297119, 0.15189999341964722, 0.014299999922513962, 0.007300000172108412, 0.03009999915957451, 0.17569999396800995, 0.14820000529289246, 0.0828000009059906, 0.21070000529289246, 0.0032999999821186066, -0.04450000077486038, -0.3174999952316284, -0.01590000092983246, 0.015300000086426735, -0.2526000142097473, 0.04910000041127205, -0.40130001306533813, -0.29499998688697815, -0.12160000205039978, -0.27390000224113464, -0.040800001472234726, -0.39469999074935913, -0.026100000366568565, 0.05040000006556511, -0.03999999910593033, 1.2458000183105469, 1.0537999868392944, 0.9742000102996826, 0.9682999849319458, 0.9675999879837036, 0.9513000249862671, 0.9334999918937683, 0.9289000034332275, 0.9171000123023987, 0.9153000116348267, 0.909500002861023, 0.9053999781608582, 0.8973000049591064, 0.8934999704360962, 0.8780999779701233, 0.8691999912261963, 0.8522999882698059, 0.8518999814987183, 0.8492000102996826, 0.8463000059127808, 0.8424000144004822, 0.8409000039100647, 0.8360999822616577, 0.8306000232696533, 0.8187000155448914, 0.8109999895095825, 0.8084999918937683, 0.807200014591217, 0.8058000206947327, 0.7918999791145325, 0.7871000170707703, 0.48410001397132874, 0.6858000159263611, 0.7056999802589417, 0.550000011920929, 0.6098999977111816, 0.5303999781608582, 0.45500001311302185, 0.2587999999523163, 0.26600000262260437, 0.37139999866485596, 0.314300000667572, 0.32510000467300415, 0.48840001225471497, 0.1809999942779541, 0.12970000505447388, 0.3278999924659729, 0.2305999994277954, 0.21899999678134918, 0.3206000030040741, 0.2468000054359436, 0.35109999775886536, 0.42809998989105225, 0.08889999985694885, 0.06780000030994415, 0.2896000146865845, 0.12790000438690186, 0.31540000438690186, -0.1378999948501587, 0.24050000309944153, 0.15389999747276306, 0.2054000049829483, -0.14579999446868896, -0.07159999758005142, 0.17339999973773956, 0.16830000281333923, -0.20250000059604645, 0.07209999859333038, 0.1014999970793724, 0.08100000023841858, 0.037700001150369644, 0.164000004529953, 0.00139999995008111, -0.325300008058548, 0.054499998688697815, -0.09369999915361404, -0.28290000557899475, -0.0015999999595806003, -0.3138999938964844, 0.013899999670684338, -0.04910000041127205, -0.32179999351501465, -0.11909999698400497]}, \"token.table\": {\"Topic\": [1, 2, 3, 4, 5, 1, 2, 3, 4, 5, 1, 2, 3, 4, 5, 1, 2, 3, 4, 5, 1, 2, 3, 4, 5, 5, 1, 2, 3, 4, 5, 2, 3, 4, 5, 1, 2, 3, 4, 5, 4, 1, 2, 3, 4, 5, 3, 1, 2, 4, 1, 2, 2, 1, 5, 2, 1, 5, 2, 3, 4, 5, 1, 4, 5, 2, 1, 3, 5, 2, 3, 3, 4, 1, 2, 4, 5, 1, 3, 1, 2, 3, 4, 5, 1, 2, 3, 4, 5, 1, 2, 3, 4, 5, 1, 5, 1, 3, 1, 3, 4, 4, 1, 5, 1, 3, 4, 1, 2, 3, 4, 5, 4, 1, 2, 3, 5, 2, 4, 2, 3, 4, 3, 1, 1, 2, 3, 4, 5, 2, 1, 3, 4, 5, 2, 3, 2, 2, 4, 2, 4, 3, 1, 2, 3, 4, 5, 5, 2, 3, 4, 1, 3, 5, 3, 3, 4, 1, 2, 4, 1, 2, 3, 4, 5, 3, 5, 4, 2, 4, 2, 4, 1, 2, 3, 4, 1, 3, 1, 2, 3, 4, 5, 1, 4, 1, 2, 3, 4, 5, 2, 4, 1, 5, 3, 5, 1, 3, 2, 3, 4, 3, 4, 3, 3, 2, 3, 5, 1, 2, 3, 4, 5, 5, 1, 2, 3, 4, 5, 1, 2, 3, 4, 5, 1, 2, 1, 2, 3, 4, 5, 1, 2, 3, 4, 5, 1, 2, 3, 4, 5, 1, 2, 3, 4, 5, 1, 2, 3, 4, 5, 1, 1, 2, 3, 4, 5, 1, 2, 3, 4, 5, 1, 2, 3, 4, 5, 2, 4, 1, 2, 3, 4, 5, 1, 1, 2, 3, 3, 1, 2, 3, 4, 5, 5, 1, 2, 3, 4, 5, 1, 4, 1, 2, 3, 4, 5, 1, 2, 3, 4, 5, 1, 2, 3, 4, 5, 1, 2, 3, 4, 5, 2, 1, 3, 5, 1, 2, 3, 4, 5, 1, 2, 3, 4, 5, 1, 2, 3, 4, 5, 1, 2, 3, 4, 5, 1, 2, 3, 4, 5, 1, 2, 3, 4, 5, 1, 2, 3, 4, 5, 1, 2, 3, 4, 5, 1, 2, 3, 4, 5, 1, 2, 3, 1, 2, 3, 4, 5, 1, 4, 5, 1, 2, 3, 4, 5, 1, 2, 3, 4, 5, 1, 2, 3, 4, 5, 1, 2, 3, 1, 2, 3, 4, 5, 2, 3, 4, 5, 1, 2, 3, 4, 5, 1, 2, 3, 4, 5, 1, 2, 3, 4, 5, 1, 3, 1, 2, 3, 4, 5, 1, 2, 3, 4, 5, 1, 1, 2, 3, 4, 5, 1, 3, 4, 5, 1, 2, 3, 4, 5, 1, 2, 3, 4, 5, 1, 2, 3, 4, 5, 1, 1, 2, 3, 4, 5, 1, 2, 3, 4, 5, 3, 5, 1, 2, 3, 4, 5, 1, 2, 3, 4, 5, 1, 2, 3, 4, 5, 1, 2, 3, 4, 5, 1, 2, 3, 4, 5, 1, 2, 3, 4, 5, 1, 2, 3, 4, 5, 1, 2, 3, 4, 5, 1, 4, 5, 1, 2, 3, 4, 5, 2, 1, 2, 3, 4, 5, 1, 2, 3, 4, 5, 1, 2, 3, 4, 5, 1, 2, 3, 4, 5, 1, 2, 3, 4, 5, 1, 2, 3, 4, 5, 2, 4, 1, 2, 3, 4, 5, 1, 2, 4, 5, 1, 2, 3, 4, 5, 1, 4, 3, 3, 1, 2, 3, 4, 5, 1, 2, 3, 4, 5, 1, 2, 3, 4, 5, 1, 2, 3, 4, 5, 1, 2, 3, 4, 5, 1, 2, 3, 4, 5, 3, 4, 5, 2, 3, 1, 2, 5, 2, 3, 5, 2, 3, 4, 1, 2, 3, 4, 5, 1, 2, 3, 4, 5, 1, 2, 3, 4, 5, 1, 2, 3, 4, 5, 1, 2, 3, 4, 5, 1, 2, 3, 4, 5, 1, 2, 3, 4, 5, 1, 2, 3, 4, 5, 1, 2, 3, 4, 5, 1, 2, 3, 4, 5, 1, 2, 3, 4, 5, 1, 3, 1, 3, 1, 2, 3, 4, 5, 1, 2, 3, 4, 5, 1, 2, 3, 4, 5, 1, 2, 3, 4, 5, 2, 4, 1, 4, 1, 2, 4, 1, 2, 3, 4, 5, 1, 2, 3, 4, 5, 1, 2, 3, 4, 5, 1, 2, 3, 4, 5, 1, 2, 3, 4, 5, 1, 2, 3, 4, 5, 1, 2, 3, 4, 5, 2, 1, 2, 3, 4, 5, 1, 5, 1, 2, 3, 4, 5, 5, 1, 2, 3, 4, 5, 2, 2, 1, 2, 3, 4, 5, 1, 2, 3, 4, 5, 5, 2, 4, 1, 2, 3, 4, 5, 1, 2, 3, 4, 5, 1, 2, 3, 4, 5, 1, 2, 3, 4, 5, 2, 5, 1, 2, 1, 2, 3, 4, 5, 1, 2, 3, 4, 5, 1, 2, 3, 4, 5, 1, 2, 3, 4, 5, 1, 2, 5, 1, 2, 3, 4, 5, 1, 2, 3, 1, 2, 3, 4, 5, 1, 2, 3, 4, 5, 1, 2, 3, 4, 5, 3, 1, 2, 3, 4, 5, 2, 3, 1, 2, 3, 4, 5, 1, 2, 3, 4, 5, 1, 2, 3, 4, 5, 1, 2, 3, 4, 5, 1, 2, 3, 4, 5, 1, 2, 3, 4, 5, 1, 2, 3, 4, 5, 1, 2, 4, 1, 2, 3, 4, 5, 1, 2, 3, 4, 5, 3, 1, 2, 3, 4, 5, 1, 2, 3, 4, 1, 2, 3, 4, 5, 1, 2, 4, 1, 2, 3, 4, 5, 1, 2, 3, 4, 5, 1, 2, 4, 5, 1, 2, 3, 4, 5, 1, 2, 3, 4, 5, 1, 2, 3, 4, 3, 4, 1, 2, 4, 5, 1, 2, 3, 4, 5, 1, 2, 3, 4, 5, 3, 1, 2, 3, 4, 5, 1, 2, 3, 4, 5, 1, 2, 3, 4, 5, 1, 2, 3, 4, 5, 1, 2, 3, 4, 5, 1, 2, 3, 4, 5, 1, 2, 3, 4, 5, 1, 2, 3, 4, 5, 1, 2, 3, 4, 5, 1, 2, 3, 4, 5, 1, 2, 3, 4, 5, 1, 2, 1, 2, 3, 4, 5, 1, 2, 3, 4, 5, 1, 2, 3, 4, 5, 2, 3, 1, 4, 5, 1, 2, 3, 4, 5, 5, 1, 2, 3, 4, 5, 1, 2, 3, 4, 5, 1, 2, 3, 4, 5, 1, 2, 3, 4, 5, 1, 2, 3, 4, 5, 1, 2, 3, 4, 5, 1, 2, 3, 4, 5, 1, 2, 3, 4, 5, 1, 2, 3, 4, 5, 1, 2, 3, 4, 5, 5, 5, 4, 5, 5], \"Freq\": [0.13682921230793, 0.21262669563293457, 0.20278286933898926, 0.14536052942276, 0.3018774092197418, 0.18832822144031525, 0.22498846054077148, 0.21174663305282593, 0.21419882774353027, 0.16086368262767792, 0.14458388090133667, 0.19277851283550262, 0.14458388090133667, 0.3373623788356781, 0.19277851283550262, 0.2820126414299011, 0.21881043910980225, 0.10991374403238297, 0.22716474533081055, 0.16214637458324432, 0.23722170293331146, 0.1864544153213501, 0.22383759915828705, 0.18322376906871796, 0.1693781316280365, 0.3230931758880615, 0.22470606863498688, 0.17316798865795135, 0.16698341071605682, 0.17729103565216064, 0.25562891364097595, 0.5757456421852112, 0.19191521406173706, 0.19191521406173706, 0.19191521406173706, 0.19048179686069489, 0.19048179686069489, 0.19048179686069489, 0.38096359372138977, 0.19048179686069489, 0.6142449378967285, 0.17568302154541016, 0.1529092937707901, 0.17080293595790863, 0.3188321590423584, 0.18056310713291168, 0.6144552230834961, 0.5333610773086548, 0.2666805386543274, 0.2666805386543274, 0.32492202520370483, 0.32492202520370483, 0.6490263342857361, 0.3241090774536133, 0.3241090774536133, 0.6499255895614624, 0.3243018686771393, 0.3243018686771393, 0.189931720495224, 0.379863440990448, 0.379863440990448, 0.189931720495224, 0.3214702010154724, 0.3214702010154724, 0.3214702010154724, 0.6488577723503113, 0.2780693471431732, 0.2780693471431732, 0.5561386942863464, 0.6494646072387695, 0.32473230361938477, 0.6413576006889343, 0.32067880034446716, 0.3822881877422333, 0.19114409387111664, 0.3822881877422333, 0.19114409387111664, 0.3218754827976227, 0.3218754827976227, 0.2759403586387634, 0.09198011457920074, 0.367920458316803, 0.09198011457920074, 0.1839602291584015, 0.2938648760318756, 0.09795495867729187, 0.3918198347091675, 0.09795495867729187, 0.09795495867729187, 0.3818770945072174, 0.1909385472536087, 0.1909385472536087, 0.1909385472536087, 0.1909385472536087, 0.3241618871688843, 0.3241618871688843, 0.32314950227737427, 0.32314950227737427, 0.32129767537117004, 0.32129767537117004, 0.32129767537117004, 0.6144624352455139, 0.3242151141166687, 0.3242151141166687, 0.3224089741706848, 0.3224089741706848, 0.6402698159217834, 0.1847621500492096, 0.0923810750246048, 0.1847621500492096, 0.0923810750246048, 0.3695243000984192, 0.6145959496498108, 0.1904306858778, 0.1904306858778, 0.3808613717556, 0.1904306858778, 0.3219011723995209, 0.3219011723995209, 0.6484690308570862, 0.3242345154285431, 0.3242345154285431, 0.6143321990966797, 0.4396839439868927, 0.40740418434143066, 0.13580138981342316, 0.13580138981342316, 0.13580138981342316, 0.13580138981342316, 0.44072774052619934, 0.19107913970947266, 0.19107913970947266, 0.19107913970947266, 0.3821582794189453, 0.6495354175567627, 0.32476770877838135, 0.6832829713821411, 0.32432833313941956, 0.32432833313941956, 0.32231995463371277, 0.32231995463371277, 0.6140612363815308, 0.39380019903182983, 0.19690009951591492, 0.19690009951591492, 0.19690009951591492, 0.19690009951591492, 0.6177635788917542, 0.5349183678627014, 0.2674591839313507, 0.2674591839313507, 0.4379889965057373, 0.3233581781387329, 0.3233581781387329, 0.6135228276252747, 0.3207867443561554, 0.3207867443561554, 0.32196375727653503, 0.32196375727653503, 0.32196375727653503, 0.16934557259082794, 0.16934557259082794, 0.16934557259082794, 0.3386911451816559, 0.16934557259082794, 0.3228049576282501, 0.3228049576282501, 0.6143262982368469, 0.3240518569946289, 0.3240518569946289, 0.649040937423706, 0.6144368052482605, 0.19134683907032013, 0.38269367814064026, 0.19134683907032013, 0.19134683907032013, 0.3230140805244446, 0.3230140805244446, 0.42596927285194397, 0.14198976755142212, 0.14198976755142212, 0.14198976755142212, 0.14198976755142212, 0.6464194655418396, 0.3232097327709198, 0.16100379824638367, 0.4830113649368286, 0.16100379824638367, 0.16100379824638367, 0.16100379824638367, 0.6491126418113708, 0.6143471002578735, 0.6486411094665527, 0.32432055473327637, 0.19107294082641602, 0.573218822479248, 0.32275357842445374, 0.32275357842445374, 0.3216014802455902, 0.3216014802455902, 0.3216014802455902, 0.3210049271583557, 0.3210049271583557, 0.6138816475868225, 0.6143923997879028, 0.18956762552261353, 0.7582705020904541, 0.18956762552261353, 0.15280504524707794, 0.15280504524707794, 0.15280504524707794, 0.15280504524707794, 0.458415150642395, 0.3234601318836212, 0.1565622240304947, 0.1565622240304947, 0.1565622240304947, 0.1565622240304947, 0.4696866571903229, 0.5098899006843567, 0.1699633002281189, 0.1699633002281189, 0.1699633002281189, 0.1699633002281189, 0.3241105377674103, 0.3241105377674103, 0.2228800654411316, 0.19820129871368408, 0.28689059615135193, 0.13573318719863892, 0.1565558910369873, 0.3164905607700348, 0.17287300527095795, 0.19946885108947754, 0.10372380167245865, 0.2074476033449173, 0.2217341661453247, 0.16630062460899353, 0.11086708307266235, 0.11086708307266235, 0.38803479075431824, 0.3799673914909363, 0.18998369574546814, 0.13570263981819153, 0.16284316778182983, 0.13570263981819153, 0.20489388704299927, 0.18357941508293152, 0.1602022647857666, 0.25371089577674866, 0.19664312899112701, 0.6179445385932922, 0.14320765435695648, 0.40098145604133606, 0.17184919118881226, 0.1145661249756813, 0.17184919118881226, 0.34576019644737244, 0.19966433942317963, 0.1460958570241928, 0.1558355838060379, 0.1558355838060379, 0.2599744498729706, 0.2156701236963272, 0.2248653620481491, 0.13040518760681152, 0.16885800659656525, 0.3220917880535126, 0.3220917880535126, 0.379450261592865, 0.11383508145809174, 0.1707526296377182, 0.1707526296377182, 0.1707526296377182, 0.6176831126213074, 0.19172818958759308, 0.5751845240592957, 0.19172818958759308, 0.6416110992431641, 0.13574336469173431, 0.13574336469173431, 0.17646637558937073, 0.20361503958702087, 0.3393584191799164, 0.6483432054519653, 0.13042370975017548, 0.2137499749660492, 0.2137499749660492, 0.23307201266288757, 0.2089194655418396, 0.33873865008354187, 0.33873865008354187, 0.3620607256889343, 0.1749960035085678, 0.15689297020435333, 0.18706470727920532, 0.12672124803066254, 0.2127174735069275, 0.2763879895210266, 0.153388112783432, 0.22574098408222198, 0.13168224692344666, 0.2889273166656494, 0.18357260525226593, 0.21390198171138763, 0.1771874725818634, 0.13568410277366638, 0.39761143922805786, 0.22365643084049225, 0.12425357103347778, 0.09940285980701447, 0.1491042822599411, 0.6185986995697021, 0.26493796706199646, 0.5298759341239929, 0.26493796706199646, 0.14945471286773682, 0.1523851901292801, 0.28718748688697815, 0.2022034227848053, 0.20806439220905304, 0.3213161826133728, 0.23707923293113708, 0.15371070802211761, 0.13634227216243744, 0.15110544860363007, 0.2420419156551361, 0.13763168454170227, 0.16136127710342407, 0.1423776000738144, 0.31797662377357483, 0.31210312247276306, 0.24430543184280396, 0.14377783238887787, 0.13325750827789307, 0.16598741710186005, 0.2043851763010025, 0.14701390266418457, 0.19362805783748627, 0.25996360182762146, 0.19542092084884644, 0.2666178345680237, 0.15163889527320862, 0.1599707156419754, 0.1666361540555954, 0.2566196918487549, 0.22091662883758545, 0.13770735263824463, 0.1879519373178482, 0.2124096006155014, 0.24112080037593842, 0.22052963078022003, 0.1672983467578888, 0.1596938669681549, 0.14448493719100952, 0.30417880415916443, 0.17428234219551086, 0.17428234219551086, 0.17428234219551086, 0.17428234219551086, 0.34856468439102173, 0.3217112123966217, 0.3217112123966217, 0.3217112123966217, 0.1507805734872818, 0.1964716613292694, 0.2147480845451355, 0.2165757417678833, 0.22114484012126923, 0.3229973316192627, 0.3229973316192627, 0.3229973316192627, 0.2191736251115799, 0.17752380669116974, 0.19732454419136047, 0.17206153273582458, 0.23419487476348877, 0.2880374789237976, 0.20348915457725525, 0.17769475281238556, 0.1812773197889328, 0.14975082874298096, 0.268202543258667, 0.19633126258850098, 0.19633126258850098, 0.22788450121879578, 0.1104363352060318, 0.324360191822052, 0.324360191822052, 0.324360191822052, 0.17608778178691864, 0.1553715616464615, 0.20420263707637787, 0.2574728727340698, 0.20864182710647583, 0.23453035950660706, 0.23453035950660706, 0.23453035950660706, 0.4690607190132141, 0.20025640726089478, 0.268459677696228, 0.1697826087474823, 0.14221107959747314, 0.21912114322185516, 0.1826464682817459, 0.26979151368141174, 0.1707087904214859, 0.20413430035114288, 0.17429010570049286, 0.12407678365707397, 0.31157058477401733, 0.19852285087108612, 0.1764647513628006, 0.19025106728076935, 0.3208750784397125, 0.641750156879425, 0.15373967587947845, 0.10454297810792923, 0.4181719124317169, 0.15373967587947845, 0.16603884100914001, 0.3115299642086029, 0.19306083023548126, 0.13309496641159058, 0.2011050283908844, 0.1616153120994568, 0.6182217597961426, 0.2002210170030594, 0.27522018551826477, 0.15736433863639832, 0.18414975702762604, 0.1834801286458969, 0.26628023386001587, 0.26628023386001587, 0.26628023386001587, 0.5325604677200317, 0.19579368829727173, 0.19435402750968933, 0.17995743453502655, 0.26489734649658203, 0.16556084156036377, 0.15314267575740814, 0.21950450539588928, 0.17866645753383636, 0.31139010190963745, 0.13782840967178345, 0.14140534400939941, 0.2268701046705246, 0.161606103181839, 0.2004537284374237, 0.2703794538974762, 0.3234126567840576, 0.2753937542438507, 0.12139066308736801, 0.14494407176971436, 0.2717701494693756, 0.18842729926109314, 0.2359023094177246, 0.21683235466480255, 0.17162951827049255, 0.17374840378761292, 0.2020001858472824, 0.32316118478775024, 0.6463223695755005, 0.2998494505882263, 0.2180723249912262, 0.18302498757839203, 0.2063898891210556, 0.09345956891775131, 0.1721651405096054, 0.38801395893096924, 0.1541777402162552, 0.16445624828338623, 0.12334218621253967, 0.23460368812084198, 0.16533973813056946, 0.18544863164424896, 0.14746516942977905, 0.2636498510837555, 0.26465171575546265, 0.21279428899288177, 0.20117107033729553, 0.13053767383098602, 0.19133605062961578, 0.21735551953315735, 0.23357608914375305, 0.21411141753196716, 0.1356038898229599, 0.1998373121023178, 0.14776138961315155, 0.11934573948383331, 0.34098783135414124, 0.19890956580638885, 0.1903848648071289, 0.2895694375038147, 0.21235091984272003, 0.1406480073928833, 0.23027664422988892, 0.12823788821697235, 0.16359388828277588, 0.2780040502548218, 0.18048100173473358, 0.2047562152147293, 0.1733039766550064, 0.26473844051361084, 0.5294768810272217, 0.26473844051361084, 0.1827118992805481, 0.1424717754125595, 0.15443505346775055, 0.2958192527294159, 0.22403958439826965, 0.6507342457771301, 0.17088547348976135, 0.2582482695579529, 0.1651252955198288, 0.2601683437824249, 0.1459246724843979, 0.20108045637607574, 0.22843331098556519, 0.23730450868606567, 0.17298832535743713, 0.16042080521583557, 0.29957687854766846, 0.12998589873313904, 0.1685754507780075, 0.22239774465560913, 0.1797461211681366, 0.18817652761936188, 0.19897058606147766, 0.19249415397644043, 0.19717158377170563, 0.22307734191417694, 0.20623381435871124, 0.14730986952781677, 0.1557275652885437, 0.3030374348163605, 0.18518954515457153, 0.21873825788497925, 0.22177627682685852, 0.18768282234668732, 0.12894755601882935, 0.24270494282245636, 0.32212281227111816, 0.32212281227111816, 0.23302598297595978, 0.2537321150302887, 0.22185125946998596, 0.13935545086860657, 0.15200918912887573, 0.26534295082092285, 0.26534295082092285, 0.26534295082092285, 0.26534295082092285, 0.3028221130371094, 0.2308836281299591, 0.11860127747058868, 0.14873766899108887, 0.19904598593711853, 0.3226813077926636, 0.3226813077926636, 0.6143409609794617, 0.6135854721069336, 0.16836866736412048, 0.2144317924976349, 0.1667802929878235, 0.20172472298145294, 0.24937623739242554, 0.3646320402622223, 0.1215440183877945, 0.17363430559635162, 0.18231602013111115, 0.15627087652683258, 0.23994286358356476, 0.2871226370334625, 0.17254318296909332, 0.12266742438077927, 0.1779351681470871, 0.1790664792060852, 0.17073780298233032, 0.17073780298233032, 0.1582448035478592, 0.3206539452075958, 0.2017650604248047, 0.15492674708366394, 0.19996358454227448, 0.26301515102386475, 0.17834590375423431, 0.18394730985164642, 0.13822630047798157, 0.1924535483121872, 0.2807057201862335, 0.20414961874485016, 0.6143356561660767, 0.3227252960205078, 0.6454505920410156, 0.3227267265319824, 0.3227267265319824, 0.2274068146944046, 0.2274068146944046, 0.4548136293888092, 0.3222745358943939, 0.3222745358943939, 0.3222745358943939, 0.32159706950187683, 0.32159706950187683, 0.32159706950187683, 0.29576805233955383, 0.1900048404932022, 0.15065108239650726, 0.1863154172897339, 0.17709188163280487, 0.14224502444267273, 0.4267350733280182, 0.28449004888534546, 0.14224502444267273, 0.14224502444267273, 0.3058724105358124, 0.208549365401268, 0.17478422820568085, 0.1360536366701126, 0.17577733099460602, 0.2904966473579407, 0.20136699080467224, 0.1749582141637802, 0.19283916056156158, 0.14029668271541595, 0.19145359098911285, 0.2017231285572052, 0.17458219826221466, 0.24793606996536255, 0.18411821126937866, 0.32987093925476074, 0.12504911422729492, 0.15738940238952637, 0.16170144081115723, 0.2242259979248047, 0.14961430430412292, 0.2201467752456665, 0.23724554479122162, 0.2062540054321289, 0.1859492063522339, 0.2434912621974945, 0.2739276587963104, 0.17600183188915253, 0.14291878044605255, 0.16409192979335785, 0.19155120849609375, 0.16058814525604248, 0.33219704031944275, 0.1884024292230606, 0.12752588093280792, 0.2809489071369171, 0.25549381971359253, 0.09710650891065598, 0.1810140609741211, 0.18478518724441528, 0.1742093712091446, 0.15104322135448456, 0.2937466502189636, 0.16957613825798035, 0.21127519011497498, 0.3223658502101898, 0.3223658502101898, 0.32134681940078735, 0.32134681940078735, 0.3565826416015625, 0.16265173256397247, 0.13137255609035492, 0.15639589726924896, 0.19393090903759003, 0.2013077586889267, 0.2037138193845749, 0.22055630385875702, 0.22216035425662994, 0.15238435566425323, 0.20485395193099976, 0.1881110817193985, 0.18712620437145233, 0.19992958009243011, 0.21962706744670868, 0.2650481164455414, 0.2650481164455414, 0.2650481164455414, 0.2650481164455414, 0.2650481164455414, 0.3222091794013977, 0.3222091794013977, 0.3216850459575653, 0.3216850459575653, 0.3216964900493622, 0.3216964900493622, 0.3216964900493622, 0.25914064049720764, 0.163371279835701, 0.27885788679122925, 0.15210428833961487, 0.14365406334400177, 0.15215976536273956, 0.15215976536273956, 0.15215976536273956, 0.4564792811870575, 0.15215976536273956, 0.17632418870925903, 0.3072430193424225, 0.2429187297821045, 0.15891879796981812, 0.11427018791437149, 0.17394450306892395, 0.17394450306892395, 0.13915559649467468, 0.10436669737100601, 0.38267791271209717, 0.21266105771064758, 0.2345019280910492, 0.18277356028556824, 0.18392308056354523, 0.1862221211194992, 0.3200576901435852, 0.18438105285167694, 0.13567662239074707, 0.1809021681547165, 0.17742328345775604, 0.22157543897628784, 0.21834076941013336, 0.26362624764442444, 0.1649685800075531, 0.13262179493904114, 0.3243108093738556, 0.16373290121555328, 0.2251327484846115, 0.14884810149669647, 0.16931471228599548, 0.29397499561309814, 0.6482458114624023, 0.32412290573120117, 0.24971669912338257, 0.27834275364875793, 0.11511330306529999, 0.22078609466552734, 0.13582152128219604, 0.6472344398498535, 0.23445551097393036, 0.20840489864349365, 0.2623668611049652, 0.1339745670557022, 0.16188594698905945, 0.6495576500892639, 0.324556440114975, 0.19926808774471283, 0.2370082587003708, 0.2181381732225418, 0.13963861763477325, 0.20606131851673126, 0.2596141993999481, 0.27029141783714294, 0.2076122760772705, 0.12812642753124237, 0.1344536691904068, 0.44002774357795715, 0.3215440809726715, 0.3215440809726715, 0.2649974226951599, 0.2649974226951599, 0.2649974226951599, 0.2649974226951599, 0.2649974226951599, 0.17009587585926056, 0.20235544443130493, 0.1964900642633438, 0.21115350723266602, 0.2199515700340271, 0.18349555134773254, 0.2538452744483948, 0.2034279704093933, 0.19404801726341248, 0.16532187163829803, 0.2267724573612213, 0.17306318879127502, 0.14322471618652344, 0.31628790497779846, 0.14919240772724152, 0.32387569546699524, 0.32387569546699524, 0.323792964220047, 0.323792964220047, 0.17333613336086273, 0.17333613336086273, 0.17333613336086273, 0.5200084447860718, 0.17333613336086273, 0.1816064864397049, 0.2087009996175766, 0.21089786291122437, 0.1816064864397049, 0.21675613522529602, 0.21108977496623993, 0.17965087294578552, 0.15270324051380157, 0.30540648102760315, 0.14821197092533112, 0.13790471851825714, 0.2121611088514328, 0.30232957005500793, 0.14851278066635132, 0.2068570852279663, 0.3239259719848633, 0.3239259719848633, 0.3239259719848633, 0.3062182664871216, 0.16204306483268738, 0.17005279660224915, 0.1682043969631195, 0.19346585869789124, 0.5338686108589172, 0.2669343054294586, 0.2669343054294586, 0.22653403878211975, 0.1766965538263321, 0.2548508048057556, 0.16423718631267548, 0.1766965538263321, 0.18235504627227783, 0.17290659248828888, 0.19369319081306458, 0.253218412399292, 0.19747255742549896, 0.15692757070064545, 0.20230421423912048, 0.2098669856786728, 0.27793195843696594, 0.1531461775302887, 0.6422054171562195, 0.20178745687007904, 0.2182973325252533, 0.17518819868564606, 0.16693325340747833, 0.23847608268260956, 0.6506428718566895, 0.6139416694641113, 0.18857118487358093, 0.18631283938884735, 0.20437954366207123, 0.23599626123905182, 0.18518367409706116, 0.225392147898674, 0.23279307782649994, 0.16214777529239655, 0.2011709064245224, 0.1782952845096588, 0.19463543593883514, 0.14971956610679626, 0.19463543593883514, 0.29444846510887146, 0.15970087051391602, 0.2078898400068283, 0.16221708059310913, 0.14961768686771393, 0.26773691177368164, 0.21261461079120636, 0.16636261343955994, 0.1799037605524063, 0.2688884139060974, 0.23987168073654175, 0.14701813459396362, 0.16674619913101196, 0.27711057662963867, 0.1403547078371048, 0.20633341372013092, 0.20993225276470184, 0.13946190476417542, 0.3026798367500305, 0.2121274173259735, 0.1425362080335617, 0.20346345007419586, 0.32218071818351746, 0.32218071818351746, 0.32218071818351746, 0.2263016551733017, 0.15742723643779755, 0.16070696711540222, 0.29189634323120117, 0.1639866977930069, 0.20942074060440063, 0.16753658652305603, 0.147270068526268, 0.239144966006279, 0.23644275963306427, 0.43619009852409363, 0.1344730406999588, 0.1344730406999588, 0.369800865650177, 0.1680912971496582, 0.1680912971496582, 0.10730379074811935, 0.5365189909934998, 0.2146075814962387, 0.10730379074811935, 0.15148305892944336, 0.2378121018409729, 0.27853336930274963, 0.1824312061071396, 0.14985419809818268, 0.32336005568504333, 0.32336005568504333, 0.32336005568504333, 0.2160656452178955, 0.3046063184738159, 0.1784028261899948, 0.15329428017139435, 0.14734752476215363, 0.2680762708187103, 0.1496490091085434, 0.24654404819011688, 0.2034795880317688, 0.13349983096122742, 0.2666119635105133, 0.2666119635105133, 0.2666119635105133, 0.5332239270210266, 0.20018257200717926, 0.2128925770521164, 0.1715850681066513, 0.15728630125522614, 0.2589663565158844, 0.23078982532024384, 0.13030989468097687, 0.1742698699235916, 0.25904980301856995, 0.2056698352098465, 0.26501569151878357, 0.26501569151878357, 0.26501569151878357, 0.5300313830375671, 0.3208383619785309, 0.3208383619785309, 0.1920933574438095, 0.5762800574302673, 0.1920933574438095, 0.1920933574438095, 0.20295462012290955, 0.17473633587360382, 0.20946653187274933, 0.15628591179847717, 0.2572205662727356, 0.5102202296257019, 0.17007340490818024, 0.17007340490818024, 0.17007340490818024, 0.17007340490818024, 0.4362674951553345, 0.1993998885154724, 0.16330941021442413, 0.15879809856414795, 0.29143062233924866, 0.1876704841852188, 0.322961688041687, 0.16378770768642426, 0.11995720118284225, 0.23530066013336182, 0.1568671017885208, 0.1485416442155838, 0.27546456456184387, 0.20014765858650208, 0.144357368350029, 0.23152969777584076, 0.2531363368034363, 0.18377158045768738, 0.17296148836612701, 0.13422532379627228, 0.254938006401062, 0.26126039028167725, 0.12909336388111115, 0.1629035323858261, 0.29199689626693726, 0.15368257462978363, 0.15680956840515137, 0.25975847244262695, 0.21748806536197662, 0.17726299166679382, 0.18885326385498047, 0.4699110686779022, 0.1566370278596878, 0.1566370278596878, 0.1566370278596878, 0.1566370278596878, 0.20057840645313263, 0.41548383235931396, 0.10028920322656631, 0.12894326448440552, 0.15759731829166412, 0.1770826280117035, 0.4131928086280823, 0.1180550828576088, 0.1180550828576088, 0.14756885170936584, 0.16325624287128448, 0.2633165121078491, 0.18871018290519714, 0.19836512207984924, 0.18607701361179352, 0.2698776125907898, 0.21209701895713806, 0.20223204791545868, 0.15431644022464752, 0.16136284172534943, 0.3246923089027405, 0.3246923089027405, 0.26590585708618164, 0.16346672177314758, 0.16467759013175964, 0.19398051500320435, 0.21190130710601807, 0.14362730085849762, 0.43088191747665405, 0.07181365042924881, 0.14362730085849762, 0.14362730085849762, 0.23416157066822052, 0.20737706124782562, 0.23172661662101746, 0.19195567071437836, 0.13473421335220337, 0.3219791352748871, 0.3219791352748871, 0.5335679054260254, 0.2667839527130127, 0.2667839527130127, 0.17852163314819336, 0.23654116690158844, 0.12050209939479828, 0.17852163314819336, 0.2856346070766449, 0.6174560785293579, 0.20720995962619781, 0.27973344922065735, 0.14619813859462738, 0.1715238094329834, 0.1956983059644699, 0.23027797043323517, 0.18964067101478577, 0.1717848926782608, 0.22288936376571655, 0.18594637513160706, 0.20443975925445557, 0.1574421226978302, 0.2714114189147949, 0.16801658272743225, 0.1985650509595871, 0.23202437162399292, 0.19439879059791565, 0.2200525999069214, 0.20808082818984985, 0.1459416151046753, 0.2167765200138092, 0.21787691116333008, 0.1815640926361084, 0.1551547646522522, 0.22888079285621643, 0.1900969296693802, 0.20887193083763123, 0.2957063317298889, 0.1760156750679016, 0.13142503798007965, 0.18330955505371094, 0.158454030752182, 0.2951594591140747, 0.20505814254283905, 0.15534707903862, 0.1392722874879837, 0.4178168773651123, 0.1392722874879837, 0.1392722874879837, 0.1392722874879837, 0.26673877239227295, 0.19665180146694183, 0.21978729963302612, 0.1728358268737793, 0.14425668120384216, 0.263441264629364, 0.1551491916179657, 0.2780190408229828, 0.14369523525238037, 0.1603555530309677, 0.6173816919326782, 0.6169404983520508, 0.613761842250824, 0.6173982620239258, 0.617333710193634], \"Term\": [\"\\n\", \"\\n\", \"\\n\", \"\\n\", \"\\n\", \"\\n\\n\", \"\\n\\n\", \"\\n\\n\", \"\\n\\n\", \"\\n\\n\", \"\\r\\n\\r\\n\", \"\\r\\n\\r\\n\", \"\\r\\n\\r\\n\", \"\\r\\n\\r\\n\", \"\\r\\n\\r\\n\", \" \", \" \", \" \", \" \", \" \", \"$\", \"$\", \"$\", \"$\", \"$\", \"--it\", \"1\", \"1\", \"1\", \"1\", \"1\", \"100/5\", \"100/5\", \"100/5\", \"100/5\", \"1900\", \"1900\", \"1900\", \"1900\", \"1900\", \"3,4,5\", \"4\", \"4\", \"4\", \"4\", \"4\", \"4/17/15\", \"5:15\", \"5:15\", \"5:15\", \"7-Eleven\", \"7-Eleven\", \"A5\", \"Aptive\", \"Aptive\", \"BB\", \"Bello\", \"Bello\", \"Bim\", \"Bim\", \"Bim\", \"Bim\", \"Botanical\", \"Botanical\", \"Botanical\", \"Boubon\", \"Breed\", \"Breed\", \"Breed\", \"Brookline\", \"Brookline\", \"CWRU\", \"CWRU\", \"Caliente\", \"Caliente\", \"Caliente\", \"Caliente\", \"Carina\", \"Carina\", \"Coca\", \"Coca\", \"Coca\", \"Coca\", \"Coca\", \"Cola\", \"Cola\", \"Cola\", \"Cola\", \"Cola\", \"CrossFit\", \"CrossFit\", \"CrossFit\", \"CrossFit\", \"CrossFit\", \"Darlene\", \"Darlene\", \"Delivary\", \"Delivary\", \"Deliverance\", \"Deliverance\", \"Deliverance\", \"Dror\", \"Environmental\", \"Environmental\", \"Estate\", \"Estate\", \"Ev36\", \"Eye\", \"Eye\", \"Eye\", \"Eye\", \"Eye\", \"F-150\", \"Franks\", \"Franks\", \"Franks\", \"Franks\", \"Greater\", \"Greater\", \"Greulich\", \"Greulich\", \"Greulich\", \"Hang\", \"HomeTeam\", \"Hotbox\", \"Hotbox\", \"Hotbox\", \"Hotbox\", \"Hotbox\", \"I'll\", \"JDT\", \"JDT\", \"JDT\", \"JDT\", \"Jina\", \"Jina\", \"Kang\", \"Kendel\", \"Kendel\", \"Kitsch\", \"Kitsch\", \"Knoll\", \"Lemonade\", \"Lemonade\", \"Lemonade\", \"Lemonade\", \"Lemonade\", \"Mandi\", \"Mashed\", \"Mashed\", \"Mashed\", \"Melinda\", \"Metros\", \"Metros\", \"Mexicanos\", \"Monkland\", \"Monkland\", \"M\\u00f6tley\", \"M\\u00f6tley\", \"M\\u00f6tley\", \"Nan\", \"Nan\", \"Nan\", \"Nan\", \"Nan\", \"Nationwide\", \"Nationwide\", \"Neil\", \"Olak\", \"Olak\", \"Olek\", \"PNW\", \"Pavers\", \"Pavers\", \"Pavers\", \"Pavers\", \"Peppadews\", \"Peppadews\", \"Price\", \"Price\", \"Price\", \"Price\", \"Price\", \"Puzzlemaster\", \"Puzzlemaster\", \"RAC\", \"RAC\", \"RAC\", \"RAC\", \"RAC\", \"Ribcap\", \"SAUCE\", \"Sono\", \"Sono\", \"Styles\", \"Styles\", \"TSO\", \"TSO\", \"Talia\", \"Talia\", \"Talia\", \"Tumi\", \"Tumi\", \"Veranda\", \"YC\", \"Yasmin\", \"Yasmin\", \"Yasmin\", \"abordable\", \"abordable\", \"abordable\", \"abordable\", \"abordable\", \"accueillant\", \"acrobatic\", \"acrobatic\", \"acrobatic\", \"acrobatic\", \"acrobatic\", \"adobo\", \"adobo\", \"adobo\", \"adobo\", \"adobo\", \"amature\", \"amature\", \"amazing\", \"amazing\", \"amazing\", \"amazing\", \"amazing\", \"appointment\", \"appointment\", \"appointment\", \"appointment\", \"appointment\", \"artichoke\", \"artichoke\", \"artichoke\", \"artichoke\", \"artichoke\", \"asada\", \"asada\", \"asada\", \"asada\", \"asada\", \"ask\", \"ask\", \"ask\", \"ask\", \"ask\", \"astors\", \"auto\", \"auto\", \"auto\", \"auto\", \"auto\", \"average\", \"average\", \"average\", \"average\", \"average\", \"bad\", \"bad\", \"bad\", \"bad\", \"bad\", \"badd\", \"badd\", \"barber\", \"barber\", \"barber\", \"barber\", \"barber\", \"bartende\", \"basa\", \"basa\", \"basa\", \"bathing\", \"be\", \"be\", \"be\", \"be\", \"be\", \"beause\", \"bit\", \"bit\", \"bit\", \"bit\", \"bit\", \"bodied\", \"bodied\", \"boyfriend\", \"boyfriend\", \"boyfriend\", \"boyfriend\", \"boyfriend\", \"bring\", \"bring\", \"bring\", \"bring\", \"bring\", \"burger\", \"burger\", \"burger\", \"burger\", \"burger\", \"carne\", \"carne\", \"carne\", \"carne\", \"carne\", \"cassada\", \"chauffeur\", \"chauffeur\", \"chauffeur\", \"cheap\", \"cheap\", \"cheap\", \"cheap\", \"cheap\", \"chicken\", \"chicken\", \"chicken\", \"chicken\", \"chicken\", \"class\", \"class\", \"class\", \"class\", \"class\", \"clean\", \"clean\", \"clean\", \"clean\", \"clean\", \"close\", \"close\", \"close\", \"close\", \"close\", \"coffee\", \"coffee\", \"coffee\", \"coffee\", \"coffee\", \"come\", \"come\", \"come\", \"come\", \"come\", \"complain\", \"complain\", \"complain\", \"complain\", \"complain\", \"consent\", \"consent\", \"consent\", \"consent\", \"consent\", \"cos\", \"cos\", \"cos\", \"customer\", \"customer\", \"customer\", \"customer\", \"customer\", \"dandan\", \"dandan\", \"dandan\", \"day\", \"day\", \"day\", \"day\", \"day\", \"definitely\", \"definitely\", \"definitely\", \"definitely\", \"definitely\", \"delicious\", \"delicious\", \"delicious\", \"delicious\", \"delicious\", \"delicious\\u200b\", \"delicious\\u200b\", \"delicious\\u200b\", \"different\", \"different\", \"different\", \"different\", \"different\", \"dignity\", \"dignity\", \"dignity\", \"dignity\", \"dinner\", \"dinner\", \"dinner\", \"dinner\", \"dinner\", \"dish\", \"dish\", \"dish\", \"dish\", \"dish\", \"dog\", \"dog\", \"dog\", \"dog\", \"dog\", \"dolci\", \"dolci\", \"donut\", \"donut\", \"donut\", \"donut\", \"donut\", \"drink\", \"drink\", \"drink\", \"drink\", \"drink\", \"easygoing\", \"eat\", \"eat\", \"eat\", \"eat\", \"eat\", \"employ\\u00e9s\", \"employ\\u00e9s\", \"employ\\u00e9s\", \"employ\\u00e9s\", \"end\", \"end\", \"end\", \"end\", \"end\", \"evening\", \"evening\", \"evening\", \"evening\", \"evening\", \"excellent\", \"excellent\", \"excellent\", \"excellent\", \"excellent\", \"existant\", \"expect\", \"expect\", \"expect\", \"expect\", \"expect\", \"experience\", \"experience\", \"experience\", \"experience\", \"experience\", \"eyeglas\", \"eyeglas\", \"family\", \"family\", \"family\", \"family\", \"family\", \"fantastic\", \"fantastic\", \"fantastic\", \"fantastic\", \"fantastic\", \"fast\", \"fast\", \"fast\", \"fast\", \"fast\", \"feel\", \"feel\", \"feel\", \"feel\", \"feel\", \"find\", \"find\", \"find\", \"find\", \"find\", \"fix\", \"fix\", \"fix\", \"fix\", \"fix\", \"flavor\", \"flavor\", \"flavor\", \"flavor\", \"flavor\", \"food\", \"food\", \"food\", \"food\", \"food\", \"forgetful\", \"forgetful\", \"forgetful\", \"fresh\", \"fresh\", \"fresh\", \"fresh\", \"fresh\", \"fridendly\", \"friend\", \"friend\", \"friend\", \"friend\", \"friend\", \"friendly\", \"friendly\", \"friendly\", \"friendly\", \"friendly\", \"fry\", \"fry\", \"fry\", \"fry\", \"fry\", \"get\", \"get\", \"get\", \"get\", \"get\", \"glad\", \"glad\", \"glad\", \"glad\", \"glad\", \"go\", \"go\", \"go\", \"go\", \"go\", \"golfweek.com\", \"golfweek.com\", \"good\", \"good\", \"good\", \"good\", \"good\", \"good~\", \"good~\", \"good~\", \"good~\", \"great\", \"great\", \"great\", \"great\", \"great\", \"greatest\", \"greatest\", \"greatful\", \"greentea\", \"guy\", \"guy\", \"guy\", \"guy\", \"guy\", \"gym\", \"gym\", \"gym\", \"gym\", \"gym\", \"home\", \"home\", \"home\", \"home\", \"home\", \"horrible\", \"horrible\", \"horrible\", \"horrible\", \"horrible\", \"hot\", \"hot\", \"hot\", \"hot\", \"hot\", \"hour\", \"hour\", \"hour\", \"hour\", \"hour\", \"huge-\", \"imcomplete\", \"imcomplete\", \"insectarium\", \"insectarium\", \"inspiring\", \"inspiring\", \"inspiring\", \"iphone\", \"iphone\", \"iphone\", \"kibbi\", \"kibbi\", \"kibbi\", \"know\", \"know\", \"know\", \"know\", \"know\", \"las\", \"las\", \"las\", \"las\", \"las\", \"leave\", \"leave\", \"leave\", \"leave\", \"leave\", \"like\", \"like\", \"like\", \"like\", \"like\", \"little\", \"little\", \"little\", \"little\", \"little\", \"live\", \"live\", \"live\", \"live\", \"live\", \"location\", \"location\", \"location\", \"location\", \"location\", \"long\", \"long\", \"long\", \"long\", \"long\", \"look\", \"look\", \"look\", \"look\", \"look\", \"lot\", \"lot\", \"lot\", \"lot\", \"lot\", \"love\", \"love\", \"love\", \"love\", \"love\", \"lyft\", \"lyft\", \"m.mme\", \"m.mme\", \"massage\", \"massage\", \"massage\", \"massage\", \"massage\", \"menu\", \"menu\", \"menu\", \"menu\", \"menu\", \"minute\", \"minute\", \"minute\", \"minute\", \"minute\", \"miraculously\", \"miraculously\", \"miraculously\", \"miraculously\", \"miraculously\", \"momma\", \"momma\", \"more~\", \"more~\", \"nachos~\", \"nachos~\", \"nachos~\", \"nail\", \"nail\", \"nail\", \"nail\", \"nail\", \"nan\", \"nan\", \"nan\", \"nan\", \"nan\", \"need\", \"need\", \"need\", \"need\", \"need\", \"nervous\", \"nervous\", \"nervous\", \"nervous\", \"nervous\", \"nice\", \"nice\", \"nice\", \"nice\", \"nice\", \"noodle\", \"noodle\", \"noodle\", \"noodle\", \"noodle\", \"offer\", \"offer\", \"offer\", \"offer\", \"offer\", \"oho\", \"old\", \"old\", \"old\", \"old\", \"old\", \"operative\", \"operative\", \"order\", \"order\", \"order\", \"order\", \"order\", \"organis\\u00e9\", \"owner\", \"owner\", \"owner\", \"owner\", \"owner\", \"palmas\", \"papadum\", \"people\", \"people\", \"people\", \"people\", \"people\", \"place\", \"place\", \"place\", \"place\", \"place\", \"pok\\u00e9\", \"posoleshawwty\", \"posoleshawwty\", \"pressed\", \"pressed\", \"pressed\", \"pressed\", \"pressed\", \"pretty\", \"pretty\", \"pretty\", \"pretty\", \"pretty\", \"price\", \"price\", \"price\", \"price\", \"price\", \"pricey\", \"pricey\", \"pricey\", \"pricey\", \"pricey\", \"propre\", \"propre\", \"pterodactyl\", \"pterodactyl\", \"puck\", \"puck\", \"puck\", \"puck\", \"puck\", \"recommend\", \"recommend\", \"recommend\", \"recommend\", \"recommend\", \"red\", \"red\", \"red\", \"red\", \"red\", \"repair\", \"repair\", \"repair\", \"repair\", \"repair\", \"respectueux\", \"respectueux\", \"respectueux\", \"restaurant\", \"restaurant\", \"restaurant\", \"restaurant\", \"restaurant\", \"restaurant-\", \"restaurant-\", \"restaurant-\", \"review\", \"review\", \"review\", \"review\", \"review\", \"right\", \"right\", \"right\", \"right\", \"right\", \"roll\", \"roll\", \"roll\", \"roll\", \"roll\", \"romper\", \"room\", \"room\", \"room\", \"room\", \"room\", \"roomtastic\", \"satified\", \"sauce\", \"sauce\", \"sauce\", \"sauce\", \"sauce\", \"say\", \"say\", \"say\", \"say\", \"say\", \"seating\", \"seating\", \"seating\", \"seating\", \"seating\", \"see\", \"see\", \"see\", \"see\", \"see\", \"selection\", \"selection\", \"selection\", \"selection\", \"selection\", \"server\", \"server\", \"server\", \"server\", \"server\", \"service\", \"service\", \"service\", \"service\", \"service\", \"service~\", \"service~\", \"service~\", \"set\", \"set\", \"set\", \"set\", \"set\", \"sit\", \"sit\", \"sit\", \"sit\", \"sit\", \"size-\", \"snow\", \"snow\", \"snow\", \"snow\", \"snow\", \"sole\", \"sole\", \"sole\", \"sole\", \"special\", \"special\", \"special\", \"special\", \"special\", \"spicy)(original\", \"spicy)(original\", \"spicy)(original\", \"staff\", \"staff\", \"staff\", \"staff\", \"staff\", \"star\", \"star\", \"star\", \"star\", \"star\", \"stationnement\", \"stationnement\", \"stationnement\", \"stationnement\", \"stay\", \"stay\", \"stay\", \"stay\", \"stay\", \"stop\", \"stop\", \"stop\", \"stop\", \"stop\", \"substandard\", \"substandard\", \"substandard\", \"substandard\", \"suitemate\", \"suitemate\", \"summerlin\", \"summerlin\", \"summerlin\", \"summerlin\", \"sure\", \"sure\", \"sure\", \"sure\", \"sure\", \"swedish\", \"swedish\", \"swedish\", \"swedish\", \"swedish\", \"swordfish\", \"table\", \"table\", \"table\", \"table\", \"table\", \"taco\", \"taco\", \"taco\", \"taco\", \"taco\", \"take\", \"take\", \"take\", \"take\", \"take\", \"taste\", \"taste\", \"taste\", \"taste\", \"taste\", \"tea\", \"tea\", \"tea\", \"tea\", \"tea\", \"tell\", \"tell\", \"tell\", \"tell\", \"tell\", \"termite\", \"termite\", \"termite\", \"termite\", \"termite\", \"thai\", \"thai\", \"thai\", \"thai\", \"thai\", \"therapist\", \"therapist\", \"therapist\", \"therapist\", \"therapist\", \"thing\", \"thing\", \"thing\", \"thing\", \"thing\", \"think\", \"think\", \"think\", \"think\", \"think\", \"tide\", \"tide\", \"time\", \"time\", \"time\", \"time\", \"time\", \"tissue\", \"tissue\", \"tissue\", \"tissue\", \"tissue\", \"try\", \"try\", \"try\", \"try\", \"try\", \"ud\", \"ud\", \"underrated\", \"underrated\", \"underrated\", \"understand\", \"understand\", \"understand\", \"understand\", \"understand\", \"vagrant\", \"visit\", \"visit\", \"visit\", \"visit\", \"visit\", \"wait\", \"wait\", \"wait\", \"wait\", \"wait\", \"walk\", \"walk\", \"walk\", \"walk\", \"walk\", \"want\", \"want\", \"want\", \"want\", \"want\", \"well\", \"well\", \"well\", \"well\", \"well\", \"wine\", \"wine\", \"wine\", \"wine\", \"wine\", \"wish\", \"wish\", \"wish\", \"wish\", \"wish\", \"woot\", \"woot\", \"woot\", \"woot\", \"woot\", \"work\", \"work\", \"work\", \"work\", \"work\", \"year\", \"year\", \"year\", \"year\", \"year\", \"\\u307e\\u305f\\u662f\\u975e\\u30de\\u30c3\\u30b5\\u30fc\\u30b8\\u306a\\u3069\\u3067\\u4f3a\\u3044\\u305f\\u3044\\u3068\\u601d\\u3044\\u307e\\u3059\", \"\\u30cd\\u30a4\\u30eb\\u306f\\u3061\\u306f\\u308b\\u3055\\u3093\\u3068\\u8a00\\u3046\\u7dba\\u9e97\\u306a\\u65b9\\u304c\\u4e01\\u5be7\\u306b\\u3057\\u3066\\u304f\\u308c\\u3068\\u3066\\u3082\\u6c17\\u306b\\u5165\\u308a\\u307e\\u3057\\u305f\", \"\\u5929\\u6c23\\u5f88\\u71b1\\u5403\\u4e0d\\u4e0b\\u6771\\u897f\\uff0c\\u4eca\\u5929\\u6211\\u9ede\\u4e86\\u4e00\\u500b\\u97d3\\u570b\\u51b7\\u9762\\u6e6f\\u3001\\u9910\\u5f8c\\u9ede\\u4e86\\u751c\\u9ede\\uff0c\\u51b0\\u6c99\\u7cfb\\u5217\\u4e0d\\u6703\\u592a\\u751c\\u81a9\\uff0c\\u89ba\\u5f97\\u5e97\\u5bb6\\u5f88\\u7528\\u5fc3\\u88fd\\u4f5c\\uff0c\\u5305\\u542b\\u64fa\\u76e4\\u7cbe\\u7dfb\\u3001\\u4f50\\u6599\\u885b\\u751f\\uff0c\\u590f\\u65e5\\u60f3\\u958b\\u80c3\\uff0c\\u9019\\u662f\\u4e00\\u500b\\u4e0d\\u932f\\u7684\\u9078\\u64c7\\uff0c\\u670d\\u52d9\\u4eba\\u54e1\\u4e5f\\u5f88\\u656c\\u696d\\uff0c\\u4ee5\\u5f8c\\u6703\\u5e38\\u5e38\\u4f86\", \"\\u65c5\\u884c\\u3067\\u30e9\\u30b9\\u30d9\\u30ac\\u30b9\\u306b\\u6765\\u307e\\u3057\\u305f\\u304c\\u30cd\\u30a4\\u30eb\\u304c\\u306f\\u3052\\u3066\\u308b\\u306e\\u304c\\u6c17\\u306b\\u306a\\u308a\\u3001\\u63a2\\u3057\\u305f\\u304a\\u5e97\\u3067\\u3057\\u305f\", \"\\u8cea\\u554f\\u306b\\u3082\\u4e01\\u5be7\\u306b\\u7b54\\u3048\\u3066\\u304f\\u308c\\u307e\\u3057\\u305f\\u3057\\u3001\\u65e5\\u672c\\u4eba\\u306e\\u65b9\\u3082\\u65e5\\u672c\\u8a9e\\u304c\\u8a71\\u305b\\u308b\\u65b9\\u3082\\u5c45\\u3066\\u3001\\u3068\\u3066\\u3082\\u7dba\\u9e97\\u3067\\u5c45\\u5fc3\\u5730\\u306e\\u3044\\u3044\\u304a\\u5e97\\u3067\\u3057\\u305f\"]}, \"R\": 30, \"lambda.step\": 0.01, \"plot.opts\": {\"xlab\": \"PC1\", \"ylab\": \"PC2\"}, \"topic.order\": [5, 3, 2, 1, 4]};\n",
       "\n",
       "function LDAvis_load_lib(url, callback){\n",
       "  var s = document.createElement('script');\n",
       "  s.src = url;\n",
       "  s.async = true;\n",
       "  s.onreadystatechange = s.onload = callback;\n",
       "  s.onerror = function(){console.warn(\"failed to load library \" + url);};\n",
       "  document.getElementsByTagName(\"head\")[0].appendChild(s);\n",
       "}\n",
       "\n",
       "if(typeof(LDAvis) !== \"undefined\"){\n",
       "   // already loaded: just create the visualization\n",
       "   !function(LDAvis){\n",
       "       new LDAvis(\"#\" + \"ldavis_el1071218492909795123168623135\", ldavis_el1071218492909795123168623135_data);\n",
       "   }(LDAvis);\n",
       "}else if(typeof define === \"function\" && define.amd){\n",
       "   // require.js is available: use it to load d3/LDAvis\n",
       "   require.config({paths: {d3: \"https://cdnjs.cloudflare.com/ajax/libs/d3/3.5.5/d3.min\"}});\n",
       "   require([\"d3\"], function(d3){\n",
       "      window.d3 = d3;\n",
       "      LDAvis_load_lib(\"https://cdn.rawgit.com/bmabey/pyLDAvis/files/ldavis.v1.0.0.js\", function(){\n",
       "        new LDAvis(\"#\" + \"ldavis_el1071218492909795123168623135\", ldavis_el1071218492909795123168623135_data);\n",
       "      });\n",
       "    });\n",
       "}else{\n",
       "    // require.js not available: dynamically load d3 & LDAvis\n",
       "    LDAvis_load_lib(\"https://cdnjs.cloudflare.com/ajax/libs/d3/3.5.5/d3.min.js\", function(){\n",
       "         LDAvis_load_lib(\"https://cdn.rawgit.com/bmabey/pyLDAvis/files/ldavis.v1.0.0.js\", function(){\n",
       "                 new LDAvis(\"#\" + \"ldavis_el1071218492909795123168623135\", ldavis_el1071218492909795123168623135_data);\n",
       "            })\n",
       "         });\n",
       "}\n",
       "</script>"
      ],
      "text/plain": [
       "<IPython.core.display.HTML object>"
      ]
     },
     "execution_count": 55,
     "metadata": {},
     "output_type": "execute_result"
    }
   ],
   "source": [
    "pyLDAvis.display(vis_data)\n"
   ]
  },
  {
   "cell_type": "code",
   "execution_count": 56,
   "metadata": {},
   "outputs": [
    {
     "data": {
      "image/png": "[encoded data removed]",
      "text/plain": [
       "<Figure size 1080x720 with 1 Axes>"
      ]
     },
     "metadata": {
      "needs_background": "light"
     },
     "output_type": "display_data"
    }
   ],
   "source": [
    "ax = plt.figure(figsize=(15,10))\n",
    "sns.boxplot(x='funny', y='stars',\n",
    "                 data=yelp, palette='cubehelix');"
   ]
  },
  {
   "cell_type": "markdown",
   "metadata": {},
   "source": [
    "My analysis of the topic model's results were that it was close to what I was expecting from the Yelp reviews. My results for the Gensim visualization seems to be giving me the same results for similar words such as: come, order, like, great, good, place, food, service which makes sense since the majority of the reviews use those words. Gensim is a cool library for NLP that I'll be using more often for these kind of projects."
   ]
  },
  {
   "cell_type": "markdown",
   "metadata": {},
   "source": [
    "## Stretch Goals\n",
    "\n",
    "Complete one of more of these to push your score towards a three: \n",
    "* Create more visualizations of the LDA results and provide written analysis\n",
    "* Incorporate RandomizedSearchCV into docoument classification pipeline\n",
    "* Incorporate named entity recognition into your analysis\n",
    "* Compare vectorization methods in the classification section\n",
    "* Analyze more (or all) of the yelp dataset - this one is v. hard. \n",
    "* Use a generator object on the reviews file - this would help you with the analyzing the whole dataset.\n",
    "* Incorporate any of the other yelp dataset entities in your analysis (business, users, etc.)"
   ]
  }
 ],
 "metadata": {
  "kernel_info": {
   "name": "u4-s1-nlp"
  },
  "kernelspec": {
   "display_name": "U4-S1-NLP (Python3)",
   "language": "python",
   "name": "u4-s1-nlp"
  },
  "language_info": {
   "codemirror_mode": {
    "name": "ipython",
    "version": 3
   },
   "file_extension": ".py",
   "mimetype": "text/x-python",
   "name": "python",
   "nbconvert_exporter": "python",
   "pygments_lexer": "ipython3",
   "version": "3.7.0"
  },
  "nteract": {
   "version": "0.22.4"
  },
  "toc-autonumbering": false
 },
 "nbformat": 4,
 "nbformat_minor": 4
}
