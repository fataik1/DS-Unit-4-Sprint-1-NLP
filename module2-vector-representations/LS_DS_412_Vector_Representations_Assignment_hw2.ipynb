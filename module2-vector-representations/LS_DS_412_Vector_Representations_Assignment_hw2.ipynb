{
 "cells": [
  {
   "cell_type": "markdown",
   "metadata": {},
   "source": [
    "<img align=\"left\" src=\"https://lever-client-logos.s3.amazonaws.com/864372b1-534c-480e-acd5-9711f850815c-1524247202159.png\" width=200>\n",
    "<br></br>\n",
    "\n",
    "# Vector Representations\n",
    "## *Data Science Unit 4 Sprint 2 Assignment 2*"
   ]
  },
  {
   "cell_type": "code",
   "execution_count": 1,
   "metadata": {
    "colab": {
     "base_uri": "https://localhost:8080/",
     "height": 159
    },
    "colab_type": "code",
    "id": "hyj-f9FDcVFp",
    "outputId": "5dd045fe-6e4c-458c-e2fc-253c3da9c805"
   },
   "outputs": [],
   "source": [
    "import re\n",
    "import string\n",
    "\n",
    "from sklearn.feature_extraction.text import CountVectorizer, TfidfVectorizer\n",
    "import matplotlib.pyplot as plt\n",
    "import pandas as pd\n",
    "import numpy as np\n",
    "import spacy\n",
    "\n",
    "from bs4 import BeautifulSoup"
   ]
  },
  {
   "cell_type": "markdown",
   "metadata": {
    "colab_type": "text",
    "id": "M7bcmqfGXrFG"
   },
   "source": [
    "## 1) *Clean:* Job Listings from indeed.com that contain the title \"Data Scientist\" \n",
    "\n",
    "You have `job_listings.csv` in the data folder for this module. The text data in the description column is still messy - full of html tags. Use the [BeautifulSoup](https://www.crummy.com/software/BeautifulSoup/bs4/doc/) library to clean up this column. You will need to read through the documentation to accomplish this task. "
   ]
  },
  {
   "cell_type": "code",
   "execution_count": 5,
   "metadata": {
    "colab": {},
    "colab_type": "code",
    "id": "KcYlc1URXhlC"
   },
   "outputs": [
    {
     "data": {
      "text/html": [
       "<div>\n",
       "<style scoped>\n",
       "    .dataframe tbody tr th:only-of-type {\n",
       "        vertical-align: middle;\n",
       "    }\n",
       "\n",
       "    .dataframe tbody tr th {\n",
       "        vertical-align: top;\n",
       "    }\n",
       "\n",
       "    .dataframe thead th {\n",
       "        text-align: right;\n",
       "    }\n",
       "</style>\n",
       "<table border=\"1\" class=\"dataframe\">\n",
       "  <thead>\n",
       "    <tr style=\"text-align: right;\">\n",
       "      <th></th>\n",
       "      <th>title</th>\n",
       "      <th>description</th>\n",
       "    </tr>\n",
       "  </thead>\n",
       "  <tbody>\n",
       "    <tr>\n",
       "      <th>0</th>\n",
       "      <td>Data scientist</td>\n",
       "      <td>b\"&lt;div&gt;&lt;div&gt;Job Requirements:&lt;/div&gt;&lt;ul&gt;&lt;li&gt;&lt;p&gt;...</td>\n",
       "    </tr>\n",
       "    <tr>\n",
       "      <th>1</th>\n",
       "      <td>Data Scientist I</td>\n",
       "      <td>b'&lt;div&gt;Job Description&lt;br/&gt;\\n&lt;br/&gt;\\n&lt;p&gt;As a Da...</td>\n",
       "    </tr>\n",
       "    <tr>\n",
       "      <th>2</th>\n",
       "      <td>Data Scientist - Entry Level</td>\n",
       "      <td>b'&lt;div&gt;&lt;p&gt;As a Data Scientist you will be work...</td>\n",
       "    </tr>\n",
       "    <tr>\n",
       "      <th>3</th>\n",
       "      <td>Data Scientist</td>\n",
       "      <td>b'&lt;div class=\"jobsearch-JobMetadataHeader icl-...</td>\n",
       "    </tr>\n",
       "    <tr>\n",
       "      <th>4</th>\n",
       "      <td>Data Scientist</td>\n",
       "      <td>b'&lt;ul&gt;&lt;li&gt;Location: USA \\xe2\\x80\\x93 multiple ...</td>\n",
       "    </tr>\n",
       "  </tbody>\n",
       "</table>\n",
       "</div>"
      ],
      "text/plain": [
       "                          title  \\\n",
       "0               Data scientist    \n",
       "1              Data Scientist I   \n",
       "2  Data Scientist - Entry Level   \n",
       "3                Data Scientist   \n",
       "4                Data Scientist   \n",
       "\n",
       "                                         description  \n",
       "0  b\"<div><div>Job Requirements:</div><ul><li><p>...  \n",
       "1  b'<div>Job Description<br/>\\n<br/>\\n<p>As a Da...  \n",
       "2  b'<div><p>As a Data Scientist you will be work...  \n",
       "3  b'<div class=\"jobsearch-JobMetadataHeader icl-...  \n",
       "4  b'<ul><li>Location: USA \\xe2\\x80\\x93 multiple ...  "
      ]
     },
     "execution_count": 5,
     "metadata": {},
     "output_type": "execute_result"
    }
   ],
   "source": [
    "from bs4 import BeautifulSoup\n",
    "import requests\n",
    "\n",
    "# First, let's load the data.\n",
    "\n",
    "file = 'job_listings.csv'\n",
    "df = pd.read_csv(file, usecols=['title', 'description'])[['title', 'description']]\n",
    "df.head()\n"
   ]
  },
  {
   "cell_type": "code",
   "execution_count": 7,
   "metadata": {},
   "outputs": [
    {
     "data": {
      "text/html": [
       "<div>\n",
       "<style scoped>\n",
       "    .dataframe tbody tr th:only-of-type {\n",
       "        vertical-align: middle;\n",
       "    }\n",
       "\n",
       "    .dataframe tbody tr th {\n",
       "        vertical-align: top;\n",
       "    }\n",
       "\n",
       "    .dataframe thead th {\n",
       "        text-align: right;\n",
       "    }\n",
       "</style>\n",
       "<table border=\"1\" class=\"dataframe\">\n",
       "  <thead>\n",
       "    <tr style=\"text-align: right;\">\n",
       "      <th></th>\n",
       "      <th>title</th>\n",
       "      <th>description</th>\n",
       "    </tr>\n",
       "  </thead>\n",
       "  <tbody>\n",
       "    <tr>\n",
       "      <th>0</th>\n",
       "      <td>Data scientist</td>\n",
       "      <td>Job Requirements:\\nConceptual understanding in...</td>\n",
       "    </tr>\n",
       "    <tr>\n",
       "      <th>1</th>\n",
       "      <td>Data Scientist I</td>\n",
       "      <td>Job Description\\n\\nAs a Data Scientist 1, you ...</td>\n",
       "    </tr>\n",
       "    <tr>\n",
       "      <th>2</th>\n",
       "      <td>Data Scientist - Entry Level</td>\n",
       "      <td>As a Data Scientist you will be working on con...</td>\n",
       "    </tr>\n",
       "    <tr>\n",
       "      <th>3</th>\n",
       "      <td>Data Scientist</td>\n",
       "      <td>$4,969 - $6,756 a monthContractUnder the gener...</td>\n",
       "    </tr>\n",
       "    <tr>\n",
       "      <th>4</th>\n",
       "      <td>Data Scientist</td>\n",
       "      <td>Location: USA \\xe2\\x80\\x93 multiple locations\\...</td>\n",
       "    </tr>\n",
       "  </tbody>\n",
       "</table>\n",
       "</div>"
      ],
      "text/plain": [
       "                          title  \\\n",
       "0               Data scientist    \n",
       "1              Data Scientist I   \n",
       "2  Data Scientist - Entry Level   \n",
       "3                Data Scientist   \n",
       "4                Data Scientist   \n",
       "\n",
       "                                         description  \n",
       "0  Job Requirements:\\nConceptual understanding in...  \n",
       "1  Job Description\\n\\nAs a Data Scientist 1, you ...  \n",
       "2  As a Data Scientist you will be working on con...  \n",
       "3  $4,969 - $6,756 a monthContractUnder the gener...  \n",
       "4  Location: USA \\xe2\\x80\\x93 multiple locations\\...  "
      ]
     },
     "execution_count": 7,
     "metadata": {},
     "output_type": "execute_result"
    }
   ],
   "source": [
    "from bs4 import BeautifulSoup\n",
    "\n",
    "def clean_description(df):\n",
    "    df = df.copy()\n",
    "    df['description'] = df['description'].str.replace('b\"', '')\n",
    "    df['description'] = df['description'].str.replace(\"b'\", '')\n",
    "    df = df.applymap(lambda text: BeautifulSoup(text, 'html.parser').get_text())\n",
    "    return df\n",
    "\n",
    "df = clean_description(df)\n",
    "df.head()"
   ]
  },
  {
   "cell_type": "code",
   "execution_count": 8,
   "metadata": {},
   "outputs": [
    {
     "data": {
      "text/html": [
       "<div>\n",
       "<style scoped>\n",
       "    .dataframe tbody tr th:only-of-type {\n",
       "        vertical-align: middle;\n",
       "    }\n",
       "\n",
       "    .dataframe tbody tr th {\n",
       "        vertical-align: top;\n",
       "    }\n",
       "\n",
       "    .dataframe thead th {\n",
       "        text-align: right;\n",
       "    }\n",
       "</style>\n",
       "<table border=\"1\" class=\"dataframe\">\n",
       "  <thead>\n",
       "    <tr style=\"text-align: right;\">\n",
       "      <th></th>\n",
       "      <th>title</th>\n",
       "      <th>description</th>\n",
       "    </tr>\n",
       "  </thead>\n",
       "  <tbody>\n",
       "    <tr>\n",
       "      <th>0</th>\n",
       "      <td>Data scientist</td>\n",
       "      <td>Job Requirements: Conceptual understanding in ...</td>\n",
       "    </tr>\n",
       "    <tr>\n",
       "      <th>1</th>\n",
       "      <td>Data Scientist I</td>\n",
       "      <td>Job Description  As a Data Scientist 1, you wi...</td>\n",
       "    </tr>\n",
       "    <tr>\n",
       "      <th>2</th>\n",
       "      <td>Data Scientist - Entry Level</td>\n",
       "      <td>As a Data Scientist you will be working on con...</td>\n",
       "    </tr>\n",
       "    <tr>\n",
       "      <th>3</th>\n",
       "      <td>Data Scientist</td>\n",
       "      <td>$4,969 - $6,756 a monthContractUnder the gener...</td>\n",
       "    </tr>\n",
       "    <tr>\n",
       "      <th>4</th>\n",
       "      <td>Data Scientist</td>\n",
       "      <td>Location: USA     multiple locations + years o...</td>\n",
       "    </tr>\n",
       "  </tbody>\n",
       "</table>\n",
       "</div>"
      ],
      "text/plain": [
       "                          title  \\\n",
       "0               Data scientist    \n",
       "1              Data Scientist I   \n",
       "2  Data Scientist - Entry Level   \n",
       "3                Data Scientist   \n",
       "4                Data Scientist   \n",
       "\n",
       "                                         description  \n",
       "0  Job Requirements: Conceptual understanding in ...  \n",
       "1  Job Description  As a Data Scientist 1, you wi...  \n",
       "2  As a Data Scientist you will be working on con...  \n",
       "3  $4,969 - $6,756 a monthContractUnder the gener...  \n",
       "4  Location: USA     multiple locations + years o...  "
      ]
     },
     "execution_count": 8,
     "metadata": {},
     "output_type": "execute_result"
    }
   ],
   "source": [
    "# We're going to use regex to remove the unicode.\n",
    "\n",
    "def remove_unicode(df):\n",
    "    df = df.copy()\n",
    "    df['description'] = df['description'].str.replace(r'(\\\\(x|n)[a-z0-9]{0,2})', ' ')\n",
    "    return df\n",
    "\n",
    "df = remove_unicode(df)\n",
    "df.head()"
   ]
  },
  {
   "cell_type": "code",
   "execution_count": 9,
   "metadata": {},
   "outputs": [
    {
     "data": {
      "text/plain": [
       "\"Who We Are BlackThorn Therapeutics is a computational sciences company with capabilities to develop proprietary therapeutics focused on neurobehavioral disorders such as depression, schizophrenia, and autism. We have pioneered the development of a computational psychiatry platform to advance our robust pipeline of novel therapeutics. We leverage data-driven approaches to solve the patient selection problem to create treatments that improve patient outcomes.  The Position Help us create the next-gen AI technologies to make better decisions in end-to-end drug development, clinical trials, and deployment lifecycle. A successful candidate will develop and implement AI models and algorithms on large-scale, multimodal neuroimaging, physiological, and clinical datasets to deepen our understanding of neurobehavioral disorders and their treatment. You will work with scientists, clinical researchers, and software developers to implement solutions to support our data-driven approaches to improving the lives of people with neurobehavioral disorders. At the same time, you will be rolling up your sleeves working on tactical tasks that will keep your coding and troubleshooting skills sharp. We value proactive thinkers and doers who identify opportunities for technology innovation in digital health.  Who You Are You have a PhD degree specialized in a topic related to computational neuroscience, statistics, or applied machine learning. You should have a proven record of publishing peer-reviewed papers in scientific journals and conferences. You have extensive experience working with large-scale neuroimaging datasets including task-based and resting-state fMRI, structural MRI, and DWI. You have ample experience with neuroimaging processing software such as AFNI, FSL, and Freesurfer. You are proficient in Python and machine learning toolboxes such as scikit-learn and pandas. Prior experience with processing signal modalities such as EEG, eye-tracking, and speech signal is a strong plus. Experience bringing machine learning projects to industrial production is also a plus. Your excellent communication skills help you explain complex models and solutions to non-technical peers.'\""
      ]
     },
     "execution_count": 9,
     "metadata": {},
     "output_type": "execute_result"
    }
   ],
   "source": [
    "# I'm going to check out a few of them to make sure everything is in order.\n",
    "\n",
    "df.loc[10, 'description']"
   ]
  },
  {
   "cell_type": "code",
   "execution_count": 10,
   "metadata": {},
   "outputs": [
    {
     "data": {
      "text/plain": [
       "\"$45,000 a yearWorking under direction of the Associate Director for Decision Support Analytics, this position will utilize statistical software, visualization tools, and a variety of data sources (databases, files, ERP   s, etc.) to deliver solutions for members of the campus community. This position will collaborate with a variety of campus stakeholders to develop metrics, analyses, and visualizations to answer decision-making needs.  The University of Nebraska-Lincoln seeks to attract and retain a high performing and diverse workforce in which employees    differences are respected and valued to better meet the varying needs of the diverse populations we serve. The university fosters a diverse and inclusive work environment that promotes collaboration so that all individuals are able to participate and contribute to their full potential. As an EO/AA employer, qualified applicants are considered for employment without regard to race, color, ethnicity, national origin, sex, pregnancy, sexual orientation, gender identity, religion, disability, age, genetic information, veteran status, marital status, and/or political affiliation. See: http://www.unl.edu/equity/notice-nondiscrimination. Minimum Required Qualifications Bachelor   s degree in Computer Science, Business, Mathematics, Statistics, Social Science, or related field plus minimum of one year of significant experience creating data visualizations (Tableau, Microsoft Power BI, R, Python, MATLAB, D3, or similar) required; equivalent education/experience considered. Must have minimum of one year of experience and/or training in statistical methods or machine learning. Excellent written and verbal communications skills, including experience making presentations in a business or professional setting necessary. One year of significant experience scripting using R, Python, SAS, SPSS, or other language essential. Must have exceptional attention to detail, excellent problem solving and listening skills. Demonstrated ability to work cooperatively in the accomplishment of a goal essential. Ability to work independently while demonstrating initiative required. Flexibility necessary for development of new systems and enhancement to existing systems necessary. Willingness and ability to work in a change-oriented environment essential. Preferred Qualifications Master   s degree in Business, Mathematics, Statistics or related quantitative field preferred. Filter/query building experience in SQL or similar desirable. Prefer experience training end-users on software platforms. Knowledge of data modeling and data warehousing concepts helpful. Prefer report building experience. Project management experience desirable. Knowledge of basic statistics and data science helpful. Pre-Placement Driving Record Review Required No Physical Required No Commercial Driver   s License (CDL) required. Subject to DOT approved pre-employment & random testing for alcohol and controlled substances. No Criminal History Background Check Required Yes Posted Salary $45,000 minimum'\""
      ]
     },
     "execution_count": 10,
     "metadata": {},
     "output_type": "execute_result"
    }
   ],
   "source": [
    "df.loc[20, 'description']"
   ]
  },
  {
   "cell_type": "markdown",
   "metadata": {
    "colab_type": "text",
    "id": "5C4xFZNtX1m2"
   },
   "source": [
    "## 2) Use Spacy to tokenize the listings "
   ]
  },
  {
   "cell_type": "code",
   "execution_count": 11,
   "metadata": {
    "colab": {},
    "colab_type": "code",
    "id": "dhUHuMr-X-II"
   },
   "outputs": [
    {
     "data": {
      "text/html": [
       "<div>\n",
       "<style scoped>\n",
       "    .dataframe tbody tr th:only-of-type {\n",
       "        vertical-align: middle;\n",
       "    }\n",
       "\n",
       "    .dataframe tbody tr th {\n",
       "        vertical-align: top;\n",
       "    }\n",
       "\n",
       "    .dataframe thead th {\n",
       "        text-align: right;\n",
       "    }\n",
       "</style>\n",
       "<table border=\"1\" class=\"dataframe\">\n",
       "  <thead>\n",
       "    <tr style=\"text-align: right;\">\n",
       "      <th></th>\n",
       "      <th>title</th>\n",
       "      <th>description</th>\n",
       "      <th>tokens</th>\n",
       "    </tr>\n",
       "  </thead>\n",
       "  <tbody>\n",
       "    <tr>\n",
       "      <th>127</th>\n",
       "      <td>Associate Data Scientist</td>\n",
       "      <td>null Associate Data Scientist     Ten-X Commer...</td>\n",
       "      <td>[null, Associate, Data, Scientist,     , ten, ...</td>\n",
       "    </tr>\n",
       "    <tr>\n",
       "      <th>9</th>\n",
       "      <td>Data Scientist, Lifecyle</td>\n",
       "      <td>Slack is hiring experienced data scientists to...</td>\n",
       "      <td>[Slack, be, hire, experienced, datum, scientis...</td>\n",
       "    </tr>\n",
       "    <tr>\n",
       "      <th>312</th>\n",
       "      <td>Undergraduate Internship/Co-op Program - Data ...</td>\n",
       "      <td>$21.93 - $26.43 an hourInternshipAs a Data Sci...</td>\n",
       "      <td>[$, 21.93, $, 26.43, an, hourInternshipAs, a, ...</td>\n",
       "    </tr>\n",
       "    <tr>\n",
       "      <th>379</th>\n",
       "      <td>Data Scientist</td>\n",
       "      <td>ClassDojo's vision is to create a modern educa...</td>\n",
       "      <td>[ClassDojo, 's, vision, be, to, create, a, mod...</td>\n",
       "    </tr>\n",
       "    <tr>\n",
       "      <th>159</th>\n",
       "      <td>Data Scientist</td>\n",
       "      <td>Experiment engineers will be expected to help ...</td>\n",
       "      <td>[experiment, engineer, will, be, expect, to, h...</td>\n",
       "    </tr>\n",
       "    <tr>\n",
       "      <th>357</th>\n",
       "      <td>Data Scientist (Multiple Levels)</td>\n",
       "      <td>POSITION OBJECTIVE Data scientists interpret a...</td>\n",
       "      <td>[POSITION, OBJECTIVE, Data, scientist, interpr...</td>\n",
       "    </tr>\n",
       "    <tr>\n",
       "      <th>329</th>\n",
       "      <td>Metagenomics Data Scientist (Scientist I/II)</td>\n",
       "      <td>Company Overview The complex ecosystem of bact...</td>\n",
       "      <td>[company, Overview, the, complex, ecosystem, o...</td>\n",
       "    </tr>\n",
       "    <tr>\n",
       "      <th>189</th>\n",
       "      <td>Data Scientist - Washington DC</td>\n",
       "      <td>Part-timeQxBranch is seeking a talented data s...</td>\n",
       "      <td>[Part, timeQxBranch, be, seek, a, talented, da...</td>\n",
       "    </tr>\n",
       "    <tr>\n",
       "      <th>217</th>\n",
       "      <td>Senior Business Intelligence Data Engineer</td>\n",
       "      <td>Senior Business Intelligence Data Engineer Roc...</td>\n",
       "      <td>[Senior, Business, Intelligence, Data, Enginee...</td>\n",
       "    </tr>\n",
       "    <tr>\n",
       "      <th>140</th>\n",
       "      <td>Data Scientist</td>\n",
       "      <td>*****Only local candidates will be consider fo...</td>\n",
       "      <td>[only, local, candidate, will, be, consider, f...</td>\n",
       "    </tr>\n",
       "  </tbody>\n",
       "</table>\n",
       "</div>"
      ],
      "text/plain": [
       "                                                 title  \\\n",
       "127                           Associate Data Scientist   \n",
       "9                             Data Scientist, Lifecyle   \n",
       "312  Undergraduate Internship/Co-op Program - Data ...   \n",
       "379                                     Data Scientist   \n",
       "159                                     Data Scientist   \n",
       "357                   Data Scientist (Multiple Levels)   \n",
       "329       Metagenomics Data Scientist (Scientist I/II)   \n",
       "189                     Data Scientist - Washington DC   \n",
       "217         Senior Business Intelligence Data Engineer   \n",
       "140                                     Data Scientist   \n",
       "\n",
       "                                           description  \\\n",
       "127  null Associate Data Scientist     Ten-X Commer...   \n",
       "9    Slack is hiring experienced data scientists to...   \n",
       "312  $21.93 - $26.43 an hourInternshipAs a Data Sci...   \n",
       "379  ClassDojo's vision is to create a modern educa...   \n",
       "159  Experiment engineers will be expected to help ...   \n",
       "357  POSITION OBJECTIVE Data scientists interpret a...   \n",
       "329  Company Overview The complex ecosystem of bact...   \n",
       "189  Part-timeQxBranch is seeking a talented data s...   \n",
       "217  Senior Business Intelligence Data Engineer Roc...   \n",
       "140  *****Only local candidates will be consider fo...   \n",
       "\n",
       "                                                tokens  \n",
       "127  [null, Associate, Data, Scientist,     , ten, ...  \n",
       "9    [Slack, be, hire, experienced, datum, scientis...  \n",
       "312  [$, 21.93, $, 26.43, an, hourInternshipAs, a, ...  \n",
       "379  [ClassDojo, 's, vision, be, to, create, a, mod...  \n",
       "159  [experiment, engineer, will, be, expect, to, h...  \n",
       "357  [POSITION, OBJECTIVE, Data, scientist, interpr...  \n",
       "329  [company, Overview, the, complex, ecosystem, o...  \n",
       "189  [Part, timeQxBranch, be, seek, a, talented, da...  \n",
       "217  [Senior, Business, Intelligence, Data, Enginee...  \n",
       "140  [only, local, candidate, will, be, consider, f...  "
      ]
     },
     "execution_count": 11,
     "metadata": {},
     "output_type": "execute_result"
    }
   ],
   "source": [
    "# Let's define the stop words, omit data science.\n",
    "nlp = spacy.load(\"en_core_web_lg\")\n",
    "stop_words = nlp.Defaults.stop_words.union(['data', 'science'])\n",
    "\n",
    "# Tokenize it.\n",
    "df['tokens'] = df['description'].apply(lambda x: [token.lemma_ for token in nlp(x) \n",
    "                                                  if (token not in stop_words)\n",
    "                                                 and (token.is_punct !=True)])\n",
    "df.sample(10)"
   ]
  },
  {
   "cell_type": "markdown",
   "metadata": {
    "colab_type": "text",
    "id": "-lgCZNL_YycP"
   },
   "source": [
    "## 3) Use Scikit-Learn's CountVectorizer to get word counts for each listing."
   ]
  },
  {
   "cell_type": "code",
   "execution_count": 13,
   "metadata": {
    "colab": {},
    "colab_type": "code",
    "id": "X2PZ8Pj_YxcF"
   },
   "outputs": [
    {
     "data": {
      "text/html": [
       "<div>\n",
       "<style scoped>\n",
       "    .dataframe tbody tr th:only-of-type {\n",
       "        vertical-align: middle;\n",
       "    }\n",
       "\n",
       "    .dataframe tbody tr th {\n",
       "        vertical-align: top;\n",
       "    }\n",
       "\n",
       "    .dataframe thead th {\n",
       "        text-align: right;\n",
       "    }\n",
       "</style>\n",
       "<table border=\"1\" class=\"dataframe\">\n",
       "  <thead>\n",
       "    <tr style=\"text-align: right;\">\n",
       "      <th></th>\n",
       "      <th>00</th>\n",
       "      <th>000</th>\n",
       "      <th>02115</th>\n",
       "      <th>03</th>\n",
       "      <th>0356</th>\n",
       "      <th>04</th>\n",
       "      <th>05</th>\n",
       "      <th>062</th>\n",
       "      <th>06366</th>\n",
       "      <th>08</th>\n",
       "      <th>...</th>\n",
       "      <th>zero</th>\n",
       "      <th>zeus</th>\n",
       "      <th>zf</th>\n",
       "      <th>zheng</th>\n",
       "      <th>zillow</th>\n",
       "      <th>zogsports</th>\n",
       "      <th>zones</th>\n",
       "      <th>zoom</th>\n",
       "      <th>zuckerberg</th>\n",
       "      <th>zurich</th>\n",
       "    </tr>\n",
       "  </thead>\n",
       "  <tbody>\n",
       "    <tr>\n",
       "      <th>0</th>\n",
       "      <td>0</td>\n",
       "      <td>0</td>\n",
       "      <td>0</td>\n",
       "      <td>0</td>\n",
       "      <td>0</td>\n",
       "      <td>0</td>\n",
       "      <td>0</td>\n",
       "      <td>0</td>\n",
       "      <td>0</td>\n",
       "      <td>0</td>\n",
       "      <td>...</td>\n",
       "      <td>0</td>\n",
       "      <td>0</td>\n",
       "      <td>0</td>\n",
       "      <td>0</td>\n",
       "      <td>0</td>\n",
       "      <td>0</td>\n",
       "      <td>0</td>\n",
       "      <td>0</td>\n",
       "      <td>0</td>\n",
       "      <td>0</td>\n",
       "    </tr>\n",
       "    <tr>\n",
       "      <th>1</th>\n",
       "      <td>0</td>\n",
       "      <td>0</td>\n",
       "      <td>0</td>\n",
       "      <td>0</td>\n",
       "      <td>0</td>\n",
       "      <td>0</td>\n",
       "      <td>0</td>\n",
       "      <td>0</td>\n",
       "      <td>0</td>\n",
       "      <td>0</td>\n",
       "      <td>...</td>\n",
       "      <td>0</td>\n",
       "      <td>0</td>\n",
       "      <td>0</td>\n",
       "      <td>0</td>\n",
       "      <td>0</td>\n",
       "      <td>0</td>\n",
       "      <td>0</td>\n",
       "      <td>0</td>\n",
       "      <td>0</td>\n",
       "      <td>0</td>\n",
       "    </tr>\n",
       "    <tr>\n",
       "      <th>2</th>\n",
       "      <td>0</td>\n",
       "      <td>0</td>\n",
       "      <td>0</td>\n",
       "      <td>0</td>\n",
       "      <td>0</td>\n",
       "      <td>0</td>\n",
       "      <td>0</td>\n",
       "      <td>0</td>\n",
       "      <td>0</td>\n",
       "      <td>0</td>\n",
       "      <td>...</td>\n",
       "      <td>0</td>\n",
       "      <td>0</td>\n",
       "      <td>0</td>\n",
       "      <td>0</td>\n",
       "      <td>0</td>\n",
       "      <td>0</td>\n",
       "      <td>0</td>\n",
       "      <td>0</td>\n",
       "      <td>0</td>\n",
       "      <td>0</td>\n",
       "    </tr>\n",
       "    <tr>\n",
       "      <th>3</th>\n",
       "      <td>0</td>\n",
       "      <td>0</td>\n",
       "      <td>0</td>\n",
       "      <td>0</td>\n",
       "      <td>0</td>\n",
       "      <td>0</td>\n",
       "      <td>0</td>\n",
       "      <td>0</td>\n",
       "      <td>0</td>\n",
       "      <td>0</td>\n",
       "      <td>...</td>\n",
       "      <td>0</td>\n",
       "      <td>0</td>\n",
       "      <td>0</td>\n",
       "      <td>1</td>\n",
       "      <td>0</td>\n",
       "      <td>0</td>\n",
       "      <td>0</td>\n",
       "      <td>0</td>\n",
       "      <td>0</td>\n",
       "      <td>0</td>\n",
       "    </tr>\n",
       "    <tr>\n",
       "      <th>4</th>\n",
       "      <td>0</td>\n",
       "      <td>0</td>\n",
       "      <td>0</td>\n",
       "      <td>0</td>\n",
       "      <td>0</td>\n",
       "      <td>0</td>\n",
       "      <td>0</td>\n",
       "      <td>0</td>\n",
       "      <td>0</td>\n",
       "      <td>0</td>\n",
       "      <td>...</td>\n",
       "      <td>0</td>\n",
       "      <td>0</td>\n",
       "      <td>0</td>\n",
       "      <td>0</td>\n",
       "      <td>0</td>\n",
       "      <td>0</td>\n",
       "      <td>0</td>\n",
       "      <td>0</td>\n",
       "      <td>0</td>\n",
       "      <td>0</td>\n",
       "    </tr>\n",
       "  </tbody>\n",
       "</table>\n",
       "<p>5 rows × 8732 columns</p>\n",
       "</div>"
      ],
      "text/plain": [
       "   00  000  02115  03  0356  04  05  062  06366  08  ...  zero  zeus  zf  \\\n",
       "0   0    0      0   0     0   0   0    0      0   0  ...     0     0   0   \n",
       "1   0    0      0   0     0   0   0    0      0   0  ...     0     0   0   \n",
       "2   0    0      0   0     0   0   0    0      0   0  ...     0     0   0   \n",
       "3   0    0      0   0     0   0   0    0      0   0  ...     0     0   0   \n",
       "4   0    0      0   0     0   0   0    0      0   0  ...     0     0   0   \n",
       "\n",
       "   zheng  zillow  zogsports  zones  zoom  zuckerberg  zurich  \n",
       "0      0       0          0      0     0           0       0  \n",
       "1      0       0          0      0     0           0       0  \n",
       "2      0       0          0      0     0           0       0  \n",
       "3      1       0          0      0     0           0       0  \n",
       "4      0       0          0      0     0           0       0  \n",
       "\n",
       "[5 rows x 8732 columns]"
      ]
     },
     "execution_count": 13,
     "metadata": {},
     "output_type": "execute_result"
    }
   ],
   "source": [
    "count_vect = CountVectorizer()\n",
    "\n",
    "dtm = count_vect.fit_transform(df['description'])\n",
    "dtm_df = pd.DataFrame(dtm.todense(), columns=count_vect.get_feature_names())\n",
    "dtm_df.head()"
   ]
  },
  {
   "cell_type": "markdown",
   "metadata": {
    "colab_type": "text",
    "id": "Zo1iH_UeY7_n"
   },
   "source": [
    "## 4) Visualize the most common word counts"
   ]
  },
  {
   "cell_type": "code",
   "execution_count": 14,
   "metadata": {
    "colab": {},
    "colab_type": "code",
    "id": "M5LB00uyZKV5"
   },
   "outputs": [
    {
     "data": {
      "image/png": "[encoded data removed]",
      "text/plain": [
       "<Figure size 432x288 with 1 Axes>"
      ]
     },
     "metadata": {
      "needs_background": "light"
     },
     "output_type": "display_data"
    }
   ],
   "source": [
    "import squarify\n",
    "\n",
    "word_ranks = dtm_df.sum().sort_values(ascending=False)\n",
    "squarify.plot(sizes=word_ranks.values[:25], label=word_ranks.index[:25], alpha=0.8)\n",
    "plt.axis('off')\n",
    "plt.show();"
   ]
  },
  {
   "cell_type": "markdown",
   "metadata": {
    "colab_type": "text",
    "id": "bwFsTqrVZMYi"
   },
   "source": [
    "## 5) Use Scikit-Learn's tfidfVectorizer to get a TF-IDF feature matrix"
   ]
  },
  {
   "cell_type": "code",
   "execution_count": 15,
   "metadata": {
    "colab": {},
    "colab_type": "code",
    "id": "-gx2gZCbl5Np"
   },
   "outputs": [
    {
     "data": {
      "text/html": [
       "<div>\n",
       "<style scoped>\n",
       "    .dataframe tbody tr th:only-of-type {\n",
       "        vertical-align: middle;\n",
       "    }\n",
       "\n",
       "    .dataframe tbody tr th {\n",
       "        vertical-align: top;\n",
       "    }\n",
       "\n",
       "    .dataframe thead th {\n",
       "        text-align: right;\n",
       "    }\n",
       "</style>\n",
       "<table border=\"1\" class=\"dataframe\">\n",
       "  <thead>\n",
       "    <tr style=\"text-align: right;\">\n",
       "      <th></th>\n",
       "      <th>00</th>\n",
       "      <th>000</th>\n",
       "      <th>02115</th>\n",
       "      <th>03</th>\n",
       "      <th>0356</th>\n",
       "      <th>04</th>\n",
       "      <th>05</th>\n",
       "      <th>062</th>\n",
       "      <th>06366</th>\n",
       "      <th>08</th>\n",
       "      <th>...</th>\n",
       "      <th>zero</th>\n",
       "      <th>zeus</th>\n",
       "      <th>zf</th>\n",
       "      <th>zheng</th>\n",
       "      <th>zillow</th>\n",
       "      <th>zogsports</th>\n",
       "      <th>zones</th>\n",
       "      <th>zoom</th>\n",
       "      <th>zuckerberg</th>\n",
       "      <th>zurich</th>\n",
       "    </tr>\n",
       "  </thead>\n",
       "  <tbody>\n",
       "    <tr>\n",
       "      <th>0</th>\n",
       "      <td>0.0</td>\n",
       "      <td>0.0</td>\n",
       "      <td>0.0</td>\n",
       "      <td>0.0</td>\n",
       "      <td>0.0</td>\n",
       "      <td>0.0</td>\n",
       "      <td>0.0</td>\n",
       "      <td>0.0</td>\n",
       "      <td>0.0</td>\n",
       "      <td>0.0</td>\n",
       "      <td>...</td>\n",
       "      <td>0.0</td>\n",
       "      <td>0.0</td>\n",
       "      <td>0.0</td>\n",
       "      <td>0.000000</td>\n",
       "      <td>0.0</td>\n",
       "      <td>0.0</td>\n",
       "      <td>0.0</td>\n",
       "      <td>0.0</td>\n",
       "      <td>0.0</td>\n",
       "      <td>0.0</td>\n",
       "    </tr>\n",
       "    <tr>\n",
       "      <th>1</th>\n",
       "      <td>0.0</td>\n",
       "      <td>0.0</td>\n",
       "      <td>0.0</td>\n",
       "      <td>0.0</td>\n",
       "      <td>0.0</td>\n",
       "      <td>0.0</td>\n",
       "      <td>0.0</td>\n",
       "      <td>0.0</td>\n",
       "      <td>0.0</td>\n",
       "      <td>0.0</td>\n",
       "      <td>...</td>\n",
       "      <td>0.0</td>\n",
       "      <td>0.0</td>\n",
       "      <td>0.0</td>\n",
       "      <td>0.000000</td>\n",
       "      <td>0.0</td>\n",
       "      <td>0.0</td>\n",
       "      <td>0.0</td>\n",
       "      <td>0.0</td>\n",
       "      <td>0.0</td>\n",
       "      <td>0.0</td>\n",
       "    </tr>\n",
       "    <tr>\n",
       "      <th>2</th>\n",
       "      <td>0.0</td>\n",
       "      <td>0.0</td>\n",
       "      <td>0.0</td>\n",
       "      <td>0.0</td>\n",
       "      <td>0.0</td>\n",
       "      <td>0.0</td>\n",
       "      <td>0.0</td>\n",
       "      <td>0.0</td>\n",
       "      <td>0.0</td>\n",
       "      <td>0.0</td>\n",
       "      <td>...</td>\n",
       "      <td>0.0</td>\n",
       "      <td>0.0</td>\n",
       "      <td>0.0</td>\n",
       "      <td>0.000000</td>\n",
       "      <td>0.0</td>\n",
       "      <td>0.0</td>\n",
       "      <td>0.0</td>\n",
       "      <td>0.0</td>\n",
       "      <td>0.0</td>\n",
       "      <td>0.0</td>\n",
       "    </tr>\n",
       "    <tr>\n",
       "      <th>3</th>\n",
       "      <td>0.0</td>\n",
       "      <td>0.0</td>\n",
       "      <td>0.0</td>\n",
       "      <td>0.0</td>\n",
       "      <td>0.0</td>\n",
       "      <td>0.0</td>\n",
       "      <td>0.0</td>\n",
       "      <td>0.0</td>\n",
       "      <td>0.0</td>\n",
       "      <td>0.0</td>\n",
       "      <td>...</td>\n",
       "      <td>0.0</td>\n",
       "      <td>0.0</td>\n",
       "      <td>0.0</td>\n",
       "      <td>0.106249</td>\n",
       "      <td>0.0</td>\n",
       "      <td>0.0</td>\n",
       "      <td>0.0</td>\n",
       "      <td>0.0</td>\n",
       "      <td>0.0</td>\n",
       "      <td>0.0</td>\n",
       "    </tr>\n",
       "    <tr>\n",
       "      <th>4</th>\n",
       "      <td>0.0</td>\n",
       "      <td>0.0</td>\n",
       "      <td>0.0</td>\n",
       "      <td>0.0</td>\n",
       "      <td>0.0</td>\n",
       "      <td>0.0</td>\n",
       "      <td>0.0</td>\n",
       "      <td>0.0</td>\n",
       "      <td>0.0</td>\n",
       "      <td>0.0</td>\n",
       "      <td>...</td>\n",
       "      <td>0.0</td>\n",
       "      <td>0.0</td>\n",
       "      <td>0.0</td>\n",
       "      <td>0.000000</td>\n",
       "      <td>0.0</td>\n",
       "      <td>0.0</td>\n",
       "      <td>0.0</td>\n",
       "      <td>0.0</td>\n",
       "      <td>0.0</td>\n",
       "      <td>0.0</td>\n",
       "    </tr>\n",
       "  </tbody>\n",
       "</table>\n",
       "<p>5 rows × 8477 columns</p>\n",
       "</div>"
      ],
      "text/plain": [
       "    00  000  02115   03  0356   04   05  062  06366   08  ...  zero  zeus  \\\n",
       "0  0.0  0.0    0.0  0.0   0.0  0.0  0.0  0.0    0.0  0.0  ...   0.0   0.0   \n",
       "1  0.0  0.0    0.0  0.0   0.0  0.0  0.0  0.0    0.0  0.0  ...   0.0   0.0   \n",
       "2  0.0  0.0    0.0  0.0   0.0  0.0  0.0  0.0    0.0  0.0  ...   0.0   0.0   \n",
       "3  0.0  0.0    0.0  0.0   0.0  0.0  0.0  0.0    0.0  0.0  ...   0.0   0.0   \n",
       "4  0.0  0.0    0.0  0.0   0.0  0.0  0.0  0.0    0.0  0.0  ...   0.0   0.0   \n",
       "\n",
       "    zf     zheng  zillow  zogsports  zones  zoom  zuckerberg  zurich  \n",
       "0  0.0  0.000000     0.0        0.0    0.0   0.0         0.0     0.0  \n",
       "1  0.0  0.000000     0.0        0.0    0.0   0.0         0.0     0.0  \n",
       "2  0.0  0.000000     0.0        0.0    0.0   0.0         0.0     0.0  \n",
       "3  0.0  0.106249     0.0        0.0    0.0   0.0         0.0     0.0  \n",
       "4  0.0  0.000000     0.0        0.0    0.0   0.0         0.0     0.0  \n",
       "\n",
       "[5 rows x 8477 columns]"
      ]
     },
     "execution_count": 15,
     "metadata": {},
     "output_type": "execute_result"
    }
   ],
   "source": [
    "# Instantiate vectorizor.\n",
    "\n",
    "tfidf = TfidfVectorizer(stop_words = 'english')\n",
    "\n",
    "dtm_tfidf = tfidf.fit_transform(df['description'])\n",
    "dtm_tfidf_df = pd.DataFrame(dtm_tfidf.todense(), columns=tfidf.get_feature_names())\n",
    "\n",
    "dtm_tfidf_df.head()"
   ]
  },
  {
   "cell_type": "markdown",
   "metadata": {},
   "source": [
    "## 6) Create a NearestNeighbor Model. Write the description of your ideal datascience job and query your job listings. "
   ]
  },
  {
   "cell_type": "code",
   "execution_count": 17,
   "metadata": {
    "collapsed": false,
    "inputHidden": false,
    "jupyter": {
     "outputs_hidden": false
    },
    "outputHidden": false
   },
   "outputs": [],
   "source": [
    "from sklearn.neighbors import NearestNeighbors\n",
    "\n",
    "# Fit on DTM.\n",
    "nn = NearestNeighbors(n_neighbors=5, algorithm='kd_tree')\n",
    "nn.fit(dtm_tfidf_df)\n",
    "\n",
    "# My ideal job description in Data Science.\n",
    "\n",
    "job_desc = [\"\"\"\n",
    "My ideal job would be working in the sports field. Recently in many sports, teams have been looking for ways to better analyze their players.\n",
    "I have an interest in rational thinking, automation, data visualisation, machine learning, and association football. Recently in the football/soccer world,\n",
    "clubs needed to see graphs & other visualizations to see how players were lacking in positions & where players excelled in their own clubs and in others\n",
    "for transfers that they were interested in... therefore, I became interested in how people were behind the scenes displaying these graphs and how \n",
    "they got their stats. I would be extremely satisfied knowing that I was part of such a breakthrough in the new way of viewing the sport of football/soccer. \n",
    "\"\"\"]"
   ]
  },
  {
   "cell_type": "code",
   "execution_count": 18,
   "metadata": {},
   "outputs": [],
   "source": [
    "query = tfidf.transform(job_desc)\n"
   ]
  },
  {
   "cell_type": "code",
   "execution_count": 19,
   "metadata": {},
   "outputs": [
    {
     "data": {
      "text/plain": [
       "<1x8477 sparse matrix of type '<class 'numpy.float64'>'\n",
       "\twith 38 stored elements in Compressed Sparse Row format>"
      ]
     },
     "execution_count": 19,
     "metadata": {},
     "output_type": "execute_result"
    }
   ],
   "source": [
    "query\n"
   ]
  },
  {
   "cell_type": "code",
   "execution_count": 20,
   "metadata": {},
   "outputs": [
    {
     "data": {
      "text/plain": [
       "(array([[1.34564249, 1.35558612, 1.36086413, 1.36086413, 1.37037353]]),\n",
       " array([[185, 154, 156,  41, 388]], dtype=int64))"
      ]
     },
     "execution_count": 20,
     "metadata": {},
     "output_type": "execute_result"
    }
   ],
   "source": [
    "# Use NN to find closest fit\n",
    "\n",
    "nn.kneighbors(query.todense())"
   ]
  },
  {
   "cell_type": "code",
   "execution_count": 22,
   "metadata": {},
   "outputs": [
    {
     "data": {
      "text/plain": [
       "\"Full-time Position  The Senior Data Scientist will be a skilled problem solver who has a passion for utilizing data to drive business decisions and interest in driving the sports industry forward. The position will involve working closely with the analytics and business intelligence teams for the planning, execution, and delivery of all KAGR analytics and data science products. Products may include a variety of predictive models, marketing analytics, forecasting, development of sales and business analytics, etc. Additionally, the Senior Data Scientist will be responsible for building new expertise within the Analytics & Data Science team through training and product R&D. The Company Kraft Analytics Group (KAGR) is technology and services company comprised of a brilliant group of data science and data analytics professionals who are at the top of their game in the sports and entertainment industry. This company is all about data-driven decision making that focuses on growing the bottom line. They leverage their proprietary technology platform to power clients across the major U.S. sports leagues, college athletics. This environment is innovative, technically stimulating, fast-paced and exciting. From the inspirational leadership of CEO Jessica Gelman, the basketball court conference room to the and the office view that overlooks Gillette Stadium, everything about this culture is high-energy. Duties & Responsibilities Build tools to scrape, compile, standardize, and analyze data sets Research, design and prototype scalable models based on machine learning, data mining, and statistical modeling Synthesis and present meaningful insights and recommendations to internal and external stakeholders Maintain and document all work associated to analyses and data science products Develop standard approach to model automation & integrate models into KAGR visualizations Contribute to marketing analytics and advanced market research efforts Collaborate with cross-functional groups and create custom solutions as needed Evaluate new technology opportunities and gaps Maintain domain expertise relevant to industry standards and best practices Train Analytics & Data Science team members on cutting edge techniques and technologies Supervisory Responsibilities This position has no supervisory responsibilities. Skills & Qualifications Master   s Degree in Statistics, Economics, Mathematics, Computer Science, Data Science, or quantitative discipline + years    experience utilizing data science techniques (Supervised, Unsupervised, Time Series, Forecasting, Modeling, etc.) to solve business problems with large data sets Expertise in Excel, SQL, and R and/or Python required Experience developing and putting Machine Learning Algorithms into production Understanding and willingness to continue learning advanced statistical analysis and modeling Ability to present complex data sets and analysis in easy to understand ways Excellent analytical and problem-solving skills Ability to work within a diverse team and serve a variety of stakeholders with different priorities Outstanding organizational skills and attention to detail Ability and willingness to train and coach junior team members on data science techniques Strong project management skills and knowledge of Data Analytics Lifecycle Experience with Reinforcement Learning, Association Rules, Natural Language Processing preferred Experience with AWS, or other major Machine Learning tools designed for handling Big Data preferred Experience with data extraction via Web Scraping preferred Physical Demands Sitting for extended periods of time Dexterity of hands and fingers to operate a computer keyboard, mouse, and other computing equipment The employee frequently is required to talk or hear The employee is occasionally required to reach with hands and arms Specific vision abilities required by this job include close vision, distance vision, color vision, peripheral vision, depth perception, and ability to adjust focus Reasonable accommodations may be made to enable individuals with disabilities to perform the essential functions Work Environment The noise level in the work environment is usually moderate Fast paced office environment Certificates, Licenses, Registrations None required Other Duties Please note this job description is not designed to cover or contain a comprehensive listing of activities, duties or responsibilities that are required of the employee for this job. Duties, responsibilities and activities may change at any time with or without notice.  This company is an equal opportunity employer. We evaluate qualified applicants without regard to race, color, religion, sex, sexual orientation, gender identity, national origin, disability, veteran status, and other legally protected characteristics.'\""
      ]
     },
     "execution_count": 22,
     "metadata": {},
     "output_type": "execute_result"
    }
   ],
   "source": [
    "# Closest results.\n",
    "\n",
    "df.loc[185]['description']"
   ]
  },
  {
   "cell_type": "code",
   "execution_count": 27,
   "metadata": {},
   "outputs": [
    {
     "data": {
      "text/plain": [
       "\"Job Description  Tasks: Reports to the BAT Architect to develop tools to model marketing attribution, growth, and fraud analysis models. Ships running code implementing these to Operations.  Skills & Experience: Experience in machine learning, quantitative analysis Experience in knowledge graphs, statistical relational learning, trends-driven analysis Experience in modelling both structured and unstructured data Excellent skills in C++, Python Excellent skills in Postgres Excellent skills in AWS, MapReduce Ability to work/report remotely  Bonus Points: Advanced degree in Mathematics or related Field'\""
      ]
     },
     "execution_count": 27,
     "metadata": {},
     "output_type": "execute_result"
    }
   ],
   "source": [
    "# Closest results.\n",
    "\n",
    "df.loc[154]['description']"
   ]
  },
  {
   "cell_type": "code",
   "execution_count": 25,
   "metadata": {},
   "outputs": [
    {
     "data": {
      "text/plain": [
       "\"Inscape (an Affiliate of VIZIO Inc.) is an industry leader in advertising solutions through automatic content recognition. We capture live viewing data from content sources across millions of Smart TVs and devices. Our comprehensive metrics deliver highly accurate, cross-platform viewing behavior. We enable advertisers and content producers with important insights that help them develop a deeper understanding of audiences, make more intelligent ad-buying decisions and be better prepared for changes in the market place. Inscape (an Affiliate of VIZIO Inc.) is an industry leader in advertising solutions through automatic content recognition. We capture live viewing data from content sources across millions of Smart TVs and devices. Our comprehensive metrics deliver highly accurate, cross-platform viewing behavior. We enable advertisers and content producers with important insights that help them develop a deeper understanding of audiences, make more intelligent ad-buying decisions and be better prepared for changes in the market place. We are currently seeking a Data Scientist to be based in our San Francisco, CA offices.  The Data Scientist will be responsible for designing, developing algorithms, programs, methods, processes, and systems to consolidate and analyze structured and unstructured, diverse    big data    sources to generate actionable insights and solutions for client services and product enhancement.  The Data Scientist will: Be responsible for designing, developing algorithms, programs, methods, and processes. Be responsible for designing systems to consolidate and analyze structured and unstructured, diverse    big data    sources to generate actionable insights and solutions for client services and product enhancement. Explore a data set previously unavailable at such scale or granularity. Be responsible for data visualization, report creation, and dash-boarding. Research, develop, and test supervised and unsupervised learning models.  Requirements:  Bachelor   s Degree required in a quantitative discipline such as Statistics, Engineering, Computer Science, Applied Mathematics, etc. Master   s Degree preferred. + years of relevant work related experience working with large data sets Strong data analytics skills. Demonstrated proficiency with SQL, Python, and R. Ability to understand business problems, draw conclusions from data and recommend actions on how best to solve these problems. Experience with TV viewing data, the TV industry. Ad Tech Industry experience is a plus. Excellent communications skills, ability to document requirements and work collaboratively. Self-starter, willing to get hands dirty with own products, and    make it work     Required Skills: Advanced SQL, ideally on Redshift Data visualization, report creation, and dashboarding Ability to research, develop, and test supervised and unsupervised learning models Experience with other data analysis tools such as Tableau and Spark Professional/polished communicator Team player Extremely detail oriented and organized Resourceful Enthusiastic and positive Maintains an extreme high level of confidentiality Ability to catch on quickly and thrive in a very fast paced environment Professional demeanor with a very high level of integrity Inscape Data, Inc, a subsidiary of VIZIO, Inc. offers excellent career opportunity as well as a competitive compensation and benefits package. We are an equal opportunity, drug-free employer committed to diversity in the workplace. Minority/Female/Disabled/Protected Veteran'\""
      ]
     },
     "execution_count": 25,
     "metadata": {},
     "output_type": "execute_result"
    }
   ],
   "source": [
    "# Closest results.\n",
    "\n",
    "df.loc[41]['description']"
   ]
  },
  {
   "cell_type": "code",
   "execution_count": 26,
   "metadata": {},
   "outputs": [
    {
     "data": {
      "text/plain": [
       "'POSITION SUMMARY Looking for opportunities to use cutting edge technologies analyzing petabytes of data in a world class Hadoop cluster, generating insights to guide consumers in their journey to wellness and help them achieve their health ambitions, whether its playing tackle football with their grandkids or running the Inca Trail Marathon? Aetnas Provider & Network Analytics team is focused on delivering strategically-impactful programs and tools to effectively partner with healthcare providers to help members across all life stages feel the joy of achieving their best health, in their own way.  Provides strategic leadership for the development, validation and delivery of algorithms, statistical models and reporting tools. Acts as the analytic team lead for highly complex projects involving multiple resources and tasks, providing individual mentoring in support of company objectives.  Fundamental Components: Leads development and execution of new and/or highly complex algorithms and statistical predictive models and determines analytical approaches and modeling techniques to evaluate scenarios and potential future outcomes. Establishes analytical rigor and statistical methods to analyze large amounts of data, using advanced statistical techniques and mathematical analyses. Manages highly complex analytical projects from data exploration, model building, performance evaluation and testing. Applies in-depth knowledge of systems and products to consult and advise on additional efforts across organization/enterprise. Motivates team members and probes into technical details, and mentors others to do the same. Provides thought leadership and direction for analytic solutions, tools and studies. Anticipates and solves strategic and high risk business problems with broad impact on the business area by applying leading-edge theories and techniques to investigate problems, detect patterns and recommend solutions. Provides guidance to develop enterprise-wide analytics strategy and roadmap. Interacts with internal and external peers and management to share highly complex information/solutions related to areas of expertise and/or to gain acceptance of new or enhanced technology/ business solutions.  BACKGROUND/EXPERIENCE desired:  or more years of progressively complex related experience. Demonstrates advanced in-depth specialization in mathematical analysis methods, machine learning, statistical analyses, and predictive modeling. Comprehensive knowledge on health care industry, products, systems, business strategies and products. Expertise in innovating and implementing novel machine learning techniques. Expertise in advanced analytics tools and languages to analyze large data sets from multiple data sources. Superior skills to effectively communicate and negotiate across the business and in the external health care environment. Superior ability to communicate technical ideas and results to non-technical clients in written and verbal form. Strong organizational, management and leadership skills. Excellent analytical and problem solving skills.  EDUCATION The highest level of education desired for candidates in this position is a Master\\'s degree.  ADDITIONAL JOB INFORMATION Aetna is about more than just doing a job. This is our opportunity to re-shape healthcare for America and across the globe. We are developing solutions to improve the quality and affordability of healthcare. What we do will benefit generations to come.  We care about each other, our customers and our communities. We are inspired to make a difference, and we are committed to integrity and excellence.  Together we will empower people to live healthier lives.  Aetna is an equal opportunity & affirmative action employer. All qualified applicants will receive consideration for employment regardless of personal characteristics or status. We take affirmative action to recruit, select and develop women, people of color, veterans and individuals with disabilities.  We are a company built on excellence. We have a culture that values growth, achievement and diversity and a workplace where your voice can be heard.  Benefit eligibility may vary by position. Click here to review the benefits associated with this position.  Aetna takes our candidates\\'s data privacy seriously. At no time will any Aetna recruiter or employee request any financial or personal information (Social Security Number, Credit card information for direct deposit, etc.) from you via e-mail. Any requests for information will be discussed prior and will be conducted through a secure website provided by the recruiter. Should you be asked for such information, please notify us immediately. 490\"'"
      ]
     },
     "execution_count": 26,
     "metadata": {},
     "output_type": "execute_result"
    }
   ],
   "source": [
    "# Closest results.\n",
    "\n",
    "df.loc[388]['description']"
   ]
  },
  {
   "cell_type": "code",
   "execution_count": null,
   "metadata": {},
   "outputs": [],
   "source": [
    "# This is actually really cool. My first result was a pretty accurate description which made me excited for the future and what is ahead."
   ]
  },
  {
   "cell_type": "markdown",
   "metadata": {
    "colab_type": "text",
    "id": "FiDfTWceoRkH"
   },
   "source": [
    "## Stretch Goals\n",
    "\n",
    " - Try different visualizations for words and frequencies - what story do you want to tell with the data?\n",
    " - Scrape Job Listings for the job title \"Data Analyst\". How do these differ from Data Scientist Job Listings\n",
    " - Try and identify requirements for experience specific technologies that are asked for in the job listings. How are those distributed among the job listings?\n",
    " - Use a clustering algorithm to cluster documents by their most important terms. Do the clusters reveal any common themes?\n",
    "  - **Hint:** K-means might not be the best algorithm for this. Do a little bit of research to see what might be good for this. Also, remember that algorithms that depend on Euclidean distance break down with high dimensional data.\n",
    " - Create a labeled dataset - which jobs will you apply for? Train a model to select the jobs you are most likely to apply for. :) "
   ]
  }
 ],
 "metadata": {
  "colab": {
   "collapsed_sections": [],
   "name": "LS_DS_422_BOW_Assignment.ipynb",
   "provenance": [],
   "version": "0.3.2"
  },
  "kernel_info": {
   "name": "python3"
  },
  "kernelspec": {
   "display_name": "U4-S1-NLP (Python3)",
   "language": "python",
   "name": "u4-s1-nlp"
  },
  "language_info": {
   "codemirror_mode": {
    "name": "ipython",
    "version": 3
   },
   "file_extension": ".py",
   "mimetype": "text/x-python",
   "name": "python",
   "nbconvert_exporter": "python",
   "pygments_lexer": "ipython3",
   "version": "3.7.0"
  },
  "nteract": {
   "version": "0.14.3"
  }
 },
 "nbformat": 4,
 "nbformat_minor": 4
}
